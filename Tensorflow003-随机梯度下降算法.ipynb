{
 "cells": [
  {
   "cell_type": "markdown",
   "source": [
    "# 损失函数形态"
   ],
   "metadata": {
    "collapsed": false
   }
  },
  {
   "cell_type": "markdown",
   "source": [
    "如果损失函数并不是标准的凹函数, 而是如下图所示的多波段函数非凹函数："
   ],
   "metadata": {
    "collapsed": false
   }
  },
  {
   "cell_type": "markdown",
   "source": [
    "![image](http://wp.lampta.com:8000/wp-content/uploads/2022/02/image-58.png)"
   ],
   "metadata": {
    "collapsed": false
   }
  },
  {
   "cell_type": "markdown",
   "source": [
    "如果对这种函数使用普通的梯度下降，那么就很有可能会得到一个局部最小损失函数值："
   ],
   "metadata": {
    "collapsed": false
   }
  },
  {
   "cell_type": "markdown",
   "source": [
    "![image](http://wp.lampta.com:8000/wp-content/uploads/2022/02/ani.gif)"
   ],
   "metadata": {
    "collapsed": false
   }
  },
  {
   "cell_type": "markdown",
   "source": [
    "所以我们不能得到最正确的权重值"
   ],
   "metadata": {
    "collapsed": false
   }
  },
  {
   "cell_type": "markdown",
   "source": [
    "# 随机梯度下降"
   ],
   "metadata": {
    "collapsed": false
   }
  },
  {
   "cell_type": "markdown",
   "source": [
    "以预测考试成绩的案例为例子:"
   ],
   "metadata": {
    "collapsed": false
   }
  },
  {
   "cell_type": "markdown",
   "source": [
    "![](http://wp.lampta.com:8000/wp-content/uploads/2022/02/image-59.png)"
   ],
   "metadata": {
    "collapsed": false
   }
  },
  {
   "cell_type": "markdown",
   "source": [
    "## 批量梯度下降过程\n",
    "将1-8行数据都输入到同一个感知机里，得到8个y-hat, 然后用这8个预测值，执行损失函数的计算过程，测到C, 然后用C去修正权重"
   ],
   "metadata": {
    "collapsed": false
   }
  },
  {
   "cell_type": "markdown",
   "source": [
    "![](http://wp.lampta.com:8000/wp-content/uploads/2022/02/image-60-1024x440.png)"
   ],
   "metadata": {
    "collapsed": false
   }
  },
  {
   "cell_type": "markdown",
   "source": [
    "图中的8个感知机其实是8行数据输入到同一个感知机得到8个不同的预测值"
   ],
   "metadata": {
    "collapsed": false
   }
  },
  {
   "cell_type": "markdown",
   "source": [
    "## 随机梯度下降的过程"
   ],
   "metadata": {
    "collapsed": false
   }
  },
  {
   "cell_type": "markdown",
   "source": [
    "![](http://wp.lampta.com:8000/wp-content/uploads/2022/02/ani-2.gif)"
   ],
   "metadata": {
    "collapsed": false
   }
  },
  {
   "cell_type": "markdown",
   "source": [
    "采用随机梯度，会将每一行数据单独输入感知机，然后对这一行数据单独运用损失函数，计算出C，然后用C去修正权重；\n",
    "每一行数据都会调整一次权重"
   ],
   "metadata": {
    "collapsed": false
   }
  },
  {
   "cell_type": "markdown",
   "source": [
    "## 批量梯度与随机梯度的比较"
   ],
   "metadata": {
    "collapsed": false
   }
  },
  {
   "cell_type": "markdown",
   "source": [
    "![](http://wp.lampta.com:8000/wp-content/uploads/2022/02/image-61-1024x214.png)"
   ],
   "metadata": {
    "collapsed": false
   }
  },
  {
   "cell_type": "markdown",
   "source": [
    "随机梯度下降可以帮你避免选中局部极值，原因在于随机梯度(SGD)拥有更多的波动性，一次只做一次迭代，更有可能找到全局最小值\n",
    "实际上随机梯度比批量梯度运行速度更快，因为它不需要将所有数据一次性载入内存，不需要等待所有行的数据一起运行。"
   ],
   "metadata": {
    "collapsed": false
   }
  },
  {
   "cell_type": "markdown",
   "source": [
    "而批量梯度算法的有点是 它是一种确定性算法，不像随机梯度算法一样，具有随机性。"
   ],
   "metadata": {
    "collapsed": false
   }
  },
  {
   "cell_type": "markdown",
   "source": [
    "## 小批量随机梯度下降法"
   ],
   "metadata": {
    "collapsed": false
   }
  },
  {
   "cell_type": "markdown",
   "source": [
    "这种算法结合了上面两种算法，既不是一次性批量执行，也不是逐行执行\n",
    "它可能每次运行5行 10行 100行"
   ],
   "metadata": {
    "collapsed": false
   }
  },
  {
   "cell_type": "markdown",
   "source": [
    "## 额外阅读"
   ],
   "metadata": {
    "collapsed": false
   }
  },
  {
   "cell_type": "markdown",
   "source": [
    "A Neural NetWork in 13 lines of Python(Part 2 - Gradient Descent)\n",
    "Andrew Trask(2015)\n",
    "\n",
    "链接: [A Neural NetWork in 13 lines of Python](https://iamtrask.github.io/2015/07/27/python-network-part2/)\n",
    "\n",
    "Neural Networks and Deep Learning\n",
    "\n",
    "Michael Nielsen(2015)\n",
    "\n",
    "链接: [Neural Networks and Deep Learning](http://neuralnetworksanddeeplearning.com/chap2.html)"
   ],
   "metadata": {
    "collapsed": false
   }
  }
 ],
 "metadata": {
  "kernelspec": {
   "display_name": "Python 3",
   "language": "python",
   "name": "python3"
  },
  "language_info": {
   "codemirror_mode": {
    "name": "ipython",
    "version": 2
   },
   "file_extension": ".py",
   "mimetype": "text/x-python",
   "name": "python",
   "nbconvert_exporter": "python",
   "pygments_lexer": "ipython2",
   "version": "2.7.6"
  }
 },
 "nbformat": 4,
 "nbformat_minor": 0
}