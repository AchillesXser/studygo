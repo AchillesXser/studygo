{
 "cells": [
  {
   "cell_type": "markdown",
   "metadata": {
    "collapsed": false
   },
   "source": [
    "# 损失函数形态"
   ]
  },
  {
   "cell_type": "markdown",
   "metadata": {
    "collapsed": false
   },
   "source": [
    "如果损失函数并不是标准的凹函数, 而是如下图所示的多波段函数非凹函数："
   ]
  },
  {
   "cell_type": "markdown",
   "metadata": {
    "collapsed": false
   },
   "source": [
    "![image](https://pic1.zhimg.com/80/v2-38674df5faa9394552db540814e443b9_720w.png)"
   ]
  },
  {
   "cell_type": "markdown",
   "metadata": {
    "collapsed": false
   },
   "source": [
    "如果对这种函数使用普通的梯度下降，那么就很有可能会得到一个局部最小损失函数值："
   ]
  },
  {
   "cell_type": "markdown",
   "metadata": {
    "collapsed": false
   },
   "source": [
    "![image](https://pica.zhimg.com/80/v2-fc330bf53cbaba3ca49b805ca524b58c_720w.gif)"
   ]
  },
  {
   "cell_type": "markdown",
   "metadata": {
    "collapsed": false
   },
   "source": [
    "所以我们不能得到最正确的权重值"
   ]
  },
  {
   "cell_type": "markdown",
   "metadata": {
    "collapsed": false
   },
   "source": [
    "# 随机梯度下降"
   ]
  },
  {
   "cell_type": "markdown",
   "metadata": {
    "collapsed": false
   },
   "source": [
    "以预测考试成绩的案例为例子:"
   ]
  },
  {
   "cell_type": "markdown",
   "metadata": {
    "collapsed": false
   },
   "source": [
    "![](https://pica.zhimg.com/80/v2-be71136ec3846abf01334a37b997c1df_720w.png)"
   ]
  },
  {
   "cell_type": "markdown",
   "metadata": {
    "collapsed": false
   },
   "source": [
    "## 批量梯度下降过程\n",
    "将1-8行数据都输入到同一个感知机里，得到8个y-hat, 然后用这8个预测值，执行损失函数的计算过程，测到C, 然后用C去修正权重"
   ]
  },
  {
   "cell_type": "markdown",
   "metadata": {
    "collapsed": false
   },
   "source": [
    "![](https://pic2.zhimg.com/80/v2-eda2d95c85095e68f3d85d1155c7c610_720w.png)"
   ]
  },
  {
   "cell_type": "markdown",
   "metadata": {
    "collapsed": false
   },
   "source": [
    "图中的8个感知机其实是8行数据输入到同一个感知机得到8个不同的预测值"
   ]
  },
  {
   "cell_type": "markdown",
   "metadata": {
    "collapsed": false
   },
   "source": [
    "## 随机梯度下降的过程"
   ]
  },
  {
   "cell_type": "markdown",
   "metadata": {
    "collapsed": false
   },
   "source": [
    "![](https://pic1.zhimg.com/80/v2-f3b3dec8f951757b0e9579e8b2a558dc_720w.gif)"
   ]
  },
  {
   "cell_type": "markdown",
   "metadata": {
    "collapsed": false
   },
   "source": [
    "采用随机梯度，会将每一行数据单独输入感知机，然后对这一行数据单独运用损失函数，计算出C，然后用C去修正权重；\n",
    "每一行数据都会调整一次权重"
   ]
  },
  {
   "cell_type": "markdown",
   "metadata": {
    "collapsed": false
   },
   "source": [
    "## 批量梯度与随机梯度的比较"
   ]
  },
  {
   "cell_type": "markdown",
   "metadata": {
    "collapsed": false
   },
   "source": [
    "![](https://pica.zhimg.com/80/v2-e6949aa724ced9553ee19891d46fb9a1_720w.png)"
   ]
  },
  {
   "cell_type": "markdown",
   "metadata": {
    "collapsed": false
   },
   "source": [
    "随机梯度下降可以帮你避免选中局部极值，原因在于随机梯度(SGD)拥有更多的波动性，一次只做一次迭代，更有可能找到全局最小值\n",
    "实际上随机梯度比批量梯度运行速度更快，因为它不需要将所有数据一次性载入内存，不需要等待所有行的数据一起运行。"
   ]
  },
  {
   "cell_type": "markdown",
   "metadata": {
    "collapsed": false
   },
   "source": [
    "而批量梯度算法的有点是 它是一种确定性算法，不像随机梯度算法一样，具有随机性。"
   ]
  },
  {
   "cell_type": "markdown",
   "metadata": {
    "collapsed": false
   },
   "source": [
    "## 小批量随机梯度下降法"
   ]
  },
  {
   "cell_type": "markdown",
   "metadata": {
    "collapsed": false
   },
   "source": [
    "这种算法结合了上面两种算法，既不是一次性批量执行，也不是逐行执行\n",
    "它可能每次运行5行 10行 100行"
   ]
  },
  {
   "cell_type": "markdown",
   "metadata": {
    "collapsed": false
   },
   "source": [
    "## 额外阅读"
   ]
  },
  {
   "cell_type": "markdown",
   "metadata": {
    "collapsed": false
   },
   "source": [
    "A Neural NetWork in 13 lines of Python(Part 2 - Gradient Descent)\n",
    "Andrew Trask(2015)\n",
    "\n",
    "链接: [A Neural NetWork in 13 lines of Python](https://iamtrask.github.io/2015/07/27/python-network-part2/)\n",
    "\n",
    "Neural Networks and Deep Learning\n",
    "\n",
    "Michael Nielsen(2015)\n",
    "\n",
    "链接: [Neural Networks and Deep Learning](http://neuralnetworksanddeeplearning.com/chap2.html)"
   ]
  }
 ],
 "metadata": {
  "kernelspec": {
   "display_name": "Python 3",
   "language": "python",
   "name": "python3"
  },
  "language_info": {
   "codemirror_mode": {
    "name": "ipython",
    "version": 2
   },
   "file_extension": ".py",
   "mimetype": "text/x-python",
   "name": "python",
   "nbconvert_exporter": "python",
   "pygments_lexer": "ipython2",
   "version": "2.7.6"
  }
 },
 "nbformat": 4,
 "nbformat_minor": 0
}
