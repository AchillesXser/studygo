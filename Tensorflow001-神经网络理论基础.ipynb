{
 "cells": [
  {
   "cell_type": "markdown",
   "source": [
    "<a href=\"https://colab.research.google.com/github/AchillesXser/studygo/blob/master/tensorflow%E7%AC%94%E8%AE%B0.ipynb\" target=\"_parent\"><img src=\"https://colab.research.google.com/assets/colab-badge.svg\" alt=\"Open In Colab\"/></a>"
   ],
   "metadata": {
    "collapsed": false
   }
  },
  {
   "cell_type": "markdown",
   "source": [
    "# 人工神经网络理论"
   ],
   "metadata": {
    "collapsed": false
   }
  },
  {
   "cell_type": "markdown",
   "source": [
    "本节内容：\n",
    "- 神经元(Neuron)\n",
    "- 激活函数(Activation Function)\n",
    "- 神经网络的工作原理\n",
    "- 了解神经网络是怎么学习的\n",
    "- 梯度下降算法(Gradient Descent)\n",
    "- 随机梯度下降算法(Stochastic Gradient Descent)\n",
    "- 反向传播算法(Backpropagation)"
   ],
   "metadata": {
    "collapsed": false
   }
  },
  {
   "cell_type": "markdown",
   "source": [
    "## 神经元\n"
   ],
   "metadata": {
    "collapsed": false
   }
  },
  {
   "cell_type": "markdown",
   "source": [
    "下图是神经元的玻璃切片，经过了染色，可以使用显微镜看清楚"
   ],
   "metadata": {
    "collapsed": false
   }
  },
  {
   "cell_type": "markdown",
   "source": [
    "![image.png](http://wp.lampta.com:8000/wp-content/uploads/2022/02/image-3.png)"
   ],
   "metadata": {
    "collapsed": false
   }
  },
  {
   "cell_type": "markdown",
   "source": [
    "深度学习的目标就是使用机器模拟神经元的工作机制，实现人类大脑的功能，使机器具备自我学习的功能。"
   ],
   "metadata": {
    "collapsed": false
   }
  },
  {
   "cell_type": "markdown",
   "source": [
    "## 一个神经元的图像描述"
   ],
   "metadata": {
    "collapsed": false
   }
  },
  {
   "cell_type": "markdown",
   "source": [
    "![image.png](http://wp.lampta.com:8000/wp-content/uploads/2022/02/image-4.png)"
   ],
   "metadata": {
    "collapsed": false
   }
  },
  {
   "cell_type": "markdown",
   "source": [
    "图示中共有两个神经元，他们向上可向下延伸"
   ],
   "metadata": {
    "collapsed": false
   }
  },
  {
   "cell_type": "markdown",
   "source": [
    "## 一个神经元的典型结构"
   ],
   "metadata": {
    "collapsed": false
   }
  },
  {
   "cell_type": "markdown",
   "source": [
    "![image.png](http://wp.lampta.com:8000/wp-content/uploads/2022/02/image-5.png)"
   ],
   "metadata": {
    "collapsed": false
   }
  },
  {
   "cell_type": "markdown",
   "source": [
    "Neuron 就是神经元的Body\n",
    "\n",
    "Dendrites 是神经元的树突\n",
    "\n",
    "Axon 是神经元的轴突\n",
    "\n"
   ],
   "metadata": {
    "collapsed": false
   }
  },
  {
   "cell_type": "markdown",
   "source": [
    "树突和轴突的作用可以用蚂蚁来类比：\n",
    "\n",
    "一个单一神经元(一只蚂蚁)，是没用的，它不可以构建一个蚁山，但是如果你有很多神经元连接在一起(一群蚂蚁)，那么它们就可以创造奇迹。\n",
    "\n",
    "树突和轴突就是起到连接的作用。\n",
    "\n",
    "树突就像是神经元的信号接收器。\n",
    "\n",
    "而轴突就像是神经元的信号发送器。"
   ],
   "metadata": {
    "collapsed": false
   }
  },
  {
   "cell_type": "markdown",
   "source": [
    "下图展示了两个连接的神经元之间的工作原理"
   ],
   "metadata": {
    "collapsed": false
   }
  },
  {
   "cell_type": "markdown",
   "source": [
    "![image.png](http://wp.lampta.com:8000/wp-content/uploads/2022/02/image-6.png)"
   ],
   "metadata": {
    "collapsed": false
   }
  },
  {
   "cell_type": "markdown",
   "source": [
    "上方的神经元，其树突与其他神经元相连接，信号从别的神经元的轴突传播给它的树突，然后它由通过自己的轴突，将信号传播给下方的神经元的树突。\n",
    "\n",
    "通过右侧的小图可以发现，轴突与树突并不是直接相连的，没有产生接触。\n",
    "\n",
    "它们之间的传播机制是“突触(Synapse)”。突触并不单独代表树突或轴突，它只是用来表示连接处的信号通过。"
   ],
   "metadata": {
    "collapsed": false
   }
  },
  {
   "cell_type": "markdown",
   "source": [
    "## 如何在机器/算法中表示一个神经元"
   ],
   "metadata": {
    "collapsed": false
   }
  },
  {
   "cell_type": "markdown",
   "source": [
    "我们用绿色原形表示一个神经元（Neuron），有时候也被称为节点(node)。"
   ],
   "metadata": {
    "collapsed": false
   }
  },
  {
   "cell_type": "markdown",
   "source": [
    "![image.png](http://wp.lampta.com:8000/wp-content/uploads/2022/02/image-7.png)"
   ],
   "metadata": {
    "collapsed": false
   }
  },
  {
   "cell_type": "markdown",
   "source": [
    "- 神经元接收信号，并产生输出信号"
   ],
   "metadata": {
    "collapsed": false
   }
  },
  {
   "cell_type": "markdown",
   "source": [
    "![image.png](http://wp.lampta.com:8000/wp-content/uploads/2022/02/image-8.png)"
   ],
   "metadata": {
    "collapsed": false
   }
  },
  {
   "cell_type": "markdown",
   "source": [
    "- 在机器学习中，我们不会把输入信号直接称为突触，我们讲把它们和其他神经元一起表示出来，下图中黄色圆圈代表其他的神经元。\n",
    "\n",
    "绿色的神经元从黄色神经元处接收到信号。\n",
    "\n",
    "这里的信号，就是输入的数值，对应函数的概念就是参数。比如函数输入某些参数值，通过线性回归模型(业务逻辑)，然后得到可预期的结果(预测值)\n",
    "\n",
    "在课程中，我们如此定义颜色：\n",
    "\n",
    "黄色： 输入层\n",
    "\n",
    "绿色： 当前神经元\n",
    "\n",
    "红色： 输出层"
   ],
   "metadata": {
    "collapsed": false
   }
  },
  {
   "cell_type": "markdown",
   "source": [
    "![image.png](http://wp.lampta.com:8000/wp-content/uploads/2022/02/image-9.png)"
   ],
   "metadata": {
    "collapsed": false
   }
  },
  {
   "cell_type": "markdown",
   "source": [
    "有些其他的信号，是从隐藏神经元接收的。也就是别的绿色的神经元，但机制是一样的。\n",
    "\n",
    "对于输入层，以你的大脑为例，输入层就是你的感官系统，负责信号接收。也就是你的五感。\n",
    "\n",
    "你能看到或接触到很多东西，这并不是你大脑直接做到的。人的大脑就像是待在一个箱子里的机器，它本身不能看、不能听、不能闻、不能触摸、不能感知味道，这些感觉是通过感官系统采集到的，然后通过电信号，发送到你的大脑。\n",
    "\n",
    "而这些感官系统，对应于机器学习或算法来说，就是输入的数据，即自变量。"
   ],
   "metadata": {
    "collapsed": false
   }
  },
  {
   "cell_type": "markdown",
   "source": [
    "## 信号（输入数据）通过突触传递给神经元"
   ],
   "metadata": {
    "collapsed": false
   }
  },
  {
   "cell_type": "markdown",
   "source": [
    "![image.png](http://wp.lampta.com:8000/wp-content/uploads/2022/02/image-10.png)"
   ],
   "metadata": {
    "collapsed": false
   }
  },
  {
   "cell_type": "markdown",
   "source": [
    "输入通过突触传递给神经元，然后神经元产生一个输出，并更进一步地向下传递。\n",
    "\n",
    "实际上，上图只是一个简化版本，还有一些隐藏层的存在。"
   ],
   "metadata": {
    "collapsed": false
   }
  },
  {
   "cell_type": "markdown",
   "source": [
    "## 输入层"
   ],
   "metadata": {
    "collapsed": false
   }
  },
  {
   "cell_type": "markdown",
   "source": [
    "输入层就是 X1...Xm 的输入值，是自变量。\n",
    "\n",
    "而且这些自变量，都是一次观测得到的值，你可以把它想像为数据表里的一行数据。\n",
    "\n",
    "自变量也许是年龄、你的账户余额、你的通勤方式、你今天的穿着等等，你用这些信息来训练你的模型，或者做一些预测。\n",
    "\n",
    "你还需要知道一件事，就是你需要将输入进行标准化(Standardize)，也就是让他们的平均值为0，方差为1。有些情况，你不会将它们标准化，你会将它们归一化(normalize)，也就是取最值，然后把值/(最大值 - 最小值)， 你把数据转换为0-1之间的值。\n",
    "\n",
    "也就是说把输入层的值，限定在同一范围区间内。\n",
    "\n",
    "因为所有这些值，都会进入到神经网络里，它们会被乘权重累加等，如果它们的值都类似，神经网络会更容易处理。以便模型能够更好的工作。"
   ],
   "metadata": {
    "collapsed": false
   }
  },
  {
   "cell_type": "markdown",
   "source": [
    "![image.png](http://wp.lampta.com:8000/wp-content/uploads/2022/02/image-11.png)"
   ],
   "metadata": {
    "collapsed": false
   }
  },
  {
   "cell_type": "markdown",
   "source": [
    "额外阅读论文：\n",
    "\n",
    "《Efficient BackProp》(高效反向传播)  By Yann LeCun et al.(1998)\n",
    "\n",
    "链接：\n",
    "http://yann.lecun.com/exdb/publis/pdf/lecun-98b.pdf"
   ],
   "metadata": {
    "collapsed": false
   }
  },
  {
   "cell_type": "markdown",
   "source": [
    "![image.png](http://wp.lampta.com:8000/wp-content/uploads/2022/02/image-12.png)"
   ],
   "metadata": {
    "collapsed": false
   }
  },
  {
   "cell_type": "markdown",
   "source": [
    "KL-展开\n",
    "协方差均衡\n",
    "\n",
    "Yann LeCun 在卷积神经网络的研究上享誉盛名\n",
    "\n",
    "他的这篇论文写了很多关于数据标准化和归一化的信息。"
   ],
   "metadata": {
    "collapsed": false
   }
  },
  {
   "cell_type": "markdown",
   "source": [
    "## 输出层"
   ],
   "metadata": {
    "collapsed": false
   }
  },
  {
   "cell_type": "markdown",
   "source": [
    "输出可以是：\n",
    "\n",
    "- 连续值, 比如价格\n",
    "- 二进制值， 比如 离开 或者 留下\n",
    "- 分类变量， 可能输出多个值"
   ],
   "metadata": {
    "collapsed": false
   }
  },
  {
   "cell_type": "markdown",
   "source": [
    "![微信截图_20220211112501.png](http://wp.lampta.com:8000/wp-content/uploads/2022/02/image-13.png)"
   ],
   "metadata": {
    "collapsed": false
   }
  },
  {
   "cell_type": "markdown",
   "source": [
    "## 突触的权重"
   ],
   "metadata": {
    "collapsed": false
   }
  },
  {
   "cell_type": "markdown",
   "source": [
    "![企业微信截图_20220211112904.png](http://wp.lampta.com:8000/wp-content/uploads/2022/02/image-14.png)"
   ],
   "metadata": {
    "collapsed": false
   }
  },
  {
   "cell_type": "markdown",
   "source": [
    "每个突触都会被赋予权重，如图的 W1 W2 ... Wm\n",
    "\n",
    "这些权重对于人工智能的性能非常重要，神经网络就是通过这些权重进行学习的。通过调节权重，神经网络决定在每次计算中哪个信号比较重要，哪个信号比较不重要。以及哪个信号可以传递下去，哪个应该被屏蔽。或者决定某个信号以何种强度何种范围传播。\n",
    "\n",
    "这些权重是在训练中，被调节的对象。在你训练人工神经网络的时候，基本上你就是在调节这些突触的权重。\n",
    "\n",
    "这也是为何引入梯度下降算法和反向传播算法的原因。"
   ],
   "metadata": {
    "collapsed": false
   }
  },
  {
   "cell_type": "markdown",
   "source": [
    "## 神经元内部"
   ],
   "metadata": {
    "collapsed": false
   }
  },
  {
   "cell_type": "markdown",
   "source": [
    "第一步： 将所有的输入值，都权限相乘后加总 （加权和）"
   ],
   "metadata": {
    "collapsed": false
   }
  },
  {
   "cell_type": "markdown",
   "source": [
    "![企业微信截图_20220211113817.png](http://wp.lampta.com:8000/wp-content/uploads/2022/02/image-15.png)"
   ],
   "metadata": {
    "collapsed": false
   }
  },
  {
   "cell_type": "markdown",
   "source": [
    "第二步：运行激活函数(Activation Function)"
   ],
   "metadata": {
    "collapsed": false
   }
  },
  {
   "cell_type": "markdown",
   "source": [
    "![企业微信截图_20220211114009.png](http://wp.lampta.com:8000/wp-content/uploads/2022/02/image-16.png)"
   ],
   "metadata": {
    "collapsed": false
   }
  },
  {
   "cell_type": "markdown",
   "source": [
    "然后神经元就可以知道是否让一个信号通过，这个通过的信号就是这个加权和，即被应用激活函数的数值"
   ],
   "metadata": {
    "collapsed": false
   }
  },
  {
   "cell_type": "markdown",
   "source": [
    "第三步：沿着轴突，将这个数值传递下去"
   ],
   "metadata": {
    "collapsed": false
   }
  },
  {
   "cell_type": "markdown",
   "source": [
    "![企业微信截图_20220211114220.png](http://wp.lampta.com:8000/wp-content/uploads/2022/02/image-17.png)"
   ],
   "metadata": {
    "collapsed": false
   }
  },
  {
   "cell_type": "markdown",
   "source": [
    "这些数值被不断的通过神经元传递，重复次数取决于你的神经网络有多少神经元，有多少突触"
   ],
   "metadata": {
    "collapsed": false
   }
  },
  {
   "cell_type": "markdown",
   "source": [
    "## 激活函数(Activation Function)"
   ],
   "metadata": {
    "collapsed": false
   }
  },
  {
   "cell_type": "markdown",
   "source": [
    "### 阈值函数（Threshold Function）"
   ],
   "metadata": {
    "collapsed": false
   }
  },
  {
   "cell_type": "markdown",
   "source": [
    "![企业微信截图_20220211114834.png](http://wp.lampta.com:8000/wp-content/uploads/2022/02/image-18.png)"
   ],
   "metadata": {
    "collapsed": false
   }
  },
  {
   "cell_type": "markdown",
   "source": [
    "这个激活函数的工作原理就是； 如果输入值x<0, 那么输出值y=0， 如果输入值x>=0, 那么y=1\n",
    "\n",
    "基本上就是输出 是 or 不是 的函数"
   ],
   "metadata": {
    "collapsed": false
   }
  },
  {
   "cell_type": "markdown",
   "source": [
    "### S曲线函数（Sigmoid）"
   ],
   "metadata": {
    "collapsed": false
   }
  },
  {
   "cell_type": "markdown",
   "source": [
    "![企业微信截图_20220211141652.png](http://wp.lampta.com:8000/wp-content/uploads/2022/02/image-19.png)"
   ],
   "metadata": {
    "collapsed": false
   }
  },
  {
   "cell_type": "markdown",
   "source": [
    "其中 x 是神经元的输入的加权和\n",
    "\n",
    "输入x 小于0时， 输出y无限趋近0， 类似于放弃这个输入\n",
    "\n",
    "输入x 大于0时， 输出y无限趋近于1\n",
    "\n",
    "当你项要预测可能性（概率）时，Sigmoid函数非常有用"
   ],
   "metadata": {
    "collapsed": false
   }
  },
  {
   "cell_type": "markdown",
   "source": [
    "### 整流函数(Rectifier)"
   ],
   "metadata": {
    "collapsed": false
   }
  },
  {
   "cell_type": "markdown",
   "source": [
    "![企业微信截图_20220211142147.png](http://wp.lampta.com:8000/wp-content/uploads/2022/02/image-20.png)"
   ],
   "metadata": {
    "collapsed": false
   }
  },
  {
   "cell_type": "markdown",
   "source": [
    "它是人工神经网络中使用最广泛的一种类型\n",
    "\n",
    "当x<0 时，输出y 都是0\n",
    "\n",
    "当x>=0时，输出y随x的增大而不断增大\n"
   ],
   "metadata": {
    "collapsed": false
   }
  },
  {
   "cell_type": "markdown",
   "source": [
    "### 双曲正切函数"
   ],
   "metadata": {
    "collapsed": false
   }
  },
  {
   "cell_type": "markdown",
   "source": [
    "![企业微信截图_20220211142536.png](http://wp.lampta.com:8000/wp-content/uploads/2022/02/image-21.png)"
   ],
   "metadata": {
    "collapsed": false
   }
  },
  {
   "cell_type": "markdown",
   "source": [
    "双曲正切函数与Sigmoid S曲线函数很相似，只不过有一部分输出的值是小于0的\n",
    "\n",
    "当x<0, 输出y不断向-1趋近\n",
    "\n",
    "当x>=0, 输出y不断向1趋近\n"
   ],
   "metadata": {
    "collapsed": false
   }
  },
  {
   "cell_type": "markdown",
   "source": [
    "### 额外阅读\n",
    "\n",
    "深度稀疏整流神经网络(Deep sparse rectifier neural networks)\n",
    "By Xavier Glorot et al. (2011)\n",
    "\n",
    "链接: http://proceedings.mlr.press/v15/glorot11a/glorot11a.pdf"
   ],
   "metadata": {
    "collapsed": false
   }
  },
  {
   "cell_type": "markdown",
   "source": [
    "![image.png](http://wp.lampta.com:8000/wp-content/uploads/2022/02/image-22.png)"
   ],
   "metadata": {
    "collapsed": false
   }
  },
  {
   "cell_type": "markdown",
   "source": [
    "在 Glorot 的论文中解释了为什么 整流函数应用广泛。"
   ],
   "metadata": {
    "collapsed": false
   }
  },
  {
   "cell_type": "markdown",
   "source": [
    "### 多个激活函数的组合使用"
   ],
   "metadata": {
    "collapsed": false
   }
  },
  {
   "cell_type": "markdown",
   "source": [
    "![image.png](http://wp.lampta.com:8000/wp-content/uploads/2022/02/image-23.png)"
   ],
   "metadata": {
    "collapsed": false
   }
  },
  {
   "cell_type": "markdown",
   "source": [
    "输出传导到隐藏层神经元，然后通过了一个整流函数，得出的值传导到输出层，在输出层经过了S曲线函数输出。\n",
    "\n",
    "这种组合方式在计算概率的时候经常被用到。"
   ],
   "metadata": {
    "collapsed": false
   }
  },
  {
   "cell_type": "markdown",
   "source": [
    "## 神经网络是如何工作的"
   ],
   "metadata": {
    "collapsed": false
   }
  },
  {
   "cell_type": "markdown",
   "source": [
    "### 神经网络对房产预测的实现"
   ],
   "metadata": {
    "collapsed": false
   }
  },
  {
   "cell_type": "markdown",
   "source": [
    "#### 输入层"
   ],
   "metadata": {
    "collapsed": false
   }
  },
  {
   "cell_type": "markdown",
   "source": [
    "我们假定，有四个因素可能会不同程度的影响房价\n",
    "![image.png](http://wp.lampta.com:8000/wp-content/uploads/2022/02/image-24.png)"
   ],
   "metadata": {
    "collapsed": false
   }
  },
  {
   "cell_type": "markdown",
   "source": [
    "那么输出层就有了：\n",
    "- 面积\n",
    "- 卧室数目\n",
    "- 距离城市多远\n",
    "- 房屋年限"
   ],
   "metadata": {
    "collapsed": false
   }
  },
  {
   "cell_type": "markdown",
   "source": [
    "#### 简单的，没有隐藏层的神经网络"
   ],
   "metadata": {
    "collapsed": false
   }
  },
  {
   "cell_type": "markdown",
   "source": [
    "如果我们的神经网络不存在隐藏层， 那么输出（房屋价格），就是各个参数的加权值："
   ],
   "metadata": {
    "collapsed": false
   }
  },
  {
   "cell_type": "markdown",
   "source": [
    "![image.png](http://wp.lampta.com:8000/wp-content/uploads/2022/02/image-25.png)"
   ],
   "metadata": {
    "collapsed": false
   }
  },
  {
   "cell_type": "markdown",
   "source": [
    "当然你也可以直接在输出层应用一个激活函数，把原本的加权值进行运算得出一个价格，比如你使用平方函数， Price = (w1*x1 + w2*x2 + w3*x3 + w4*x4)²\n",
    "\n",
    "那么这个基本的图示，只能通过改变权重，或输出层的激活函数来调整价格。"
   ],
   "metadata": {
    "collapsed": false
   }
  },
  {
   "cell_type": "markdown",
   "source": [
    "#### 隐藏层"
   ],
   "metadata": {
    "collapsed": false
   }
  },
  {
   "cell_type": "markdown",
   "source": [
    "隐藏层可以使得神经网络的准确率提高"
   ],
   "metadata": {
    "collapsed": false
   }
  },
  {
   "cell_type": "markdown",
   "source": [
    "![image.png](http://wp.lampta.com:8000/wp-content/uploads/2022/02/image-26.png)"
   ],
   "metadata": {
    "collapsed": false
   }
  },
  {
   "cell_type": "markdown",
   "source": [
    "隐藏层的本质是一些有着特定激活函数的神经元"
   ],
   "metadata": {
    "collapsed": false
   }
  },
  {
   "cell_type": "markdown",
   "source": [
    "##### 第一个神经元：面积和距离"
   ],
   "metadata": {
    "collapsed": false
   }
  },
  {
   "cell_type": "markdown",
   "source": [
    "首先我们假设最顶部的神经元的输入包含了所有的（面积、卧室数、距城镇的距离、房屋年限）参数\n",
    "\n",
    "假设这个神经元规定\n",
    "- 面积W > 0\n",
    "- 距离城市多远W > 0\n",
    "- 卧室数量W = 0\n",
    "- 房屋年限W = 0\n",
    "\n",
    "那么，这个神经元只会将两个参数纳入激活函数计算: Area 和 Distance\n"
   ],
   "metadata": {
    "collapsed": false
   }
  },
  {
   "cell_type": "markdown",
   "source": [
    "![image.png](http://wp.lampta.com:8000/wp-content/uploads/2022/02/image-27.png)"
   ],
   "metadata": {
    "collapsed": false
   }
  },
  {
   "cell_type": "markdown",
   "source": [
    "对于每一个隐藏层的神经元来说，并不是所有输入对它都重要。在这个神经元中，它默认 Bedrooms 和 Age 并不重要，所以不纳入。\n",
    "\n",
    "那么 Area 和 Distance 有何关联呢？\n",
    "通常来说，距离城市越远，地价房价更便宜，那么房屋面积就可以更大。也就是花同样的价格，在离城市更远的地方，可以买到更大的房子。\n",
    "\n",
    "然后第一个神经元接受 Area 和 Distance，调用了激活函数，得出了一个值，这个值将影响最终的价格。"
   ],
   "metadata": {
    "collapsed": false
   }
  },
  {
   "cell_type": "markdown",
   "source": [
    "##### 第三个神经元：面积、卧室数目、以及房屋年限"
   ],
   "metadata": {
    "collapsed": false
   }
  },
  {
   "cell_type": "markdown",
   "source": [
    "我们假设这是一个被训练过的模型，假设是在郊区，这个郊区有很多家庭都是由两个或更多孩子的家庭。\n",
    "\n",
    "他们寻找大房子，以便有足够的空间可以容纳一家人。\n",
    "\n",
    "那么仅在这个地区，具有多个卧室、且房屋比较新、面积又足够大的房子，价值就比较高。\n",
    "\n"
   ],
   "metadata": {
    "collapsed": false
   }
  },
  {
   "cell_type": "markdown",
   "source": [
    "![image.png](http://wp.lampta.com:8000/wp-content/uploads/2022/02/image-28.png)"
   ],
   "metadata": {
    "collapsed": false
   }
  },
  {
   "cell_type": "markdown",
   "source": [
    "##### 第五个神经元：房屋年限"
   ],
   "metadata": {
    "collapsed": false
   }
  },
  {
   "cell_type": "markdown",
   "source": [
    "假设这个神经元只对房屋年限进行激活函数运算\n",
    "\n",
    "我们知道，房屋内部损耗或老化严重，房子的价格就会下降。而新建筑价格比较高。\n",
    "但如果房产年限超过了一定的数字，比如一百年，那它可能会成为一个历史遗产，有很多人对于住在一个有故事、有历史的房子里是很感兴趣的。\n",
    "\n",
    "那可能就以一百年界限，超过了一百年就认为是有历史价值的，而低于一百年，年限越高，就只能代表房屋损耗，而不是历史价值。\n",
    "\n",
    "那么当房屋年限低于100年时，这个神经元可能用低权重，甚至直接就不工作。\n",
    "当房屋年限超过100年时，这个神经元可能产出高权重，然后令最终价格更高。\n",
    "\n",
    "那么这时候的激活函数，使用整流函数就最合适。"
   ],
   "metadata": {
    "collapsed": false
   }
  },
  {
   "cell_type": "markdown",
   "source": [
    "![image.png](http://wp.lampta.com:8000/wp-content/uploads/2022/02/image-29.png)"
   ],
   "metadata": {
    "collapsed": false
   }
  },
  {
   "cell_type": "markdown",
   "source": [
    "##### 所有神经元组合成的神经网络，预测到最终的价格"
   ],
   "metadata": {
    "collapsed": false
   }
  },
  {
   "cell_type": "markdown",
   "source": [
    "![image.png](http://wp.lampta.com:8000/wp-content/uploads/2022/02/image-30.png)"
   ],
   "metadata": {
    "collapsed": false
   }
  },
  {
   "cell_type": "markdown",
   "source": [
    "## 神经网络如何学习"
   ],
   "metadata": {
    "collapsed": false
   }
  },
  {
   "cell_type": "markdown",
   "source": [
    "实际有两种方式\n",
    "\n",
    "- 硬编码，即将所有的因素、可能性组合预置到代码中，然后输入经过预置的运算，得出预期结果\n",
    "- 神经网络，即你建立一种让它自己明白自己要做什么的机制。基本上你只要建立这个神经网络，提供输入值，告诉它哪个是输出，然后它自己去寻找和确认那些规则。"
   ],
   "metadata": {
    "collapsed": false,
    "pycharm": {
     "name": "#%% md\n"
    }
   }
  },
  {
   "cell_type": "markdown",
   "source": [
    "本课程的目的就是建立神经网络，而不是提前放入规则。"
   ],
   "metadata": {
    "collapsed": false,
    "pycharm": {
     "name": "#%% md\n"
    }
   }
  },
  {
   "cell_type": "markdown",
   "source": [
    "#### 例子：如何识别一只猫和一只狗"
   ],
   "metadata": {
    "collapsed": false,
    "pycharm": {
     "name": "#%% md\n"
    }
   }
  },
  {
   "cell_type": "markdown",
   "source": [
    "##### 硬编码\n"
   ],
   "metadata": {
    "collapsed": false
   }
  },
  {
   "cell_type": "markdown",
   "source": [
    "如果是硬编码去识别一只猫或一只狗，你可能会这么写：猫的耳朵是这样的，胡须是这样的，要注意猫的鼻子是这种类型的，注意这种形状的脸是猫，注意这种颜色等等。\n",
    "\n",
    "也就是你必须得描述所有的特征。\n",
    "\n",
    "你还得提供一些条件，比如耳朵立起来的是猫，耳朵拉下去的是狗。"
   ],
   "metadata": {
    "collapsed": false
   }
  },
  {
   "cell_type": "markdown",
   "source": [
    "##### 神经网络"
   ],
   "metadata": {
    "collapsed": false,
    "pycharm": {
     "name": "#%% md\n"
    }
   }
  },
  {
   "cell_type": "markdown",
   "source": [
    "对于神经网络来说，你只需要建立这个神经网络机制，然后提供一个已经分类好的，数量规模较多的猫和狗的图片，然后告诉它：这里有一些猫和狗的图片，你去学习一下猫是什么样子，狗是什么样子。\n",
    "\n",
    "那么它就会自己明白自己需要做些什么。\n",
    "\n",
    "当它被训练好后，你给它一幅新的猫或狗的照片，它就能够判断，这张照片是猫还是狗。"
   ],
   "metadata": {
    "collapsed": false,
    "pycharm": {
     "name": "#%% md\n"
    }
   }
  },
  {
   "cell_type": "markdown",
   "source": [
    "### 神经网络的学习过程"
   ],
   "metadata": {
    "collapsed": false,
    "pycharm": {
     "name": "#%% md\n"
    }
   }
  },
  {
   "cell_type": "markdown",
   "source": [
    "#### 感知机"
   ],
   "metadata": {
    "collapsed": false
   }
  },
  {
   "cell_type": "markdown",
   "source": [
    "我们有一个非常基础的神经网络"
   ],
   "metadata": {
    "collapsed": false,
    "pycharm": {
     "name": "#%% md\n"
    }
   }
  },
  {
   "cell_type": "markdown",
   "source": [
    "这个神经网络只有一层隐藏层，它被称为“单层前馈神经网络”(feedforward neural network), 也被称为感知机(perceptron)"
   ],
   "metadata": {
    "collapsed": false
   }
  },
  {
   "cell_type": "markdown",
   "source": [
    "![image.png](http://wp.lampta.com:8000/wp-content/uploads/2022/02/image-32.png)"
   ],
   "metadata": {
    "collapsed": false,
    "pycharm": {
     "name": "#%% md\n"
    }
   }
  },
  {
   "cell_type": "markdown",
   "source": [
    "y-hat 代表预测值，  y 代表真实发生的值"
   ],
   "metadata": {
    "collapsed": false,
    "pycharm": {
     "name": "#%% md\n"
    }
   }
  },
  {
   "cell_type": "markdown",
   "source": [
    "#### 一次预测"
   ],
   "metadata": {
    "collapsed": false
   }
  },
  {
   "cell_type": "markdown",
   "source": [
    "![image.png](http://wp.lampta.com:8000/wp-content/uploads/2022/02/image-33.png)"
   ],
   "metadata": {
    "collapsed": false,
    "pycharm": {
     "name": "#%% md\n"
    }
   }
  },
  {
   "cell_type": "markdown",
   "source": [
    "首先我们有m个自变量，每个自变量有其初始的权重，输入到神经元中，通过激活函数，得到输出值 y-hat，然后用y-hat与y进行比对，这里会调用损失函数，计算预测值y-hat与y的差距\n",
    "\n",
    "我们训练的目标就是使得损失C最小，因为C最小，意味着，y-hat与y的差距最小。"
   ],
   "metadata": {
    "collapsed": false
   }
  },
  {
   "cell_type": "markdown",
   "source": [
    "#### 一次反馈"
   ],
   "metadata": {
    "collapsed": false,
    "pycharm": {
     "name": "#%% md\n"
    }
   }
  },
  {
   "cell_type": "markdown",
   "source": [
    "![image.png](http://wp.lampta.com:8000/wp-content/uploads/2022/02/image-34.png)"
   ],
   "metadata": {
    "collapsed": false
   }
  },
  {
   "cell_type": "markdown",
   "source": [
    "计算出了本次预测的损失C，那么损失被反馈给神经网络，从而权重 w1,w2,...wm 被更新。\n",
    "\n",
    "在这个简单的神经网络里，我们能控制的就是权重。"
   ],
   "metadata": {
    "collapsed": false,
    "pycharm": {
     "name": "#%% md\n"
    }
   }
  },
  {
   "cell_type": "markdown",
   "source": [
    "### 预测你下次考试成绩"
   ],
   "metadata": {
    "collapsed": false
   }
  },
  {
   "cell_type": "markdown",
   "source": [],
   "metadata": {
    "collapsed": false,
    "pycharm": {
     "name": "#%% md\n"
    }
   }
  },
  {
   "cell_type": "markdown",
   "source": [
    "我们有一行数据\n",
    "\n",
    "|Row ID| Study Hrs | Sleep Hrs | Quiz | Exam |\n",
    "|--|--|--|--|--|\n",
    "|1|12|6|78%|93%|"
   ],
   "metadata": {
    "collapsed": false,
    "pycharm": {
     "name": "#%% md\n"
    }
   }
  },
  {
   "cell_type": "markdown",
   "source": [
    "- Study Hrs: 学习时间\n",
    "- Sleep Hrs：睡眠时间\n",
    "- Quiz：期中考试成绩\n",
    "- Exam：你的实际考试成绩(历史预测留下来的观察值)\n",
    "\n",
    "- 目标是预测你下次考试的成绩"
   ],
   "metadata": {
    "collapsed": false,
    "pycharm": {
     "name": "#%% md\n"
    }
   }
  },
  {
   "cell_type": "markdown",
   "source": [
    "##### 只针对一行数据,不断进行epoch,使得损失函数的值最小"
   ],
   "metadata": {
    "collapsed": false,
    "pycharm": {
     "name": "#%% md\n"
    }
   }
  },
  {
   "cell_type": "markdown",
   "source": [
    "###### 第一次前向反馈\n",
    "\n",
    "y-hat 和 y 之间的协方差 是C，然后反向修正 w1 w2 ... wm"
   ],
   "metadata": {
    "collapsed": false,
    "pycharm": {
     "name": "#%% md\n"
    }
   }
  },
  {
   "cell_type": "markdown",
   "source": [
    "![image.png](http://wp.lampta.com:8000/wp-content/uploads/2022/02/image-35.png)"
   ],
   "metadata": {
    "collapsed": false
   }
  },
  {
   "cell_type": "markdown",
   "source": [
    "###### 第二次前向反馈\n",
    "\n",
    "y-hat 与 y 差距降低, 协方差也变小, w1，w2...wm 被进一步修正"
   ],
   "metadata": {
    "collapsed": false,
    "pycharm": {
     "name": "#%% md\n"
    }
   }
  },
  {
   "cell_type": "markdown",
   "source": [
    "![image.png](http://wp.lampta.com:8000/wp-content/uploads/2022/02/image-37.png)"
   ],
   "metadata": {
    "collapsed": false,
    "pycharm": {
     "name": "#%% md\n"
    }
   }
  },
  {
   "cell_type": "markdown",
   "source": [
    "###### 第n次前向反馈\n",
    "\n",
    "y-hat 与 y 一致，协方差C为0， 一般来说，C不可能为0。\n",
    "\n",
    "此时 w1, w2, ... wm 的配置是最佳配置"
   ],
   "metadata": {
    "collapsed": false,
    "pycharm": {
     "name": "#%% md\n"
    }
   }
  },
  {
   "cell_type": "markdown",
   "source": [
    "![image.png](http://wp.lampta.com:8000/wp-content/uploads/2022/02/image-38.png)"
   ],
   "metadata": {
    "collapsed": false,
    "pycharm": {
     "name": "#%% md\n"
    }
   }
  },
  {
   "cell_type": "markdown",
   "source": [
    "整个过程叫做“反向传播算法(backpropogation)”"
   ],
   "metadata": {
    "collapsed": false,
    "pycharm": {
     "name": "#%% md\n"
    }
   }
  },
  {
   "cell_type": "markdown",
   "source": [
    "##### 训练集有多行数据的情况"
   ],
   "metadata": {
    "collapsed": false
   }
  },
  {
   "cell_type": "markdown",
   "source": [
    "![image.png](http://wp.lampta.com:8000/wp-content/uploads/2022/02/image-39.png)"
   ],
   "metadata": {
    "collapsed": false,
    "pycharm": {
     "name": "#%% md\n"
    }
   }
  },
  {
   "cell_type": "markdown",
   "source": [
    "这个8行数据集，可以代表有8名不同的学生参与了这个训练集。"
   ],
   "metadata": {
    "collapsed": false
   }
  },
  {
   "cell_type": "markdown",
   "source": [
    "###### 训练第一代(First Epoch)"
   ],
   "metadata": {
    "collapsed": false,
    "pycharm": {
     "name": "#%% md\n"
    }
   }
  },
  {
   "cell_type": "markdown",
   "source": [
    "![image.png](http://wp.lampta.com:8000/wp-content/uploads/2022/02/image-40.png)"
   ],
   "metadata": {
    "collapsed": false
   }
  },
  {
   "cell_type": "markdown",
   "source": [
    "第一代通过8个感知机的差值的平方和的一半，计算出协方差，然后修正w1,w2,w3的权重"
   ],
   "metadata": {
    "collapsed": false
   }
  },
  {
   "cell_type": "markdown",
   "source": [
    "![image.png](http://wp.lampta.com:8000/wp-content/uploads/2022/02/image-41.png)"
   ],
   "metadata": {
    "collapsed": false,
    "pycharm": {
     "name": "#%% md\n"
    }
   }
  },
  {
   "cell_type": "markdown",
   "source": [
    "###### 第二代至第n代"
   ],
   "metadata": {
    "collapsed": false,
    "pycharm": {
     "name": "#%% md\n"
    }
   }
  },
  {
   "cell_type": "markdown",
   "source": [
    "一旦找到了损失函数的最小值，那么这就是你需要的神经网络；\n",
    "意味着对应你的这组数据，你此时的权重是最优的。\n",
    "\n",
    "训练完毕后，就会进入测试阶段或者叫应用阶段"
   ],
   "metadata": {
    "collapsed": false
   }
  },
  {
   "cell_type": "markdown",
   "source": [
    "### 额外阅读\n",
    "\n",
    "A list of cost functions used in neural networks, alongside application\n",
    "\n",
    "一系列在神经网络应用中使用的损失函数\n",
    "\n",
    "CrossValidated\n",
    "\n",
    "http://stats.stackexchange.com/questions/154879/a-list-of-cost-functions-used-in-neural-networks-alongside-applications\n"
   ],
   "metadata": {
    "collapsed": false
   }
  }
 ],
 "metadata": {
  "kernelspec": {
   "display_name": "Python 3",
   "language": "python",
   "name": "python3"
  },
  "language_info": {
   "codemirror_mode": {
    "name": "ipython",
    "version": 2
   },
   "file_extension": ".py",
   "mimetype": "text/x-python",
   "name": "python",
   "nbconvert_exporter": "python",
   "pygments_lexer": "ipython2",
   "version": "2.7.6"
  }
 },
 "nbformat": 4,
 "nbformat_minor": 0
}