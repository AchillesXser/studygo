{
 "cells": [
  {
   "cell_type": "markdown",
   "source": [
    "# Step1 卷积"
   ],
   "metadata": {
    "collapsed": false
   }
  },
  {
   "cell_type": "markdown",
   "source": [
    "## 卷积公式"
   ],
   "metadata": {
    "collapsed": false
   }
  },
  {
   "cell_type": "markdown",
   "source": [
    "![](http://wp.lampta.com:8000/wp-content/uploads/2022/02/image-74.png)"
   ],
   "metadata": {
    "collapsed": false
   }
  },
  {
   "cell_type": "markdown",
   "source": [
    "如果你需要了解卷积中的数学内容，可以查阅以下论文：\n",
    "\n",
    "Introduction to Convolutional Neural Networks\n",
    "By Jianxin Wu(2017)\n",
    "\n",
    "链接: [Link](http://cs.nju.edu.cn/wujx/paper/CNN.pdf)"
   ],
   "metadata": {
    "collapsed": false
   }
  },
  {
   "cell_type": "markdown",
   "source": [
    "## 卷积运算\n",
    "卷积的主要目的是, 使用特征探测器(Feature Detector), 找到图像的特征, 并放入特征图(Feature Map)里;\n",
    "特征图保留了像素之间的特殊关系。"
   ],
   "metadata": {
    "collapsed": false,
    "pycharm": {
     "name": "#%% md\n"
    }
   }
  },
  {
   "cell_type": "markdown",
   "source": [
    "![](http://wp.lampta.com:8000/wp-content/uploads/2022/02/image-75.png)"
   ],
   "metadata": {
    "collapsed": false
   }
  },
  {
   "cell_type": "markdown",
   "source": [
    "如图中, 我们有一张被简化成0和1的笑脸图, 和一个 特征探测器\n",
    "图中的探测器是 3*3 的探测器, 还有其他种类的探测器, 比如 AlexNet 用了 7*7探测器; 其他还有一些著名的探测器也有可能是5*5等等。\n",
    "大部分是3*3\n",
    "\n",
    "特征探测器(Feature Detector) 有时也被称为 核(Kernel) 或者叫做 过滤器(Filter)\n",
    "\n",
    "卷积运算的符号是：圈里面带个X号\n",
    "\n",
    "卷积运算的过程："
   ],
   "metadata": {
    "collapsed": false
   }
  },
  {
   "cell_type": "markdown",
   "source": [
    "![](https://pic2.zhimg.com/80/v2-e3ab71a7c2b3a28a9edf7a729a53fbb5_720w.gif)"
   ],
   "metadata": {
    "collapsed": false
   }
  },
  {
   "cell_type": "markdown",
   "source": [
    "输入图片的局部 与 探测器矩阵 的点乘操作，然后得到对应的特征，上图的探测步长为1，探测器遍历了所有特征之后，将得到一个特征图。"
   ],
   "metadata": {
    "collapsed": false
   }
  }
 ],
 "metadata": {
  "kernelspec": {
   "display_name": "Python 3",
   "language": "python",
   "name": "python3"
  },
  "language_info": {
   "codemirror_mode": {
    "name": "ipython",
    "version": 2
   },
   "file_extension": ".py",
   "mimetype": "text/x-python",
   "name": "python",
   "nbconvert_exporter": "python",
   "pygments_lexer": "ipython2",
   "version": "2.7.6"
  }
 },
 "nbformat": 4,
 "nbformat_minor": 0
}