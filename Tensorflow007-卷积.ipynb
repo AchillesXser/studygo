{
 "cells": [
  {
   "cell_type": "markdown",
   "metadata": {
    "collapsed": false
   },
   "source": [
    "# Step1 卷积"
   ]
  },
  {
   "cell_type": "markdown",
   "metadata": {
    "collapsed": false
   },
   "source": [
    "## 卷积公式"
   ]
  },
  {
   "cell_type": "markdown",
   "metadata": {
    "collapsed": false
   },
   "source": [
    "![](https://pic2.zhimg.com/80/v2-4b6ce279d0562f0b3ec6dbfb9e249879_720w.png)"
   ]
  },
  {
   "cell_type": "markdown",
   "metadata": {
    "collapsed": false
   },
   "source": [
    "如果你需要了解卷积中的数学内容，可以查阅以下论文：\n",
    "\n",
    "Introduction to Convolutional Neural Networks\n",
    "By Jianxin Wu(2017)\n",
    "\n",
    "链接: [Link](http://cs.nju.edu.cn/wujx/paper/CNN.pdf)"
   ]
  },
  {
   "cell_type": "markdown",
   "metadata": {
    "collapsed": false,
    "pycharm": {
     "name": "#%% md\n"
    }
   },
   "source": [
    "## 卷积运算\n",
    "卷积的主要目的是, 使用特征探测器(Feature Detector), 找到图像的特征, 并放入特征图(Feature Map)里;\n",
    "特征图保留了像素之间的特殊关系。"
   ]
  },
  {
   "cell_type": "markdown",
   "metadata": {
    "collapsed": false
   },
   "source": [
    "![](http://wp.lampta.com:8000/wp-content/uploads/2022/02/image-75.png)"
   ]
  },
  {
   "cell_type": "markdown",
   "metadata": {
    "collapsed": false
   },
   "source": [
    "如图中, 我们有一张被简化成0和1的笑脸图, 和一个 特征探测器\n",
    "图中的探测器是 3*3 的探测器, 还有其他种类的探测器, 比如 AlexNet 用了 7*7探测器; 其他还有一些著名的探测器也有可能是5*5等等。\n",
    "大部分是3*3\n",
    "\n",
    "特征探测器(Feature Detector) 有时也被称为 核(Kernel) 或者叫做 过滤器(Filter)\n",
    "\n",
    "卷积运算的符号是：圈里面带个X号\n",
    "\n",
    "卷积运算的过程："
   ]
  },
  {
   "cell_type": "markdown",
   "metadata": {
    "collapsed": false
   },
   "source": [
    "![](https://pic2.zhimg.com/80/v2-e3ab71a7c2b3a28a9edf7a729a53fbb5_720w.gif)"
   ]
  },
  {
   "cell_type": "markdown",
   "metadata": {
    "collapsed": false
   },
   "source": [
    "输入图片的局部 与 探测器矩阵 的点乘操作，然后得到对应的特征，上图的探测步长为1，探测器遍历了所有特征之后，将得到一个特征图(Feature Map) 或者称为 卷积特征(Convolved Feature)\n",
    "\n",
    "首先, 经过卷积的特征图尺寸被压缩了。压缩的比例取决于探测器的步长, 如果步长越大, 压缩比例越大。\n",
    "\n",
    "通常会选择步长为2\n",
    "\n",
    "特征图中的数值越大, 表示探测器探测的那个点的特征越匹配。"
   ]
  },
  {
   "cell_type": "markdown",
   "metadata": {
    "collapsed": false
   },
   "source": [
    "## 特征图"
   ]
  },
  {
   "cell_type": "markdown",
   "metadata": {
    "collapsed": false
   },
   "source": [
    "![](https://pic3.zhimg.com/80/v2-378532dc283128e9df39905ce5627952_720w.png)"
   ]
  },
  {
   "cell_type": "markdown",
   "metadata": {
    "collapsed": false
   },
   "source": [
    "卷积的过程可能会使用不同的过滤器，然后产生众多的特征图, 这些特征图是通过神经网络的训练过程决定的。通过训练, 神经网络决定那个特征对于哪个分类很重要。\n",
    "这些特征图集合形成了卷积层(Convolutional Layer)"
   ]
  },
  {
   "cell_type": "markdown",
   "metadata": {
    "collapsed": false
   },
   "source": [
    "## 利用gimp来模拟过滤器对图片的卷积过程"
   ]
  },
  {
   "cell_type": "markdown",
   "metadata": {
    "collapsed": false
   },
   "source": []
  },
  {
   "cell_type": "markdown",
   "source": [
    "### 锐化"
   ],
   "metadata": {
    "collapsed": false
   }
  },
  {
   "cell_type": "markdown",
   "source": [
    "![](https://pic1.zhimg.com/80/v2-2c73f3e8e5c3d434834461472fdc8a79_720w.png)"
   ],
   "metadata": {
    "collapsed": false
   }
  },
  {
   "cell_type": "markdown",
   "source": [
    "### 模糊"
   ],
   "metadata": {
    "collapsed": false
   }
  },
  {
   "cell_type": "markdown",
   "source": [
    "![](https://pica.zhimg.com/80/v2-77f8528186d5612ff7b4f6020fdb9ba6_720w.png)"
   ],
   "metadata": {
    "collapsed": false
   }
  },
  {
   "cell_type": "markdown",
   "source": [
    "### 边缘增强"
   ],
   "metadata": {
    "collapsed": false
   }
  },
  {
   "cell_type": "markdown",
   "source": [
    "![](https://pic2.zhimg.com/80/v2-61ba9e1f36f8e15414c98292ee0f6397_720w.png)"
   ],
   "metadata": {
    "collapsed": false
   }
  },
  {
   "cell_type": "markdown",
   "source": [
    "### 边缘探测"
   ],
   "metadata": {
    "collapsed": false
   }
  },
  {
   "cell_type": "markdown",
   "source": [
    "![](https://pic1.zhimg.com/80/v2-fc1ddf84aa6a11778bee3934dcb60601_720w.png)"
   ],
   "metadata": {
    "collapsed": false
   }
  },
  {
   "cell_type": "markdown",
   "source": [
    "### 浮雕"
   ],
   "metadata": {
    "collapsed": false
   }
  },
  {
   "cell_type": "markdown",
   "source": [
    "![](https://pic3.zhimg.com/80/v2-6cd1d3153b14b76a1087840334900535_720w.png)"
   ],
   "metadata": {
    "collapsed": false
   }
  },
  {
   "cell_type": "markdown",
   "source": [
    "### 杰弗里·欣顿通过探测器后的特征图"
   ],
   "metadata": {
    "collapsed": false
   }
  },
  {
   "cell_type": "markdown",
   "source": [
    "![](https://pic3.zhimg.com/80/v2-50abb21a13d357272ecd736121b190dc_720w.png)"
   ],
   "metadata": {
    "collapsed": false
   }
  }
 ],
 "metadata": {
  "kernelspec": {
   "display_name": "Python 3",
   "language": "python",
   "name": "python3"
  },
  "language_info": {
   "codemirror_mode": {
    "name": "ipython",
    "version": 2
   },
   "file_extension": ".py",
   "mimetype": "text/x-python",
   "name": "python",
   "nbconvert_exporter": "python",
   "pygments_lexer": "ipython2",
   "version": "2.7.6"
  }
 },
 "nbformat": 4,
 "nbformat_minor": 0
}