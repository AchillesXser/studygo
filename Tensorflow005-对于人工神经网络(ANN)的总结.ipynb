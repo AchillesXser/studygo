{
 "cells": [
  {
   "cell_type": "markdown",
   "source": [
    "1、对于初始权重, 应该随机赋值一个不是0,但接近0的随机数;\n",
    "2、输入你的第一个观测值(你的第一行数据), 你数据的每个特征与神经网络输入层的输入节点一一对应;基本上就是把这一行除了y以外的列输入到对应的节点;\n",
    "3、向前传播, 从左到右, 通过权重来控制激活函数的影响, 权重就决定了神经元的重要程度, 然后向前传递计算, 直到得到预测的结果 y-hat;\n",
    "4、比较预测值和真实值, 计算误差;\n",
    "5、使用反向传播算法, 从右到左, 误差被反向传播回去; 根据每个权重应该对误差负责多少, 来对权重进行调整。此时所有的权重都会被调整一遍。所谓的学习率的大小, 取决于我们对权重做了多少调整;\n",
    "6、重复1-5, 权重被重新一遍遍调整, 这被称为\"强化学习\", 在我们的例子里就是\"随机梯度下降算法\"\n",
    "  或者重复1-5, 但直到一代数据全部预测完毕后, 才计算误差, 调整权重, 这被称为\"完全梯度下降法\"或\"批量梯度下降法\"\n",
    "7、当整个训练集都已经通过这个人工神经网络, 就被称为\"一代\", 一个\"epoch\", 重复许多代的意思就是不断地重复以上的步骤, 然后神经网络被训练地越来越好, 直到找到了最小损失函数值"
   ],
   "metadata": {
    "collapsed": false,
    "pycharm": {
     "name": "#%% md\n"
    }
   }
  }
 ],
 "metadata": {
  "kernelspec": {
   "display_name": "Python 3",
   "language": "python",
   "name": "python3"
  },
  "language_info": {
   "codemirror_mode": {
    "name": "ipython",
    "version": 2
   },
   "file_extension": ".py",
   "mimetype": "text/x-python",
   "name": "python",
   "nbconvert_exporter": "python",
   "pygments_lexer": "ipython2",
   "version": "2.7.6"
  }
 },
 "nbformat": 4,
 "nbformat_minor": 0
}