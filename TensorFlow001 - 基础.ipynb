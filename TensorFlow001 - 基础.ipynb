{
 "cells": [
  {
   "cell_type": "markdown",
   "source": [
    "<a href=\"https://colab.research.google.com/github/AchillesXser/studygo/blob/master/tensorflow%E7%AC%94%E8%AE%B0.ipynb\" target=\"_parent\"><img src=\"https://colab.research.google.com/assets/colab-badge.svg\" alt=\"Open In Colab\"/></a>"
   ],
   "metadata": {
    "collapsed": false
   }
  },
  {
   "cell_type": "markdown",
   "source": [
    "# TensorFlow 1.14 回顾\n"
   ],
   "metadata": {
    "collapsed": false
   }
  },
  {
   "cell_type": "code",
   "execution_count": null,
   "outputs": [
    {
     "output_type": "stream",
     "name": "stdout",
     "text": [
      "Requirement already satisfied: tensorflow-gpu==2.1.1 in /usr/local/lib/python3.7/dist-packages (2.1.1)\n",
      "Requirement already satisfied: absl-py>=0.7.0 in /usr/local/lib/python3.7/dist-packages (from tensorflow-gpu==2.1.1) (1.0.0)\n",
      "Requirement already satisfied: protobuf>=3.8.0 in /usr/local/lib/python3.7/dist-packages (from tensorflow-gpu==2.1.1) (3.17.3)\n",
      "Requirement already satisfied: wrapt>=1.11.1 in /usr/local/lib/python3.7/dist-packages (from tensorflow-gpu==2.1.1) (1.13.3)\n",
      "Requirement already satisfied: six>=1.12.0 in /usr/local/lib/python3.7/dist-packages (from tensorflow-gpu==2.1.1) (1.15.0)\n",
      "Requirement already satisfied: grpcio>=1.8.6 in /usr/local/lib/python3.7/dist-packages (from tensorflow-gpu==2.1.1) (1.43.0)\n",
      "Requirement already satisfied: keras-preprocessing==1.1.0 in /usr/local/lib/python3.7/dist-packages (from tensorflow-gpu==2.1.1) (1.1.0)\n",
      "Requirement already satisfied: astor>=0.6.0 in /usr/local/lib/python3.7/dist-packages (from tensorflow-gpu==2.1.1) (0.8.1)\n",
      "Requirement already satisfied: tensorboard<2.2.0,>=2.1.0 in /usr/local/lib/python3.7/dist-packages (from tensorflow-gpu==2.1.1) (2.1.1)\n",
      "Requirement already satisfied: tensorflow-estimator<2.2.0,>=2.1.0rc0 in /usr/local/lib/python3.7/dist-packages (from tensorflow-gpu==2.1.1) (2.1.0)\n",
      "Requirement already satisfied: numpy<2.0,>=1.16.0 in /usr/local/lib/python3.7/dist-packages (from tensorflow-gpu==2.1.1) (1.19.5)\n",
      "Requirement already satisfied: opt-einsum>=2.3.2 in /usr/local/lib/python3.7/dist-packages (from tensorflow-gpu==2.1.1) (3.3.0)\n",
      "Requirement already satisfied: wheel>=0.26 in /usr/local/lib/python3.7/dist-packages (from tensorflow-gpu==2.1.1) (0.37.1)\n",
      "Requirement already satisfied: gast==0.2.2 in /usr/local/lib/python3.7/dist-packages (from tensorflow-gpu==2.1.1) (0.2.2)\n",
      "Requirement already satisfied: google-pasta>=0.1.6 in /usr/local/lib/python3.7/dist-packages (from tensorflow-gpu==2.1.1) (0.2.0)\n",
      "Requirement already satisfied: keras-applications>=1.0.8 in /usr/local/lib/python3.7/dist-packages (from tensorflow-gpu==2.1.1) (1.0.8)\n",
      "Requirement already satisfied: termcolor>=1.1.0 in /usr/local/lib/python3.7/dist-packages (from tensorflow-gpu==2.1.1) (1.1.0)\n",
      "Requirement already satisfied: scipy==1.4.1 in /usr/local/lib/python3.7/dist-packages (from tensorflow-gpu==2.1.1) (1.4.1)\n",
      "Requirement already satisfied: h5py in /usr/local/lib/python3.7/dist-packages (from keras-applications>=1.0.8->tensorflow-gpu==2.1.1) (3.1.0)\n",
      "Requirement already satisfied: requests<3,>=2.21.0 in /usr/local/lib/python3.7/dist-packages (from tensorboard<2.2.0,>=2.1.0->tensorflow-gpu==2.1.1) (2.23.0)\n",
      "Requirement already satisfied: werkzeug>=0.11.15 in /usr/local/lib/python3.7/dist-packages (from tensorboard<2.2.0,>=2.1.0->tensorflow-gpu==2.1.1) (1.0.1)\n",
      "Requirement already satisfied: google-auth-oauthlib<0.5,>=0.4.1 in /usr/local/lib/python3.7/dist-packages (from tensorboard<2.2.0,>=2.1.0->tensorflow-gpu==2.1.1) (0.4.6)\n",
      "Requirement already satisfied: google-auth<2,>=1.6.3 in /usr/local/lib/python3.7/dist-packages (from tensorboard<2.2.0,>=2.1.0->tensorflow-gpu==2.1.1) (1.35.0)\n",
      "Requirement already satisfied: setuptools>=41.0.0 in /usr/local/lib/python3.7/dist-packages (from tensorboard<2.2.0,>=2.1.0->tensorflow-gpu==2.1.1) (57.4.0)\n",
      "Requirement already satisfied: markdown>=2.6.8 in /usr/local/lib/python3.7/dist-packages (from tensorboard<2.2.0,>=2.1.0->tensorflow-gpu==2.1.1) (3.3.6)\n",
      "Requirement already satisfied: rsa<5,>=3.1.4 in /usr/local/lib/python3.7/dist-packages (from google-auth<2,>=1.6.3->tensorboard<2.2.0,>=2.1.0->tensorflow-gpu==2.1.1) (4.8)\n",
      "Requirement already satisfied: pyasn1-modules>=0.2.1 in /usr/local/lib/python3.7/dist-packages (from google-auth<2,>=1.6.3->tensorboard<2.2.0,>=2.1.0->tensorflow-gpu==2.1.1) (0.2.8)\n",
      "Requirement already satisfied: cachetools<5.0,>=2.0.0 in /usr/local/lib/python3.7/dist-packages (from google-auth<2,>=1.6.3->tensorboard<2.2.0,>=2.1.0->tensorflow-gpu==2.1.1) (4.2.4)\n",
      "Requirement already satisfied: requests-oauthlib>=0.7.0 in /usr/local/lib/python3.7/dist-packages (from google-auth-oauthlib<0.5,>=0.4.1->tensorboard<2.2.0,>=2.1.0->tensorflow-gpu==2.1.1) (1.3.0)\n",
      "Requirement already satisfied: importlib-metadata>=4.4 in /usr/local/lib/python3.7/dist-packages (from markdown>=2.6.8->tensorboard<2.2.0,>=2.1.0->tensorflow-gpu==2.1.1) (4.10.1)\n",
      "Requirement already satisfied: zipp>=0.5 in /usr/local/lib/python3.7/dist-packages (from importlib-metadata>=4.4->markdown>=2.6.8->tensorboard<2.2.0,>=2.1.0->tensorflow-gpu==2.1.1) (3.7.0)\n",
      "Requirement already satisfied: typing-extensions>=3.6.4 in /usr/local/lib/python3.7/dist-packages (from importlib-metadata>=4.4->markdown>=2.6.8->tensorboard<2.2.0,>=2.1.0->tensorflow-gpu==2.1.1) (3.10.0.2)\n",
      "Requirement already satisfied: pyasn1<0.5.0,>=0.4.6 in /usr/local/lib/python3.7/dist-packages (from pyasn1-modules>=0.2.1->google-auth<2,>=1.6.3->tensorboard<2.2.0,>=2.1.0->tensorflow-gpu==2.1.1) (0.4.8)\n",
      "Requirement already satisfied: certifi>=2017.4.17 in /usr/local/lib/python3.7/dist-packages (from requests<3,>=2.21.0->tensorboard<2.2.0,>=2.1.0->tensorflow-gpu==2.1.1) (2021.10.8)\n",
      "Requirement already satisfied: idna<3,>=2.5 in /usr/local/lib/python3.7/dist-packages (from requests<3,>=2.21.0->tensorboard<2.2.0,>=2.1.0->tensorflow-gpu==2.1.1) (2.10)\n",
      "Requirement already satisfied: chardet<4,>=3.0.2 in /usr/local/lib/python3.7/dist-packages (from requests<3,>=2.21.0->tensorboard<2.2.0,>=2.1.0->tensorflow-gpu==2.1.1) (3.0.4)\n",
      "Requirement already satisfied: urllib3!=1.25.0,!=1.25.1,<1.26,>=1.21.1 in /usr/local/lib/python3.7/dist-packages (from requests<3,>=2.21.0->tensorboard<2.2.0,>=2.1.0->tensorflow-gpu==2.1.1) (1.24.3)\n",
      "Requirement already satisfied: oauthlib>=3.0.0 in /usr/local/lib/python3.7/dist-packages (from requests-oauthlib>=0.7.0->google-auth-oauthlib<0.5,>=0.4.1->tensorboard<2.2.0,>=2.1.0->tensorflow-gpu==2.1.1) (3.1.1)\n",
      "Requirement already satisfied: cached-property in /usr/local/lib/python3.7/dist-packages (from h5py->keras-applications>=1.0.8->tensorflow-gpu==2.1.1) (1.5.2)\n"
     ]
    }
   ],
   "source": [
    "!pip install tensorflow-gpu==2.1.1"
   ],
   "metadata": {
    "collapsed": false,
    "pycharm": {
     "name": "#%%\n"
    }
   }
  },
  {
   "cell_type": "markdown",
   "source": [
    "import tensorflow as tf"
   ],
   "metadata": {
    "collapsed": false,
    "pycharm": {
     "name": "#%%\n"
    }
   }
  },
  {
   "cell_type": "code",
   "execution_count": null,
   "outputs": [
    {
     "output_type": "stream",
     "name": "stdout",
     "text": [
      "Requirement already satisfied: tensorflow-gpu==2.1.1 in /usr/local/lib/python3.7/dist-packages (2.1.1)\n",
      "Requirement already satisfied: absl-py>=0.7.0 in /usr/local/lib/python3.7/dist-packages (from tensorflow-gpu==2.1.1) (1.0.0)\n",
      "Requirement already satisfied: protobuf>=3.8.0 in /usr/local/lib/python3.7/dist-packages (from tensorflow-gpu==2.1.1) (3.17.3)\n",
      "Requirement already satisfied: wrapt>=1.11.1 in /usr/local/lib/python3.7/dist-packages (from tensorflow-gpu==2.1.1) (1.13.3)\n",
      "Requirement already satisfied: six>=1.12.0 in /usr/local/lib/python3.7/dist-packages (from tensorflow-gpu==2.1.1) (1.15.0)\n",
      "Requirement already satisfied: grpcio>=1.8.6 in /usr/local/lib/python3.7/dist-packages (from tensorflow-gpu==2.1.1) (1.43.0)\n",
      "Requirement already satisfied: keras-preprocessing==1.1.0 in /usr/local/lib/python3.7/dist-packages (from tensorflow-gpu==2.1.1) (1.1.0)\n",
      "Requirement already satisfied: astor>=0.6.0 in /usr/local/lib/python3.7/dist-packages (from tensorflow-gpu==2.1.1) (0.8.1)\n",
      "Requirement already satisfied: tensorboard<2.2.0,>=2.1.0 in /usr/local/lib/python3.7/dist-packages (from tensorflow-gpu==2.1.1) (2.1.1)\n",
      "Requirement already satisfied: tensorflow-estimator<2.2.0,>=2.1.0rc0 in /usr/local/lib/python3.7/dist-packages (from tensorflow-gpu==2.1.1) (2.1.0)\n",
      "Requirement already satisfied: numpy<2.0,>=1.16.0 in /usr/local/lib/python3.7/dist-packages (from tensorflow-gpu==2.1.1) (1.19.5)\n",
      "Requirement already satisfied: opt-einsum>=2.3.2 in /usr/local/lib/python3.7/dist-packages (from tensorflow-gpu==2.1.1) (3.3.0)\n",
      "Requirement already satisfied: wheel>=0.26 in /usr/local/lib/python3.7/dist-packages (from tensorflow-gpu==2.1.1) (0.37.1)\n",
      "Requirement already satisfied: gast==0.2.2 in /usr/local/lib/python3.7/dist-packages (from tensorflow-gpu==2.1.1) (0.2.2)\n",
      "Requirement already satisfied: google-pasta>=0.1.6 in /usr/local/lib/python3.7/dist-packages (from tensorflow-gpu==2.1.1) (0.2.0)\n",
      "Requirement already satisfied: keras-applications>=1.0.8 in /usr/local/lib/python3.7/dist-packages (from tensorflow-gpu==2.1.1) (1.0.8)\n",
      "Requirement already satisfied: termcolor>=1.1.0 in /usr/local/lib/python3.7/dist-packages (from tensorflow-gpu==2.1.1) (1.1.0)\n",
      "Requirement already satisfied: scipy==1.4.1 in /usr/local/lib/python3.7/dist-packages (from tensorflow-gpu==2.1.1) (1.4.1)\n",
      "Requirement already satisfied: h5py in /usr/local/lib/python3.7/dist-packages (from keras-applications>=1.0.8->tensorflow-gpu==2.1.1) (3.1.0)\n",
      "Requirement already satisfied: requests<3,>=2.21.0 in /usr/local/lib/python3.7/dist-packages (from tensorboard<2.2.0,>=2.1.0->tensorflow-gpu==2.1.1) (2.23.0)\n",
      "Requirement already satisfied: werkzeug>=0.11.15 in /usr/local/lib/python3.7/dist-packages (from tensorboard<2.2.0,>=2.1.0->tensorflow-gpu==2.1.1) (1.0.1)\n",
      "Requirement already satisfied: google-auth-oauthlib<0.5,>=0.4.1 in /usr/local/lib/python3.7/dist-packages (from tensorboard<2.2.0,>=2.1.0->tensorflow-gpu==2.1.1) (0.4.6)\n",
      "Requirement already satisfied: google-auth<2,>=1.6.3 in /usr/local/lib/python3.7/dist-packages (from tensorboard<2.2.0,>=2.1.0->tensorflow-gpu==2.1.1) (1.35.0)\n",
      "Requirement already satisfied: setuptools>=41.0.0 in /usr/local/lib/python3.7/dist-packages (from tensorboard<2.2.0,>=2.1.0->tensorflow-gpu==2.1.1) (57.4.0)\n",
      "Requirement already satisfied: markdown>=2.6.8 in /usr/local/lib/python3.7/dist-packages (from tensorboard<2.2.0,>=2.1.0->tensorflow-gpu==2.1.1) (3.3.6)\n",
      "Requirement already satisfied: rsa<5,>=3.1.4 in /usr/local/lib/python3.7/dist-packages (from google-auth<2,>=1.6.3->tensorboard<2.2.0,>=2.1.0->tensorflow-gpu==2.1.1) (4.8)\n",
      "Requirement already satisfied: pyasn1-modules>=0.2.1 in /usr/local/lib/python3.7/dist-packages (from google-auth<2,>=1.6.3->tensorboard<2.2.0,>=2.1.0->tensorflow-gpu==2.1.1) (0.2.8)\n",
      "Requirement already satisfied: cachetools<5.0,>=2.0.0 in /usr/local/lib/python3.7/dist-packages (from google-auth<2,>=1.6.3->tensorboard<2.2.0,>=2.1.0->tensorflow-gpu==2.1.1) (4.2.4)\n",
      "Requirement already satisfied: requests-oauthlib>=0.7.0 in /usr/local/lib/python3.7/dist-packages (from google-auth-oauthlib<0.5,>=0.4.1->tensorboard<2.2.0,>=2.1.0->tensorflow-gpu==2.1.1) (1.3.0)\n",
      "Requirement already satisfied: importlib-metadata>=4.4 in /usr/local/lib/python3.7/dist-packages (from markdown>=2.6.8->tensorboard<2.2.0,>=2.1.0->tensorflow-gpu==2.1.1) (4.10.1)\n",
      "Requirement already satisfied: zipp>=0.5 in /usr/local/lib/python3.7/dist-packages (from importlib-metadata>=4.4->markdown>=2.6.8->tensorboard<2.2.0,>=2.1.0->tensorflow-gpu==2.1.1) (3.7.0)\n",
      "Requirement already satisfied: typing-extensions>=3.6.4 in /usr/local/lib/python3.7/dist-packages (from importlib-metadata>=4.4->markdown>=2.6.8->tensorboard<2.2.0,>=2.1.0->tensorflow-gpu==2.1.1) (3.10.0.2)\n",
      "Requirement already satisfied: pyasn1<0.5.0,>=0.4.6 in /usr/local/lib/python3.7/dist-packages (from pyasn1-modules>=0.2.1->google-auth<2,>=1.6.3->tensorboard<2.2.0,>=2.1.0->tensorflow-gpu==2.1.1) (0.4.8)\n",
      "Requirement already satisfied: certifi>=2017.4.17 in /usr/local/lib/python3.7/dist-packages (from requests<3,>=2.21.0->tensorboard<2.2.0,>=2.1.0->tensorflow-gpu==2.1.1) (2021.10.8)\n",
      "Requirement already satisfied: idna<3,>=2.5 in /usr/local/lib/python3.7/dist-packages (from requests<3,>=2.21.0->tensorboard<2.2.0,>=2.1.0->tensorflow-gpu==2.1.1) (2.10)\n",
      "Requirement already satisfied: chardet<4,>=3.0.2 in /usr/local/lib/python3.7/dist-packages (from requests<3,>=2.21.0->tensorboard<2.2.0,>=2.1.0->tensorflow-gpu==2.1.1) (3.0.4)\n",
      "Requirement already satisfied: urllib3!=1.25.0,!=1.25.1,<1.26,>=1.21.1 in /usr/local/lib/python3.7/dist-packages (from requests<3,>=2.21.0->tensorboard<2.2.0,>=2.1.0->tensorflow-gpu==2.1.1) (1.24.3)\n",
      "Requirement already satisfied: oauthlib>=3.0.0 in /usr/local/lib/python3.7/dist-packages (from requests-oauthlib>=0.7.0->google-auth-oauthlib<0.5,>=0.4.1->tensorboard<2.2.0,>=2.1.0->tensorflow-gpu==2.1.1) (3.1.1)\n",
      "Requirement already satisfied: cached-property in /usr/local/lib/python3.7/dist-packages (from h5py->keras-applications>=1.0.8->tensorflow-gpu==2.1.1) (1.5.2)\n"
     ]
    }
   ],
   "source": [
    "tf.__version__"
   ],
   "metadata": {
    "collapsed": false,
    "pycharm": {
     "name": "#%%\n"
    }
   }
  },
  {
   "cell_type": "markdown",
   "source": [
    "## 常量"
   ],
   "metadata": {
    "collapsed": false
   }
  },
  {
   "cell_type": "code",
   "source": [
    "### 定义常量"
   ],
   "metadata": {
    "collapsed": false
   },
   "execution_count": null,
   "outputs": [
    {
     "output_type": "stream",
     "name": "stdout",
     "text": [
      "Requirement already satisfied: tensorflow-gpu==2.1.1 in /usr/local/lib/python3.7/dist-packages (2.1.1)\n",
      "Requirement already satisfied: absl-py>=0.7.0 in /usr/local/lib/python3.7/dist-packages (from tensorflow-gpu==2.1.1) (1.0.0)\n",
      "Requirement already satisfied: protobuf>=3.8.0 in /usr/local/lib/python3.7/dist-packages (from tensorflow-gpu==2.1.1) (3.17.3)\n",
      "Requirement already satisfied: wrapt>=1.11.1 in /usr/local/lib/python3.7/dist-packages (from tensorflow-gpu==2.1.1) (1.13.3)\n",
      "Requirement already satisfied: six>=1.12.0 in /usr/local/lib/python3.7/dist-packages (from tensorflow-gpu==2.1.1) (1.15.0)\n",
      "Requirement already satisfied: grpcio>=1.8.6 in /usr/local/lib/python3.7/dist-packages (from tensorflow-gpu==2.1.1) (1.43.0)\n",
      "Requirement already satisfied: keras-preprocessing==1.1.0 in /usr/local/lib/python3.7/dist-packages (from tensorflow-gpu==2.1.1) (1.1.0)\n",
      "Requirement already satisfied: astor>=0.6.0 in /usr/local/lib/python3.7/dist-packages (from tensorflow-gpu==2.1.1) (0.8.1)\n",
      "Requirement already satisfied: tensorboard<2.2.0,>=2.1.0 in /usr/local/lib/python3.7/dist-packages (from tensorflow-gpu==2.1.1) (2.1.1)\n",
      "Requirement already satisfied: tensorflow-estimator<2.2.0,>=2.1.0rc0 in /usr/local/lib/python3.7/dist-packages (from tensorflow-gpu==2.1.1) (2.1.0)\n",
      "Requirement already satisfied: numpy<2.0,>=1.16.0 in /usr/local/lib/python3.7/dist-packages (from tensorflow-gpu==2.1.1) (1.19.5)\n",
      "Requirement already satisfied: opt-einsum>=2.3.2 in /usr/local/lib/python3.7/dist-packages (from tensorflow-gpu==2.1.1) (3.3.0)\n",
      "Requirement already satisfied: wheel>=0.26 in /usr/local/lib/python3.7/dist-packages (from tensorflow-gpu==2.1.1) (0.37.1)\n",
      "Requirement already satisfied: gast==0.2.2 in /usr/local/lib/python3.7/dist-packages (from tensorflow-gpu==2.1.1) (0.2.2)\n",
      "Requirement already satisfied: google-pasta>=0.1.6 in /usr/local/lib/python3.7/dist-packages (from tensorflow-gpu==2.1.1) (0.2.0)\n",
      "Requirement already satisfied: keras-applications>=1.0.8 in /usr/local/lib/python3.7/dist-packages (from tensorflow-gpu==2.1.1) (1.0.8)\n",
      "Requirement already satisfied: termcolor>=1.1.0 in /usr/local/lib/python3.7/dist-packages (from tensorflow-gpu==2.1.1) (1.1.0)\n",
      "Requirement already satisfied: scipy==1.4.1 in /usr/local/lib/python3.7/dist-packages (from tensorflow-gpu==2.1.1) (1.4.1)\n",
      "Requirement already satisfied: h5py in /usr/local/lib/python3.7/dist-packages (from keras-applications>=1.0.8->tensorflow-gpu==2.1.1) (3.1.0)\n",
      "Requirement already satisfied: requests<3,>=2.21.0 in /usr/local/lib/python3.7/dist-packages (from tensorboard<2.2.0,>=2.1.0->tensorflow-gpu==2.1.1) (2.23.0)\n",
      "Requirement already satisfied: werkzeug>=0.11.15 in /usr/local/lib/python3.7/dist-packages (from tensorboard<2.2.0,>=2.1.0->tensorflow-gpu==2.1.1) (1.0.1)\n",
      "Requirement already satisfied: google-auth-oauthlib<0.5,>=0.4.1 in /usr/local/lib/python3.7/dist-packages (from tensorboard<2.2.0,>=2.1.0->tensorflow-gpu==2.1.1) (0.4.6)\n",
      "Requirement already satisfied: google-auth<2,>=1.6.3 in /usr/local/lib/python3.7/dist-packages (from tensorboard<2.2.0,>=2.1.0->tensorflow-gpu==2.1.1) (1.35.0)\n",
      "Requirement already satisfied: setuptools>=41.0.0 in /usr/local/lib/python3.7/dist-packages (from tensorboard<2.2.0,>=2.1.0->tensorflow-gpu==2.1.1) (57.4.0)\n",
      "Requirement already satisfied: markdown>=2.6.8 in /usr/local/lib/python3.7/dist-packages (from tensorboard<2.2.0,>=2.1.0->tensorflow-gpu==2.1.1) (3.3.6)\n",
      "Requirement already satisfied: rsa<5,>=3.1.4 in /usr/local/lib/python3.7/dist-packages (from google-auth<2,>=1.6.3->tensorboard<2.2.0,>=2.1.0->tensorflow-gpu==2.1.1) (4.8)\n",
      "Requirement already satisfied: pyasn1-modules>=0.2.1 in /usr/local/lib/python3.7/dist-packages (from google-auth<2,>=1.6.3->tensorboard<2.2.0,>=2.1.0->tensorflow-gpu==2.1.1) (0.2.8)\n",
      "Requirement already satisfied: cachetools<5.0,>=2.0.0 in /usr/local/lib/python3.7/dist-packages (from google-auth<2,>=1.6.3->tensorboard<2.2.0,>=2.1.0->tensorflow-gpu==2.1.1) (4.2.4)\n",
      "Requirement already satisfied: requests-oauthlib>=0.7.0 in /usr/local/lib/python3.7/dist-packages (from google-auth-oauthlib<0.5,>=0.4.1->tensorboard<2.2.0,>=2.1.0->tensorflow-gpu==2.1.1) (1.3.0)\n",
      "Requirement already satisfied: importlib-metadata>=4.4 in /usr/local/lib/python3.7/dist-packages (from markdown>=2.6.8->tensorboard<2.2.0,>=2.1.0->tensorflow-gpu==2.1.1) (4.10.1)\n",
      "Requirement already satisfied: zipp>=0.5 in /usr/local/lib/python3.7/dist-packages (from importlib-metadata>=4.4->markdown>=2.6.8->tensorboard<2.2.0,>=2.1.0->tensorflow-gpu==2.1.1) (3.7.0)\n",
      "Requirement already satisfied: typing-extensions>=3.6.4 in /usr/local/lib/python3.7/dist-packages (from importlib-metadata>=4.4->markdown>=2.6.8->tensorboard<2.2.0,>=2.1.0->tensorflow-gpu==2.1.1) (3.10.0.2)\n",
      "Requirement already satisfied: pyasn1<0.5.0,>=0.4.6 in /usr/local/lib/python3.7/dist-packages (from pyasn1-modules>=0.2.1->google-auth<2,>=1.6.3->tensorboard<2.2.0,>=2.1.0->tensorflow-gpu==2.1.1) (0.4.8)\n",
      "Requirement already satisfied: certifi>=2017.4.17 in /usr/local/lib/python3.7/dist-packages (from requests<3,>=2.21.0->tensorboard<2.2.0,>=2.1.0->tensorflow-gpu==2.1.1) (2021.10.8)\n",
      "Requirement already satisfied: idna<3,>=2.5 in /usr/local/lib/python3.7/dist-packages (from requests<3,>=2.21.0->tensorboard<2.2.0,>=2.1.0->tensorflow-gpu==2.1.1) (2.10)\n",
      "Requirement already satisfied: chardet<4,>=3.0.2 in /usr/local/lib/python3.7/dist-packages (from requests<3,>=2.21.0->tensorboard<2.2.0,>=2.1.0->tensorflow-gpu==2.1.1) (3.0.4)\n",
      "Requirement already satisfied: urllib3!=1.25.0,!=1.25.1,<1.26,>=1.21.1 in /usr/local/lib/python3.7/dist-packages (from requests<3,>=2.21.0->tensorboard<2.2.0,>=2.1.0->tensorflow-gpu==2.1.1) (1.24.3)\n",
      "Requirement already satisfied: oauthlib>=3.0.0 in /usr/local/lib/python3.7/dist-packages (from requests-oauthlib>=0.7.0->google-auth-oauthlib<0.5,>=0.4.1->tensorboard<2.2.0,>=2.1.0->tensorflow-gpu==2.1.1) (3.1.1)\n",
      "Requirement already satisfied: cached-property in /usr/local/lib/python3.7/dist-packages (from h5py->keras-applications>=1.0.8->tensorflow-gpu==2.1.1) (1.5.2)\n"
     ]
    }
   ]
  },
  {
   "cell_type": "code",
   "execution_count": null,
   "outputs": [],
   "source": [
    "# 定义Tensorflow常量\n",
    "tensor = tf.constant([[23,4],[32,51]])"
   ],
   "metadata": {
    "collapsed": false,
    "pycharm": {
     "name": "#%%\n"
    }
   }
  },
  {
   "cell_type": "code",
   "execution_count": null,
   "outputs": [
    {
     "output_type": "execute_result",
     "data": {
      "application/vnd.google.colaboratory.intrinsic+json": {
       "type": "string"
      },
      "text/plain": [
       "'2.1.1'"
      ]
     },
     "metadata": {},
     "execution_count": 3
    }
   ],
   "source": [
    "tensor"
   ],
   "metadata": {
    "collapsed": false,
    "pycharm": {
     "name": "#%%\n"
    }
   }
  },
  {
   "cell_type": "markdown",
   "source": [
    "# tf1.14中，如果session没有初始化，不能获取常量值\n",
    "tensor.eval()"
   ],
   "metadata": {
    "collapsed": false,
    "pycharm": {
     "name": "#%%\n"
    }
   }
  },
  {
   "cell_type": "markdown",
   "source": [
    "### 1.14 获取常量值的方法"
   ],
   "metadata": {
    "collapsed": false
   }
  },
  {
   "cell_type": "code",
   "execution_count": 1,
   "outputs": [],
   "source": [
    "# 开启一个会话 tf1.14才有手动开启Session\n",
    "session = tf.Session()\n",
    "session.run(tf.global_variables_initializer())\n",
    "tensor_value = session.run(tensor)\n",
    "tensor_value"
   ],
   "metadata": {
    "collapsed": false,
    "pycharm": {
     "name": "#%%\n"
    }
   }
  },
  {
   "cell_type": "markdown",
   "source": [
    "## 变量"
   ],
   "metadata": {
    "collapsed": false
   }
  },
  {
   "cell_type": "code",
   "execution_count": 1,
   "outputs": [],
   "source": [
    "# 定义一个变量\n",
    "variable = tf.Variable([[30,20],[10,45]])"
   ],
   "metadata": {
    "collapsed": false,
    "pycharm": {
     "name": "#%%\n"
    }
   }
  },
  {
   "cell_type": "code",
   "execution_count": 2,
   "outputs": [
    {
     "ename": "NameError",
     "evalue": "name 'tf' is not defined",
     "output_type": "error",
     "traceback": [
      "\u001B[1;31m---------------------------------------------------------------------------\u001B[0m",
      "\u001B[1;31mNameError\u001B[0m                                 Traceback (most recent call last)",
      "Input \u001B[1;32mIn [2]\u001B[0m, in \u001B[0;36m<module>\u001B[1;34m\u001B[0m\n\u001B[0;32m      1\u001B[0m \u001B[38;5;66;03m# 定义Tensorflow常量\u001B[39;00m\n\u001B[1;32m----> 2\u001B[0m tensor \u001B[38;5;241m=\u001B[39m \u001B[43mtf\u001B[49m\u001B[38;5;241m.\u001B[39mconstant([[\u001B[38;5;241m23\u001B[39m,\u001B[38;5;241m4\u001B[39m],[\u001B[38;5;241m32\u001B[39m,\u001B[38;5;241m51\u001B[39m]])\n",
      "\u001B[1;31mNameError\u001B[0m: name 'tf' is not defined"
     ]
    }
   ],
   "source": [
    "variable"
   ],
   "metadata": {
    "collapsed": false,
    "pycharm": {
     "name": "#%%\n"
    }
   }
  },
  {
   "cell_type": "code",
   "source": [
    "如果是tensorflow 1.14, 那么上面直接variable是获取不到上面的值"
   ],
   "metadata": {
    "collapsed": false
   },
   "execution_count": null,
   "outputs": []
  },
  {
   "cell_type": "markdown",
   "source": [
    "# tensorflow 1.14 需要使用eval()获取值\n",
    "variable.eval()"
   ],
   "metadata": {
    "collapsed": false,
    "pycharm": {
     "name": "#%%\n"
    }
   }
  },
  {
   "cell_type": "markdown",
   "source": [
    "## tf1.14获取变量值的方法"
   ],
   "metadata": {
    "collapsed": false
   }
  },
  {
   "cell_type": "code",
   "execution_count": 1,
   "outputs": [],
   "source": [
    "# 初始化session会话\n",
    "session = tf.Session()\n",
    "\n",
    "# 从session中初始化全局变量\n",
    "session.run(tf.global_variables_initializer)\n",
    "\n",
    "variable.eval(session)"
   ],
   "metadata": {
    "collapsed": false,
    "pycharm": {
     "name": "#%%\n"
    }
   }
  },
  {
   "cell_type": "markdown",
   "source": [
    "# Tensorflow 2.1.1"
   ],
   "metadata": {
    "collapsed": false
   }
  },
  {
   "cell_type": "code",
   "execution_count": 1,
   "outputs": [],
   "source": [
    "# 导入tensorflow2.1.1\n",
    "import tensorflow as tf\n",
    "\n",
    "# 导入numpy\n",
    "import numpy as np\n",
    "\n",
    "tf.__version__"
   ],
   "metadata": {
    "collapsed": false,
    "pycharm": {
     "name": "#%%\n"
    }
   }
  },
  {
   "cell_type": "markdown",
   "source": [
    "## 2.1.1常量"
   ],
   "metadata": {
    "collapsed": false
   }
  },
  {
   "cell_type": "code",
   "execution_count": 1,
   "outputs": [],
   "source": [
    "# 定义常量\n",
    "tensor_211 = tf.constant([[23,4],[32,51]])\n",
    "\n",
    "tensor_211"
   ],
   "metadata": {
    "collapsed": false,
    "pycharm": {
     "name": "#%%\n"
    }
   }
  },
  {
   "cell_type": "code",
   "execution_count": 2,
   "outputs": [
    {
     "ename": "NameError",
     "evalue": "name 'tf' is not defined",
     "output_type": "error",
     "traceback": [
      "\u001B[1;31m---------------------------------------------------------------------------\u001B[0m",
      "\u001B[1;31mNameError\u001B[0m                                 Traceback (most recent call last)",
      "Input \u001B[1;32mIn [2]\u001B[0m, in \u001B[0;36m<module>\u001B[1;34m\u001B[0m\n\u001B[0;32m      1\u001B[0m \u001B[38;5;66;03m# 定义Tensorflow常量\u001B[39;00m\n\u001B[1;32m----> 2\u001B[0m tensor \u001B[38;5;241m=\u001B[39m \u001B[43mtf\u001B[49m\u001B[38;5;241m.\u001B[39mconstant([[\u001B[38;5;241m23\u001B[39m,\u001B[38;5;241m4\u001B[39m],[\u001B[38;5;241m32\u001B[39m,\u001B[38;5;241m51\u001B[39m]])\n",
      "\u001B[1;31mNameError\u001B[0m: name 'tf' is not defined"
     ]
    }
   ],
   "source": [
    "# 获取tensor211常量的形状\n",
    "tensor_211.shape"
   ],
   "metadata": {
    "collapsed": false,
    "pycharm": {
     "name": "#%%\n"
    }
   }
  },
  {
   "cell_type": "code",
   "execution_count": null,
   "outputs": [],
   "source": [
    "# 使用numpy而非session即可获取到tensor211的值\n",
    "tensor_211.numpy()"
   ],
   "metadata": {
    "collapsed": false,
    "pycharm": {
     "name": "#%%\n"
    }
   }
  },
  {
   "cell_type": "markdown",
   "source": [
    "# 可以将一个numpy array转换成一个tensor 张量\n",
    "# 先定义一个numpy array\n",
    "numpy_tensor = np.array([[23,4],[32,51]])"
   ],
   "metadata": {
    "collapsed": false,
    "pycharm": {
     "name": "#%%\n"
    }
   }
  },
  {
   "cell_type": "markdown",
   "source": [
    "# 将numpy array传入constant中作为参数\n",
    "tensor_from_numpy = tf.constant(numpy_tensor)"
   ],
   "metadata": {
    "collapsed": false,
    "pycharm": {
     "name": "#%%\n"
    }
   }
  },
  {
   "cell_type": "code",
   "execution_count": null,
   "outputs": [],
   "source": [
    "tensor_from_numpy"
   ],
   "metadata": {
    "collapsed": false,
    "pycharm": {
     "name": "#%%\n"
    }
   }
  },
  {
   "cell_type": "markdown",
   "source": [
    "## 2.1.1变量"
   ],
   "metadata": {
    "collapsed": false
   }
  },
  {
   "cell_type": "code",
   "execution_count": 1,
   "outputs": [],
   "source": [
    "# 定义变量\n",
    "tf2_variable = tf.Variable([[1., 2., 3.], [4., 5., 6.,]])\n",
    "tf2_variable"
   ],
   "metadata": {
    "collapsed": false,
    "pycharm": {
     "name": "#%%\n"
    }
   }
  },
  {
   "cell_type": "code",
   "execution_count": 2,
   "outputs": [
    {
     "ename": "NameError",
     "evalue": "name 'tf' is not defined",
     "output_type": "error",
     "traceback": [
      "\u001B[1;31m---------------------------------------------------------------------------\u001B[0m",
      "\u001B[1;31mNameError\u001B[0m                                 Traceback (most recent call last)",
      "Input \u001B[1;32mIn [2]\u001B[0m, in \u001B[0;36m<module>\u001B[1;34m\u001B[0m\n\u001B[0;32m      1\u001B[0m \u001B[38;5;66;03m# 定义Tensorflow常量\u001B[39;00m\n\u001B[1;32m----> 2\u001B[0m tensor \u001B[38;5;241m=\u001B[39m \u001B[43mtf\u001B[49m\u001B[38;5;241m.\u001B[39mconstant([[\u001B[38;5;241m23\u001B[39m,\u001B[38;5;241m4\u001B[39m],[\u001B[38;5;241m32\u001B[39m,\u001B[38;5;241m51\u001B[39m]])\n",
      "\u001B[1;31mNameError\u001B[0m: name 'tf' is not defined"
     ]
    }
   ],
   "source": [
    "# 获取变量值\n",
    "tf2_variable.numpy()"
   ],
   "metadata": {
    "collapsed": false,
    "pycharm": {
     "name": "#%%\n"
    }
   }
  },
  {
   "cell_type": "code",
   "execution_count": null,
   "outputs": [],
   "source": [
    "# 改变特定值 只能在变量中时候用，因为constant不能被改变\n",
    "tf2_variable[0, 2].assign(100)"
   ],
   "metadata": {
    "collapsed": false,
    "pycharm": {
     "name": "#%%\n"
    }
   }
  },
  {
   "cell_type": "markdown",
   "source": [
    "## 张量运算"
   ],
   "metadata": {
    "collapsed": false
   }
  },
  {
   "cell_type": "code",
   "execution_count": 1,
   "outputs": [],
   "source": [
    "# 首先声明一个常量张量, 既可以是常量张量，也可以是变量张量\n",
    "# 虽然constant原值不能被改变，但仍然可以参与运算\n",
    "tensor = tf.constant([[1,2], [3,4]])\n",
    "tensor"
   ],
   "metadata": {
    "collapsed": false,
    "pycharm": {
     "name": "#%%\n"
    }
   }
  },
  {
   "cell_type": "code",
   "source": [
    "## 张量的加法"
   ],
   "metadata": {
    "collapsed": false
   },
   "execution_count": 2,
   "outputs": [
    {
     "ename": "NameError",
     "evalue": "name 'tf' is not defined",
     "output_type": "error",
     "traceback": [
      "\u001B[1;31m---------------------------------------------------------------------------\u001B[0m",
      "\u001B[1;31mNameError\u001B[0m                                 Traceback (most recent call last)",
      "Input \u001B[1;32mIn [2]\u001B[0m, in \u001B[0;36m<module>\u001B[1;34m\u001B[0m\n\u001B[0;32m      1\u001B[0m \u001B[38;5;66;03m# 定义Tensorflow常量\u001B[39;00m\n\u001B[1;32m----> 2\u001B[0m tensor \u001B[38;5;241m=\u001B[39m \u001B[43mtf\u001B[49m\u001B[38;5;241m.\u001B[39mconstant([[\u001B[38;5;241m23\u001B[39m,\u001B[38;5;241m4\u001B[39m],[\u001B[38;5;241m32\u001B[39m,\u001B[38;5;241m51\u001B[39m]])\n",
      "\u001B[1;31mNameError\u001B[0m: name 'tf' is not defined"
     ]
    }
   ]
  },
  {
   "cell_type": "code",
   "execution_count": null,
   "outputs": [],
   "source": [
    "# 张量加一个简单的标量\n",
    "tensor + 2"
   ],
   "metadata": {
    "collapsed": false,
    "pycharm": {
     "name": "#%%\n"
    }
   }
  },
  {
   "cell_type": "markdown",
   "source": [
    "## 张量和标量的乘法"
   ],
   "metadata": {
    "collapsed": false
   }
  },
  {
   "cell_type": "markdown",
   "source": [
    "tensor * 2"
   ],
   "metadata": {
    "collapsed": false,
    "pycharm": {
     "name": "#%%\n"
    }
   }
  },
  {
   "cell_type": "markdown",
   "source": [
    "## 使用numpy函数对张量进行运算"
   ],
   "metadata": {
    "collapsed": false
   }
  },
  {
   "cell_type": "code",
   "execution_count": 1,
   "outputs": [],
   "source": [
    "# 对张量中的每个单元进行平方操作, 返回一个新张量\n",
    "np.square(tensor)"
   ],
   "metadata": {
    "collapsed": false,
    "pycharm": {
     "name": "#%%\n"
    }
   }
  },
  {
   "cell_type": "code",
   "execution_count": 2,
   "outputs": [
    {
     "ename": "NameError",
     "evalue": "name 'tf' is not defined",
     "output_type": "error",
     "traceback": [
      "\u001B[1;31m---------------------------------------------------------------------------\u001B[0m",
      "\u001B[1;31mNameError\u001B[0m                                 Traceback (most recent call last)",
      "Input \u001B[1;32mIn [2]\u001B[0m, in \u001B[0;36m<module>\u001B[1;34m\u001B[0m\n\u001B[0;32m      1\u001B[0m \u001B[38;5;66;03m# 定义Tensorflow常量\u001B[39;00m\n\u001B[1;32m----> 2\u001B[0m tensor \u001B[38;5;241m=\u001B[39m \u001B[43mtf\u001B[49m\u001B[38;5;241m.\u001B[39mconstant([[\u001B[38;5;241m23\u001B[39m,\u001B[38;5;241m4\u001B[39m],[\u001B[38;5;241m32\u001B[39m,\u001B[38;5;241m51\u001B[39m]])\n",
      "\u001B[1;31mNameError\u001B[0m: name 'tf' is not defined"
     ]
    }
   ],
   "source": [
    "# 对张量中的每个单元进行开方操作，返回一个新张量\n",
    "np.sqrt(tensor)"
   ],
   "metadata": {
    "collapsed": false,
    "pycharm": {
     "name": "#%%\n"
    }
   }
  },
  {
   "cell_type": "code",
   "source": [
    "你还可以使用numpy的其他函数，比如指数、对数操作对张量进行计算"
   ],
   "metadata": {
    "collapsed": false
   },
   "execution_count": null,
   "outputs": []
  },
  {
   "cell_type": "markdown",
   "source": [
    "## 对两个张量进行点积运算\n",
    "\n"
   ],
   "metadata": {
    "collapsed": false
   }
  },
  {
   "cell_type": "markdown",
   "source": [
    "tensor1 = tf.Variable([[1,2], [3,4]])\n",
    "tensor2 = tf.constant([[10,20],[30,40]])\n",
    "\n",
    "np.dot(tensor1, tensor2)"
   ],
   "metadata": {
    "collapsed": false,
    "pycharm": {
     "name": "#%%\n"
    }
   }
  },
  {
   "cell_type": "code",
   "source": [
    "![微信图片编辑_20220129170614.jpg](data:image/jpeg;base64,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)\n",
    "\n",
    "\n",
    "![无标题.jpg](data:image/jpeg;base64,/9j/4AAQSkZJRgABAQEAYABgAAD/2wBDAAIBAQIBAQICAgICAgICAwUDAwMDAwYEBAMFBwYHBwcGBwcICQsJCAgKCAcHCg0KCgsMDAwMBwkODw0MDgsMDAz/2wBDAQICAgMDAwYDAwYMCAcIDAwMDAwMDAwMDAwMDAwMDAwMDAwMDAwMDAwMDAwMDAwMDAwMDAwMDAwMDAwMDAwMDAz/wAARCAKjBPQDASIAAhEBAxEB/8QAHwAAAQUBAQEBAQEAAAAAAAAAAAECAwQFBgcICQoL/8QAtRAAAgEDAwIEAwUFBAQAAAF9AQIDAAQRBRIhMUEGE1FhByJxFDKBkaEII0KxwRVS0fAkM2JyggkKFhcYGRolJicoKSo0NTY3ODk6Q0RFRkdISUpTVFVWV1hZWmNkZWZnaGlqc3R1dnd4eXqDhIWGh4iJipKTlJWWl5iZmqKjpKWmp6ipqrKztLW2t7i5usLDxMXGx8jJytLT1NXW19jZ2uHi4+Tl5ufo6erx8vP09fb3+Pn6/8QAHwEAAwEBAQEBAQEBAQAAAAAAAAECAwQFBgcICQoL/8QAtREAAgECBAQDBAcFBAQAAQJ3AAECAxEEBSExBhJBUQdhcRMiMoEIFEKRobHBCSMzUvAVYnLRChYkNOEl8RcYGRomJygpKjU2Nzg5OkNERUZHSElKU1RVVldYWVpjZGVmZ2hpanN0dXZ3eHl6goOEhYaHiImKkpOUlZaXmJmaoqOkpaanqKmqsrO0tba3uLm6wsPExcbHyMnK0tPU1dbX2Nna4uPk5ebn6Onq8vP09fb3+Pn6/9oADAMBAAIRAxEAPwD9/KKKKACiiigAooooAKKKKACiiigAooooAKKKKACiiigAooooAKKKKACiiigAooooAKKKKACiiigAooooAKKKKACiiigAooooAKKKKACiiigAooooAKKKKACiiigAooooAKKKKACiiigAooooAKKKKACiiigAooooAKKKKACiiigAooooAKKKKACiiigAooooAKKKKACiiigAooooAKKKKACiiigAooooAKKKKACiiigAooooAKKKKACiiigAooooAKKKKACiiigAooooAKKKKACiiigAooooAKKKKACiiigAooooAKKKKACiiigAooooAKKKKACiiigAooooAKKKKACiiigAooooAKKKKACiiigAooooAKKKKACiiigAooooAKKKKACiiigAooooAKKKKACiiigAooooAKKKKACiiigAooooAKKKKACiiigAooooAKKKKACiiigAooooAKKKKACiiigAooooAKKKKACiiigAooooAKKKKACiiigAooooAKKKKACiiigAooooAKKKKACiiigAooooAKKKKACiiigAooooAKKKKACiiigAooooAKKKKACiiigAooooAKKKKACiiigAooooAKKKKACiiigAooooAKKKKACiiigAooooAKKKKACiiigAooooAKKKKACiiigAooooAKKKKACiiigAooooAKKKKACiiigAooooAKKKKACiiigAooooAKKKKACiiigAooooAKKKKACiiigAooooAKKKKACiiigAooooAKKKKACiiigAooooAKKKKACiiigAooooAKKKKACiiigAooooAKKKKACiiigAooooAKKKKACiiigAooooAKKKKACiiigAooooAKKKKACiiigAooooAKKKKACiiigAooooAKKKKACiiigAooooAKKKKACiiigAooooAKKKKACiiigAooooAKKKKACiiigAooooAKKKKACiiigAooooAKKKKACiiigAooooAKKKKACiiigAooooAKKKKACiiigAooooAKKKKACiiigAooooAKKKKACiiigAooooAKKKKACiiigAooooAKKKKACiiigAooooAKKKKACiiigAooooAKKKKACiiigAooooAKKKKACiiigAooooAKKKKACiiigAooooAKKKKACiiigAooooAKKKKACiiigAooooAKKKKACiiigAooooAKKKKACiiigAooooAKKKKACiiigAooooAKKKKACiiigAooooAKKKKACiiigAooooAKKKKACiiigAooooAKKKKACiiigAooooAKKKKACiiigAooooAKKKKACiiigAooooAKKKKACiiigAooooAKKKKACiiigAooooAKKKKACiiigAooooAKKKKACiiigAooooAKKKKACiiigAooooAKKKKACiiigAooooAKKKKACiiigAooooAKKKKACiiigAooooAKKKKACiiigAooooAKKKKACiiigAooooAKKKKACiiigAooooAKKKKACiiigAooooAKKKKACiiigAooooAKKKKACiiigAooooAKKKKACiiigAooooAKKKKACiiigAooooAKKKKACiiigAooooAKKKKACiiigAooooAKKKKACiiigAooooAKKKKACiiigAooooAKKKKACiiigAooooAKKKKACiiigAooooAKKKKACiiigAooooAKKKKACiiigAooooAKKKKACiiigAooooAKKKKACiiigAooooAKKKKACiiigAooooAKKKKACiiigAooooAKKKKACiiigAooooAKKKKACiiigAooooAKKKKACiiigAooooAKKKKACiiigAooooAKKKKACiiigAooooAKKKKACiiigAooooAKKKKACiiigAooooAKKKKACiiigAork/g98c/CP7QHhu51jwZr1h4i0yzvZdOmubRiyR3Ee0unIHIDKc9CGUgkEGqX7QP7S3gP8AZW8EQeJPiH4n0zwnodzfQ6bFeXzlY5LiXOyMYBOSFYnjAVGYkBSRCqRlHnT07nXPAYqGI+qTpyVW9uVp81+3LvfysdzRRRVnIFFFFABRRRQAUUUUAFFFFABRRRQAUUUUAFFeVeFP2q9O8WftbeJ/hLFpd5HqPhjSo9Ulv2kXyZg4tyUC9RgXMfPfDcDAz6rWdOrCom4O9m181ucuFxtDEqUqErqMnF+UouzXyYUUUVodQUUUUAFFFFABRRRQAUUUUAFFFFABRRRQAUUUUAFFFFABRRRQAUUUUAFFFFABRRRQAUUUUAFFFFABRRRQAUUUUAFFFFABRRRQAUUUUAFFFFABRRRQAUUUUAFFFFABRRRQAUUUUAFFFFABRRRQAUUUUAFFFFABRRRQAUUUUAFFFFABRRRQAUUUUAFFFFABRRRQAUUUUAFFFFABRRRQAUUUUAFFFFABRRRQAUUUUAFFFFABRRRQAUUUUAfHP/BEf4/eMP2jf2VfEWueNtdvfEOqweL7u1iuLogtHD9ltJRGMAYUPLJgdgcDgAV9jV8E/wDBu1/yZT4o/wCx3u//AEg0+vvavLyScp4ClKbu7H6N4uYWhhuMcwoYaChCNR2UUklotktEFFFFeofnIUUUUAFcj8edc8YeG/hBr194A0XT/EXjG3tt2ladfXIt7e6l3AYZyygYUscFlyQBuXOR11FTOPNFxTtc3wtZUa0K0oKai0+WV+WVnezs07PZ2adtmj4C8P8A/BUn4ufs0/FfSNH/AGofhxpHgfw94jRhY61oQa4itnU4PmbLi4Vx/eVWDqCDtYGvuvwj4v0rx94ZstZ0TUbLVtJ1KIT2t5aTLNDcIejKykgiqHxS+FHhz42eB73w34r0ex13RNQTZNa3cQdT6MvdXHUMuGU8gg1+fv7N2r+OP+CUv7Yuh/BLXJIta+EPxP1iQeFdRuJc3FnK+FCKAeGMskCSIVCksHTG5gfF9rXwNRRrSc6cnbme8W9r23TfW2h+r/2flPF2Dq18poRwuPoxc5UYt+yrQim5OkpNyjUhFXcOZqSTcdbo/SOiiivcPyEKKKKACiiigAooooAKKKKACiiigAooooAKKKKACiiigAooooAKKKKACiiigAooooAKKKKACiiigAooooAoQeKNNufEM+kR6jYyarbQrcTWSzqbiKNiQrtHncFJBAJGDir9fBXwAkZv+DgP44AkkDwRbADPT9zon+J/OvvWuPBYp11NtW5ZSj9zsfU8V8OxyerhqcZ8/tqFGtta3tYKXLu72va/XsFFFfGnxp/4LmfBz4H/ABZ13wffaZ471PUPDt/Lpt7cafp1u1ss8TlJFBkuEc7XDDO3nacZGCbxWMoYaKlXkop9zm4e4VzfPasqGUYeVaUVdqKvZbXZ9l0Vy/wX+Mfh/wDaA+F+j+MfC18NR0HXYfPtZ9pQ8MVZWU8qyurKwPQqRXUVvGSlFSi7pni4jD1cPVlQrxcZxbTTVmmnZpro09Gj4J/4N2v+TKfFH/Y73f8A6QafXm//AAdjf8o6vBn/AGUex/8ATZqlekf8G7X/ACZT4o/7He7/APSDT683/wCDsb/lHV4M/wCyj2P/AKbNUrwct/5FEP8ACfvPEv8Aydmt/wBf/wD20+8f2tfDXxT8WfCGWz+D3iLw/wCF/GL3UTC+1iDzYFtxnzFUeXKA5+XBMbDAIwCQw3P2f9J8baF8HdCtPiNqmka341ghZdVvtLiMVpcSb22lFKr/AAbATtUFgSFUHA7GivaVFKr7W72ta+n3d/M/FJZrKWXxy72cLKXPz8i9ptblc/icevLtfUx/Amu6n4k8MxXesaJP4d1B5ZkewluYrlo1SV0R98RKEOirIBnIDgMAwIGxRRWqVlZnn1Zqc3OMVFN7K9l5K7bsvNt92woorzL9rX4H+Jf2hPhDL4c8K/EPWvhlqkt1FOdZ0uIvOY1zui+WSNwGyDlHU/KOoJBmrKUYOUVd9u/3nRl9CjXxMKOIqqlCTSc2pNRXVtRTk7dkmz02ivgS9/4JJ/HGOylNv+2L8TZbgIxiST+0I0d8cBmGosVBPUhTj0PSu9/4Im/tF+Lv2kf2PLu/8Z6rNrep6B4huNGhvrglrieBLe2mUyueXcGdhuPJAXOTknzaGY1JV1Qr0nByTa1Tva19n5n3Wb8DYKllNXOMpzGGKhRlCM0oVYOPtOblf7yMb35XtsfX1FFfEn7aP7bXxY1L9r2x+A/wHg8Nv4kk0oX+ratqEZl/shyGfad2Y0CxeUxLI+TOigZ69eLxkMNDnnd3dklq230R83wxwxi89xcsLhHGPJGU5ym+WEIR+KUnrZLTo9z7bor87PC/7Y3x1/YK/ad0Dw7+034n0bxH4H8Y2jJa6/pWnxpaabc78DdIlvAx24HmKyHCyqwPBFfodY30OqWUNzbTRXFvcIssUsTh0lRhlWVhwQQQQRUYPHU8TzKKcZR0aejX57nVxTwdjMidGdWcKtKtHmhVptypzSdmlJxi7xekk0mvmit4ltLvUPDmoQWFx9kvp7aSO3nxnyZCpCvj2OD+FeQfsB/FrVfi78AludauZr7UNL1CbT5LqZt0lwAqSqWPchZQuevy17bXzT/wSw/5N81j/sYZ/wD0mta+fzGtUp8Q4KEJPlnCsmr6O3s2tNrq++5pllClU4cx05xXNCdFp21XN7RPXezttscZo7t8Lf8AgtJqovF3j4keFVFiV/5ZiOGIkt+OnS/mK+ya+Nf2tpW+GH/BUP4F+Mbsb9O1m0k8OxAdVmZp4dx9gdQiP4GvsqvZy33Z1qfabf3pP/M/H+FP3dbH4Z7xrydvKcYzv823YKKKK9Q+wCiiigAooooAKKKKACiiigAooooAKKKKACiiigAooooAKKKKACiiigAooooAKKKKACiiigAooooAKKKKACiiigAooooAKKKKACiiigAooooAKKKKACiiigAooooAKKKKACiiigAooooAKKKKACiiigAooooAKKKKACiiigAooooAKKKKACiiigAooooAKKKKACiiigAooooAKKKKACiiigAooooAKKKKACiiigAooooAKKKKACiiigD4J/4N2v8AkynxR/2O93/6QafX3tXxl/wQ1+CXi34C/sneJNH8ZeHtU8N6pN4xvLiO2v4DDJJELWzi8xQeqF4pAGHDbcgkEGvs2vKyOMo4ClGSs7H6P4vYmjiOMswrUJKUXUdmmmnotmtAooor1T84CiiigAooooAK+Cf+Ct//ACet+xt/2O7f+l+kV97V+cn7cf7MX7Uv7X/7X/h290fQfCPhDw38MdTmvfCHiG41KGSNn3wSpPPGDLKzs1vFhDb7FIIO4ZY+NnvM8LyQi5NuOyvtJP5bH6p4PRw8OIVi8XiKdGnTp1ryqTUfjpTppRT1k+aa0im7Xdj9G6K+Cf8Ahn7/AIKBf9Fx+Fv/AIAQ/wDyqrOu/wDglR8df2nJyfjx+0De3elPPH9o0Pw2j/Y7yJe+CsEEcmejG2k9eabzOvLSlh538+VL77v8jOHh/lNF+0x+eYZU1v7L21Wfyh7OF/nJLu0tT7j8GfGPwj8RtZ1DTvD3irw5ruoaS22+tdO1OG6msjnGJURiUOePmArpK8M/ZH/4J0fC39im4kvvBekXv9vXNkdPu9Y1C+kuLu8hMgkKsuRCvzKmfLjTOxc5xXudejh3WdNOukpeTuv0Ph89pZZTxkoZPUnUoq1pVIqMm+uilJWvtre26TCiiitzxwooooAKKKKACiiigAooooAKKKKACiiigAooooAKKKKACiiigAooooAKKKKACiiigAooooA+Cf2fv+VgX44/9iRbf+idDr72r4J/Z+/5WBfjj/2JFt/6J0OvvavIyf4Kv/Xyf/pR+neKP+85d/2BYT/0zE8//ax8X6h8Pv2WfiXr2kXDWeraJ4V1TULK4UAmCeK0lkjcA8cMoPPpXwR+xj4C0/4S/wDBHv4v/F+91fWNR8UfFrQdVfVbm7nEmLiOa/s4GViNxdpJmdnYkln9ufuv9tPT59W/Y4+LNrawy3Fzc+DNYihiiQs8rtYzBVUDkkkgACvx78B/tMyftG/sxfAb9lvw/LrmkpqHiOSz8WXQtI3jnjuNUM1u0O1yzpEszySB1Qbok5IBNeXneIjSxSlLV8klFf3m0vyb+R+h+EeR4jMuHatLDvlgsXRlXlbahShUqyv1tzwjyr+e3mfp7/wSD0W80D/gnH8MYL7d5z2d1cruPPlS3txLF+HlulfSdY/w/wDA2m/DDwLo3hvRoPs2k6DZQ6fZxZz5cMSBEBPc4Uc962K+jwlF0aEKT+ykvuVj8J4lzWOZ5visyirKtUnO3bnk5W/E+Cf+Ddr/AJMp8Uf9jvd/+kGn15v/AMHY3/KOrwZ/2Uex/wDTZqlei/8ABE1D4A+If7SPw3g/5BvgnxqRbY+788t1bnA/3bKP9K86/wCDsb/lHV4M/wCyj2P/AKbNUrx8t/5FUV2TX3No/ZeJNfFWVVbTqQmvSdOM1+Ekfp9RRRX0B/P4UUUUAFFFFABXwT/wbtf8mU+KP+x3u/8A0g0+vuHxz4qg8C+CtY1u6/49tGsZr6bJx8kUbO36Ka+Mv+DfvwtN4f8A2FLy7l/1eu+Kb2+h4/gWG2t//QoGryMTrmNBLpGf/tp+nZB7nA+byltKrhEvNr27a+7U+4q/Pz9nfwL4j/4JvfBn43/tC/GXRDqnxA1nV8vBZ3sUpltJLmKOPy5FLCNJJ5gSp5WOGP5QRtr9A6+Jv+C/HxBvfBn7BP8AZ1qsJg8W+I7HSb0uuWWJFmvAU9G8y0i59Cw7083jGFF4v7VNSce12rJ28v8AMjwxrVsXmcOGlFexx1SjGrupOnCfNKMZJ6KS37tR1R7Z8X/htof/AAUP/YgWCawjhh8eeHINY0g3iK8ml3M1uJraTIzhkZ1DFeo3DODXln/BDr4133xi/YN0y21Dc83gnU5/DkczHJmhjjimi/BY7hYx7RivbP2IZlg/Yk+ELuyoieB9GZmY4CgWEOSTXy7/AMG7akfsUeJ+Ovja7I9/9BsK57v67h6nWcJX87crX4s9n2UVwnnWBetPDYqi6af2XJ1oSt6xjG/pfc+9q+af+CWH/Jvmsf8AYwz/APpNa19LV80/8EsP+TfNY/7GGf8A9JrWvMzb/ko8v/wV/wAqZ8hk/wDyTWZf48P+dU4z/gtZCNM/Z+8H65b/ALrVtL8VQraXK/fgDW1w5wf96GM/8AFfZNfHP/Bbr/k1Pw//ANjZbf8ApHe19jV72G/36t6Q/wDbj8aynTiHMLfy0Pyqf5BRRRXpn2AUUUUAFFFFABRRRQAUUUUAFFFFABRRRQAUUUUAFFFFABRRRQAUUUUAFFFFABRRRQAUUUUAFFFFABRRRQAUUUUAFFFFABRRRQAUUUUAFFFFABRRRQAUUUUAFFFFABRRRQAUUUUAFFFFABRRRQAUUUUAFFFFABRRRQAUUUUAFFFFABRRRQAUUUUAFFFFABRRRQAUUUUAFFFFABRXE/tG/EvWfg78DvEnibw/4Zv/ABjrWkWhms9HslLTXsmQoACgsQM7iFBbapwCcCvB/wBjT/gqN4f+OHwO8W698REsvh7r/wAObj7N4nsp2cLagv5aSqjAyAGTMZQgsJF285XPLUxtGnVVGo7NpvysvPY+kwHCWa47LZ5rg6XPShOMHytOXNK3L7i96zbSTtbmaW59XUVR8M+JLDxl4b0/V9Kuob7TNVto7yzuYW3R3EMih0dT3DKQR7Gr1dSaauj52cJQk4TVmt0FFFFBIUUUUAFFFFABRRRQAUUUUAFFR3d3FYWsk88kcMMKGSSSRgqxqBkkk8AAd68h8W/8FB/gb4J0e4vr34tfD94rb/WR2WtwXtx9BDCzyMfYKayqV6dNXqSS9XY9DAZTjsdLlwVGdR7e7Fy322T3PYqK+W/+H0n7NH/RSv8Ay3tV/wDkaj/h9J+zR/0Ur/y3tV/+Rq5f7VwX/P6H/gS/zPpP+Ib8W/8AQrxP/gir/wDIn1JRXy3/AMPpP2aP+ilf+W9qv/yNR/w+k/Zo/wCilf8Alvar/wDI1H9q4L/n9D/wJf5h/wAQ34t/6FeJ/wDBFX/5E+pKK+W/+H0n7NH/AEUr/wAt7Vf/AJGo/wCH0n7NH/RSv/Le1X/5Go/tXBf8/of+BL/MP+Ib8W/9CvE/+CKv/wAifUlFfLf/AA+k/Zo/6KV/5b2q/wDyNR/w+k/Zo/6KV/5b2q//ACNR/auC/wCf0P8AwJf5h/xDfi3/AKFeJ/8ABFX/AORPqSivlv8A4fSfs0f9FK/8t7Vf/kaj/h9J+zR/0Ur/AMt7Vf8A5Go/tXBf8/of+BL/ADD/AIhvxb/0K8T/AOCKv/yJ9SUV8t/8PpP2aP8AopX/AJb2q/8AyNR/w+k/Zo/6KV/5b2q//I1H9q4L/n9D/wACX+Yf8Q34t/6FeJ/8EVf/AJE+pKK+W/8Ah9J+zR/0Ur/y3tV/+Rq0fDH/AAV7/Zx8Xamtpa/E7TopWxhr3Tr2yi/GSaFEH501mmCbsq0f/Al/mRPw74rhFznlmISXV0an/wAifSdFc78Ofi94U+MOly3vhLxP4f8AFFnA4jln0nUYb2OJ8Z2s0bMAcdjzXRV2xkpLmi7o+Tr0KtCo6VaLjJbpqzXqmFFFFMyCiiigAooooAKKKKACiiigAooooAKK+Zv23v8Agnn8M/24viR4d/4TTxZ4n0nWrCwlisNM0vV7eD7TEH3PKIJopCSC2C6AcbQ2cLjyL/iHa+Cn/Q0fFL/wZWH/AMh15lbE4xTcaVFSS689vw5Wff5XkPC1XCU62Y5nUo1ZK7gsM5pataS9rHm23su3Q+9qK/NP9pH/AIIYfDj4EfADxl448I+MPiLa+I/Buj3WuWMl3f2rRb7aJpiD5VvG4JVCAVcYJB5xg/W//BNH42a1+0P+w38P/FniKX7TrV9aT213cE5a5a2uprbzW/2nEIZv9pjRhsdVnX+r16fJK11Z3ur2fRdy+IOD8tw2TrO8mxrxNL2ipS5qTpSjJxc42XPPmTUZa3VmttT3WiiivTPz0KKKKACiiigAooooAKKKKAOL0b9nnwZ4e+OGr/Eiy0G2t/G+v2EemahqqySeZc26bNqFS2wf6qMEhQSI0BJCjHaUUVMYRj8Kt1+Z0YjF18Q4yxE3JxSirtu0Yq0Yq+yS0S2S2CiiiqOcKKKKAPgT/gn20nwh/wCCtH7T3gOX943iN08WCT+6rTCdV/LVB/3zXnn/AAdjf8o6vBn/AGUex/8ATZqlekfs/f8AKwL8cf8AsSLb/wBE6HXm/wDwdjf8o6vBn/ZR7H/02apXz+B0wdWC2jOaX/gTP6AzV+041ynFy+Orh8JOXnJ0Iq/3JH6fUUUV9Afz+FFFFABRRRQB+c//AAVx/bGb4mfEC1/Zu8JeIvDfh/8Atvyz4t8Q6rqsdlZ6bFnzPsrSswAO1QzjJLBljAJZhX0p+z58cf2eP2a/g1oHgjw58WvhdDpOgWwgjLeK7HfO5JeSVv3v3nkZ3PbLHHFQ/Ef/AIJPfs//ABa8eat4m1/4fre63rt097fXC61qMAnmc5d9kc6oCTknao5NYv8Aw5b/AGaP+ia/+XDqv/yTXzsMLmMMTPEWg29Fdy0j0Xw/N+Z+44jiPgbE5DhMjlLF0oUvfmoU6LVSs1aVRt1ruy92CsuWPqzsfiF/wUv+Avwz0o3d/wDFXwdeJgkR6Tfrqsre2y28xh+IFfDX7a/7VF7/AMFgIPCfwv8AhJ4F8Xy6FB4mt7y/8TX2nsLWzIjlgDv5e8RxKs7uxdgx2gBcnB+0PAf/AASd/Z4+HGsC+074X6LNOpBA1K4udTjBHT93cyyJ+le/6Ro9poGmw2Vha29lZ2y7IYLeIRxxL6KoAAH0ratgsbi4OliZRjB7qKbb+btb7jzcr4r4T4cxMMxyHD1q+JhrCdeUIRg7NJqnT5uZq/2p28j86dL/AOCbX7WPwT0XX/Bfw1+NXhlPhxfGW2sbXW5pJbqK0dSuwBrKUQHaxB8h1GfmGD0+u/2C/wBk+L9i79mfRPA326PVL+3eW81G8jjKJcXMrbm2g87VG1ATyQgJAzgeyUV1YTKqGHn7SF72srttJdlfY+d4k8R83zvB/UsWqcYykpzcKcISqTimlKpKKTk0m9+/oFfNP/BLD/k3zWP+xhn/APSa1r6Wr5p/4JYf8m+ax/2MM/8A6TWteBm3/JR5f/gr/lTOfJ/+SazL/Hh/zqnM/wDBavRrrVP2SNNnt4Hli07xNa3NyyjiGM29zEGPtvkRfqwr6s8KeJ7Lxt4W03WdNmFxp2r2sV7aygYEsUiB0b8VYGvC/wDgql/yYX47/wC4f/6cbWvQv2SP+TU/hl/2Kelf+kcVe7T93MKi7xi/ubR+NYS9LibEwW1SjSk/WMqkT0KiiivUPsAooooAKKKKACiiigAooooAKKKKACiiigAooooAKKKKACiiigAooooAKKKKACiiigAooooAKKKKACiiigAooooAKKKKACiiigAooooAKKKKACiiigAooooAKKKKACiiigAooooAKKKKACiiigAooooAKKKKACiiigAooooAKKKKACiiigAooooAKKKKACiiigAooooAKKKKACvyR/4L6fsyRfCDxvpnxJ8Lw3unWXxH83SvFK252Wk9zE0M8BcDq0vlM5U8FrQP97Jr9bq/P3/go7EP2t/+CiPwS+BaD7VomjyHxP4kiHzRtGMt5cnYHyYXUf8AX2PWvC4joxq4N038TaUfVu35Xv5H7H4F5riMu4pjjYO1GnTqzrdvZwg5O/mpKLj/AH+U+uf2QfE/hLxN+zR4K/4QfW7TX/Del6Pa6Xa3dux5FvCkW11OGRxtGVYBh3Fek1+d/wDwSV8Y2P7Lf7TXxj/Z9155NHvv+Eil1TwzbXAKrfwAMpMZPUtbpbyKOrLuP8Jr9EK7crxPt8NGTVmtGuzWlj5LxD4feUZ5VoQk5052qU5y3nColNSutHvZtacye2wUUUV6B8SFFFFABRRRQAUUUUAFFFUfEPiXTvCOlvfarf2WmWUZAe4u51hiTPAyzEAfnUznGEXKbskVCEpyUIK7fQ+JvFX/AAb/AHwd8Y+JtQ1a88VfFR7rUrmS5lLataSHc7Fj8z2rOevVmJ9STzXpPgv/AII3fs5+CZrGdPh5DqV3ZIo87UdUvLoXDAYLyRNL5LE9SPLC5PAA4r2z/hov4ff9D14N/wDB1bf/ABdRXn7Svw8sbV5X8c+EiiDJEerQSN+CqxJ/AV89H+wqbc70vm4v82fp2J454/xVONCeKxPKtEoucfKz5bX9HcxP+GHPgp/0R/4W/wDhKWH/AMao/wCGHPgp/wBEf+Fv/hKWH/xqqFx+3z8Jbado28XIWQ4JTTrt1/AiIg/hTP8Ah4B8I/8Aobf/ACl3v/xmsv8AWLhxaPFUP/A6f+Z5n1PjV6qGK+6qaX/DDnwU/wCiP/C3/wAJSw/+NUf8MOfBT/oj/wALf/CUsP8A41Wb/wAPAPhH/wBDb/5S73/4zR/w8A+Ef/Q2/wDlLvf/AIzR/rHw5/0FUP8AwOn/AJh9S42/594r7qppf8MOfBT/AKI/8Lf/AAlLD/41R/ww58FP+iP/AAt/8JSw/wDjVZv/AA8A+Ef/AENv/lLvf/jNH/DwD4R/9Db/AOUu9/8AjNH+sfDn/QVQ/wDA6f8AmH1Ljb/n3ivuqml/ww58FP8Aoj/wt/8ACUsP/jVH/DDnwU/6I/8AC3/wlLD/AONVm/8ADwD4R/8AQ2/+Uu9/+M0f8PAPhH/0Nv8A5S73/wCM0f6x8Of9BVD/AMDp/wCYfUuNv+feK+6qaX/DDnwU/wCiP/C3/wAJSw/+NUf8MOfBT/oj/wALf/CUsP8A41Wb/wAPAPhH/wBDb/5S73/4zR/w8A+Ef/Q2/wDlLvf/AIzR/rHw5/0FUP8AwOn/AJh9S42/594r7qppf8MOfBT/AKI/8Lf/AAlLD/41R/ww58FP+iP/AAt/8JSw/wDjVZv/AA8A+Ef/AENv/lLvf/jNH/DwD4R/9Db/AOUu9/8AjNH+sfDn/QVQ/wDA6f8AmH1Ljb/n3ivuqml/ww58FP8Aoj/wt/8ACUsP/jVZnir/AIJ3/Arxjp32W7+EngCGPn5rHRobGT/vuBUb9aX/AIeAfCP/AKG3/wApd7/8Zo/4eAfCP/obf/KXe/8Axmk+IuG2rPE0P/A6f+ZdPDccU5KcI4tNdUq1zW/Zt/Y4+G37Ilnq0Hw78NR+Hk114pL8i9ubprgxBhHlp5HYBd74AIHzH1r06ue+GnxV8P8Axh8N/wBr+G9Sj1TTxK0BlRHQpIoBKsrgMDhgeR0I9a6GvoMHLDyoxlhWnTeq5bctvK2n3HyOb4nMK+MnVzWU5V7+86jk53St7zl710klrslYKKKK6TzQooooAKKKKACiiigAooooAKKKKAPzq/bT+K+g/BP/AILh/CDxP4p1SLR/D2jeBLma8u5QzJCpj1pR8qgsSWKgAAkkgAV1vxa/4L8/CDwpPNY+DdM8V+PtTdVFk1rZfYrO5lbAEZabE6nJxxA3PTNc1+174D0f4of8F0/g/wCHvEGnW2raLq/gG7try0uF3RzxtDreQf5gjkEAggivWPFX/BED9nHxDoc1paeDdQ0K4lGEvbLXr554fdRPLJH/AN9Ia+SjHMZTrrBOKXO73ve/LHbdfef0xiq/A1LC5NLiyniJz+qU+VU+X2fL7Wt8esZ3vf4Xt0ueMePda/be/ba8Az+Err4feEfhj4O8ZRtb3moyziK9t7JwQ8UyPcSTDcpKsBbqxBx8oJr7a/ZU/Z3039lD9n3w18P9Jurm/s/DsDp9pnAD3EskrzSvgcKGkkchedoIGTjNfB3j/wCD37QX/BIXw8njLwp4/n+LHwu0lEh1LQtYWZP7LgaUKvlxGSQIo3AebEy4LEtEVFfdf7MH7Vvgr9rz4bx+JfBWrR39upWO8tmBS506YqCYpUIBBHY/dbGVJHNdeVcirtV+b21vtNPT+7bRq+5814kLFVMnpVMmjQeVe0bUsPCcV7VKy9uqjlONRRdo3fK0247npFFFFfRH4YFFFFABRRRQAUUUUAFFFFABRRRQAUUUUAFFFFAHwT+z9/ysC/HH/sSLb/0Todeb/wDB2N/yjq8Gf9lHsf8A02apXpH7P3/KwL8cf+xItv8A0Todeb/8HY3/ACjq8Gf9lHsf/TZqlfP4P/dq/wDjn/6Ufv8AmH/JWZH/ANguE/8ATKP0+ooor6A/AAooooAKKKKACiiigAooooAKKKKACvmn/glh/wAm+ax/2MM//pNa19LV80/8EsP+TfNY/wCxhn/9JrWvjs2/5KPL/wDBX/Kmfa5P/wAk1mX+PD/nVNL/AIKpf8mF+O/+4f8A+nG1r0L9kj/k1P4Zf9inpX/pHFXnv/BVL/kwvx3/ANw//wBONrXoX7JH/Jqfwy/7FPSv/SOKvej/AMjGX+Bf+lM/G6f/ACVNT/sHh/6cqHoVFFFemfXhRRRQAUUUUAFFFFABRRRQAUUUUAFFFFABRRRQAUUUUAFFFFABRRRQAUUUUAFFFFABRRRQAUUUUAFFFFABRRRQAUUUUAFFFFABRRRQAUUUUAFFFFABRRRQAUUUUAFFFFABRRRQAUUUUAFFFFABRRRQAUUUUAFFFFABRRRQAUUUUAFFFFABRRRQAUUUUAFFFFABRRRQAUUUUAI7iNSSQABkk9q+Af8AglPt/aS/bO/aA+OdwftUFzqY8O6FOeR9lU5wOwIhhs+n94+vPvf/AAVN+N6fAX9hTx9qa3P2bUNVsTolhg4dprr9z8n+0sbSP7eWT2p3/BLb4Gr8AP2GPAelPaC01LU7Ea1qIK7ZHnuv3vz/AO0sbRx+wjA7V4+I/fZhTpdIJyfq9I/qz9SyT/hL4Lx2ZPSpi5xw0O/JG1Wq/NO1OL9Tjv8Agqd+w237RPw6j8eeD/tGm/Ff4fR/2hot7Y/Lc3yRHzfs2RyWyC0R6h+Bw7V3H/BN/wDbCg/bQ/Zi0jxFPLD/AMJNpwGm+IIEAXyrxAMyBR0WRcSDHA3Ff4TXvdfl98SvjP4c/wCCTX/BU/xJqgNxL8PfiXo/27VNK0l45pLC8LFg3kl12kSK7AEgBLttucYrLGuOCxKxm0J+7P8ASXy2fkejwpTr8W5FV4YcXPE4ZOrhnu+VfxaPpJPngukk11P1BorC+GPxH0j4wfDvRPFOg3IvNG8QWUV/ZzYwWjkUMNw/hYZwVPIIIPIrdr3IyUlzR2PyCtRqUakqVVOMotpp7prRp+aCiiimZhRRRQAUUUUAFc78TfhToHxj8Nf2R4k05dT08TLOIjK8RV1yAwZGVgcEjg9Ca6Kisq9ClXpujWipRejTV015p6M2w+Iq0Kka1CTjKOqabTT7prVHjf8Aw7/+Ef8A0KX/AJVL3/49Ulr+wR8JbO4WVPCMZZDkB9Qu3X8VaUg/iK9gorxFwnkad1gqX/guH+R7r4wz5qzx1b/wZP8A+SOJtf2a/h5Z26xJ4F8IlUGAX0iB2/FmUk/iak/4Z0+H3/QieDf/AAS23/xFdlRXesowCVlQh/4Cv8jznnOYN3def/gUv8zjf+GdPh9/0Ing3/wS23/xFH/DOnw+/wChE8G/+CW2/wDiK7Kin/ZGB/58w/8AAV/kH9sZh/z/AJ/+BS/zON/4Z0+H3/QieDf/AAS23/xFH/DOnw+/6ETwb/4Jbb/4iuyoo/sjA/8APmH/AICv8g/tjMP+f8//AAKX+Zxv/DOnw+/6ETwb/wCCW2/+Io/4Z0+H3/QieDf/AAS23/xFdlRR/ZGB/wCfMP8AwFf5B/bGYf8AP+f/AIFL/M43/hnT4ff9CJ4N/wDBLbf/ABFH/DOnw+/6ETwb/wCCW2/+IrsqKP7IwP8Az5h/4Cv8g/tjMP8An/P/AMCl/mcb/wAM6fD7/oRPBv8A4Jbb/wCIo/4Z0+H3/QieDf8AwS23/wARXZUUf2Rgf+fMP/AV/kH9sZh/z/n/AOBS/wAzjf8AhnT4ff8AQieDf/BLbf8AxFH/AAzp8Pv+hE8G/wDgltv/AIiuyoo/sjA/8+Yf+Ar/ACD+2Mw/5/z/APApf5mf4Z8JaV4L0z7Fo+mafpNnuL+RZWyQRbj1O1ABk+taFFFd0IRhFQgrJdEcFSpOpJzm7t9WFFFFUQFFFFABRRRQAUUUUAFFFFABRRRQB8E/tA/8rAvwO/7Ei5/9E65X3tXwT+0D/wArAvwO/wCxIuf/AETrlfe1eRlXx4j/AK+P/wBJifp3iP8A7tkv/YFT/wDT1cZc20d5bvDNGksUqlHR13K6nggg8EEV+Z37a3w8v/8Agk1+1Nonxz+HMVrYfDvxlfw6R4m8PW+FR5GLzyJFGflUPHC7IV/1bqwwFbbX6aV8B/8ABxHqMDfsieD9NE0Z1C68Z280NsG/eyolleqzKvUgNJGCR3dfWoz+CWElXWkoaxfVP/gnX4L4qrLiajlE/ew+LvTqwesZQab1XeLV4y3i16n35RRRXtH5MFFFFABRRRQAUUUUAFFFFABRRRQAUUUUAFFFFAHwT+z9/wArAvxx/wCxItv/AETodZ3/AAc3/CRPiR/wSu1nWWujbnwB4i0vX0jC5+1GSVtO2H0wL8vn/pn71o/s/f8AKwL8cf8AsSLb/wBE6HXun/BV7wHpfxG/4JofHbT9Xthd2lv4I1TVI0JxtuLO2e7t3/4DPBE3/Aa8LLo81Cuv79T82ftnFGMeF4iyTEL7OGwV/T2cb/hc9B/ZM+K978ef2Vvhn451KGG31Hxn4U0vXbqKH/VxS3VnFO6rn+EM5A9q9Br46/4IB+KNQ8X/APBIf4OXWp3c17cxWuo2SSStllgt9UvIIYx/spFHGg9Agr7Fr2qUuaCl3R+T55hFhMyxGFjtCc4/dJoKKKKs8sKKKKACiiigAooooAKKKKACvmn/AIJYf8m+ax/2MM//AKTWtfS1fNP/AASw/wCTfNY/7GGf/wBJrWvjs2/5KPL/APBX/Kmfa5P/AMk1mX+PD/nVOs/4KK+CZ/iB+xR8QrG2kSOSDThqRL9ClpLHdOPqVhYD3Iqx/wAE/fHQ+In7GHw6vxAbf7PpCaZsJzk2jNaFv+BeTu/4FXQftb/8mp/E3/sU9V/9I5a89/4JW/8AJhfgT/uIf+nG6r3npmKt1g/wkv8ANn41L3eKotfaw7v/ANu1I2/9KZ9CUUUV6Z9gFFFFABRRRQAUUUUAFFFFABRRRQAUUUUAFFFFABRRRQAUUUUAFFFFABRRRQAUUUUAFFFFABRRRQAUUUUAFFFFABRRRQAUUUUAFFFFABRRRQAUUUUAFFFFABRRRQAUUUUAFFFFABRRRQAUUUUAFFFFABRRRQAUUUUAFFFFABRRRQAUUUUAFFFFABRRRQAUUUUAFFFFABRRRQB+eH7fOtW/7dn/AAUN+F3wH0l5dS8P+C7xtd8ZCEboE2hWMbt0BWIGPPZrzb14HUeKP+Dfz4OeLvEt/ql34p+KbXOo3D3MpOrWknzOxY/M9qznr1ZifUk812v7AP7JHi74CftVftG+LvFOm2UFj4+8SC98PXaXEc0s9q1xeTvwpLRjE8IKtglozwQqk/WVfP4XK6eJU6+NheUpPR9EtEvuV/mftnEHiFj8hnhsn4UxbhQoUoJyhJP2k6iVWpJ7q6nPkt05LPY+Cf8AiHa+Cn/Q0fFL/wAGVh/8h12vwx/4IbfAL4c6XeRXOj634qu7pJEjvdb1EySWodCnyJCsURIzkFo2IIBB4r7BorshkmAg+ZUo/cfMYrxc4zxFP2VXMqtvKXL+MbP5dT4J/wCCOfxA1r4I+NPH37MfjCBhr/w6uJtW024jOYZ7GWSItj0Ba4imTuRcnIBXn72r8+P+CnnwF8Q/ss/HOw/av+HL3NzqelTwxeLtMlmJhurXy4rVGCqMiMooSQEnB8twBtY19k/s5/tLeDv2pvhzaeJfB2s2WqWs0UbXMEcoNxp0jLuMM6dUccjBHOMjI5rDKqjouWAq7w+Hzh0+7Znq+JGBjmlOjxlgI3pYlL23KnaniUl7WLWvKpt88Lv3lJ2O+ooor2z8lCiiigAooooAKKKKACiivNv2v/CHjjx5+zX4t0r4b6udC8bXVoP7KvBJ5TI6yIzIr/wM6K6B/wCEuDkYzUVZuEHJK9lsuvkdeX4aOJxVPDTqKmpyUXKXwxTduaVtbLd+R6TRX54+C/8Agq78Uv2Yx4T8O/tAfBzXNDtJJrbSLvxj9pYW8r7QrTsBG0UjkK0jCOUcBiq9q+/PCXjDSfH3h611fQ9TsNY0q9TzLe8srhZ4J19VdSVP4GuXB5hRxN1Teq3TTTXyZ9FxPwTmuQ8k8bFOlUvyVISjOnO3aUG18naXkaVFFFdp8kFFFFABRRRQAUUUUAFFFFABRRRQAUUUUAFFFFABRRRQAUUUUAFFFFABRRRQAUUUUAfnr/wUUtfH/wAG/wDgpt8L/jF4S+F/jH4l2Xh7wvNYTWmkWU7xGRvt8W1poopjGwF2Hw0fIUAE5O3U/wCHt/xr/wCjN/il/wB/L/8A+Vtfe1FeO8trRqTnQrOKk72tF62S6ryP1GHH+VV8FhcLm2VQxE8PTVOM3VrQfIpSkk1CcY6OT1tc/OPxp+2J+1j+2J4o0Pwb4A+Evif4EC9af+0te12zuJYBHsyP381kggxhsbFZ2Zk2lcHPpn7PP/BHPSPB/wAUbHx/8VvHXiP4veM9OliubSXU5JFtbWSPDJkPJJJLscZXc4TjmOvtCinTyiDn7TFSdSXS+y9IrT8CMb4nYmnhfqHD2HhgKMotS9nrUndtvmrTvVt0spJW020CiiivXPzEKKKKACiiigAoor4S8Sf8FmvEOv8AjTWrL4Y/s8fEX4kaNod29hcanbrPCPORirAxxWs+3ocB2VsdVHSuTFY6hhkvbO19tG/wSZ9Lw5whm2fSqRyukp+zScm5QhFX0V5TlGN3Z2V7ux920V8E/wDD2/41/wDRm/xS/wC/l/8A/K2vc/2B/wBvuz/bf0rxVBL4V1bwT4p8EXiWWtaNfSGVrR3MoUbykbbt0MqsrIrKUII6VhQzbC1qipU5e89rqS/NI9bOfDTiLK8FPMcZRj7KFuZxq0qnLzOyuqc5NJtpXatdpH0HRRRXpHwgUUUUAFFFFAHwT+z9/wArAvxx/wCxItv/AETodfUv7cPgPUvin+xX8X/DGjQG51fxH4J1nS7GEf8ALWeewmijX8WYD8a+Wv2fv+VgX44/9iRbf+idDr72rx8oV6dVf9PJ/mfqniTXlRx+WVo7xweDf3Uos+Df+DbH4i6b42/4JMeCdMsZC914P1TVtI1Ff+ec730t6B/35vIT+NfeVfmD/wAGnP8Ayjq8Z/8AZR77/wBNml1+n1ehhXejH0PluOqMaXEOMjH/AJ+Sf3u7/FhRRRXQfKBRXw3r37R3j/8Aan/4Kn6d4A+Hmvalovw7+Eknn+MLi2CeXqNwhbfbvnllZwtuF6giZwDtBH3JXJhcXGvzOC0i7X723t+R9JxDwzXyZYaOKnH2lamqnIr80FK/Kp6WUpRtK26TV7XCiiius+bCiiigAooooAK+af8Aglh/yb5rH/Ywz/8ApNa19LV80/8ABLD/AJN81j/sYZ//AEmta+Ozb/ko8v8A8Ff8qZ9rk/8AyTWZf48P+dU9U/a3/wCTU/ib/wBinqv/AKRy157/AMErf+TC/An/AHEP/TjdV6F+1v8A8mp/E3/sU9V/9I5a89/4JW/8mF+BP+4h/wCnG6r3pf8AIxj/AIH/AOlI/G6n/JU0/wDsHn/6cpn0JRRRXpn14UUUUAFFFFABRRRQAUUUUAFFFFABRRRQAUUUUAFFFFABRRRQAUUUUAFFFFABRRRQAUUUUAFFFFABRRRQAUUUUAFFFFABRRRQAUUUUAFFFFABRRRQAUUUUAFFFFABRRRQAUUUUAFFFFABRRRQAUUUUAFFFFABRRRQAUUUUAFFFFABRRRQAUUUUAFFFFABRRRQAUUUUAFFFFABRRRQAUUUUAV9U0u21zTLiyvbeC8s7uNoZ4J4xJFMjDDIynIZSCQQeCDXhP7GX7AeifsWfEL4n6xoGqNPp3xE1KG9t9LWzW3h0OKJp2WCMhjvUG4YA4XCqgwcEn36isZ4enOpGrJe9G9n2urM9XCZ3jsLg6+X0KjVKuoqpHS0uWSlHfZqSTurPps2gooorY8oKKKKACiiigAooooAKKKKAOZ+Lnwb8L/HrwPc+G/GGh2HiDRLshpLW7TIDDo6kYZHGThlIYZ4NfnP8QdAl/4If/tZeGNX8P6prF18DfiRNJBq2lT7rk6XJGFBZW7sokV0P33RJEO7bur9EfjN8ePB37PPg+TXvGviLTPDmlISomu5drTNjOyNBl5Hx/CgLe1fnl+27/wUDsP+ClNvY/s//BCw1PWX8XanAuq61e2JgtVtIZEmEkYY+aqK6B3d0QhY9oDb+Pnc8lh4xU4ySrq3Lb4m+1t7PZ9D9x8H8PnVerLC1qUp5TUUliOa6oxjbWpzNOMalPScWvebildJ3X6V+FvE9h428M6drOlXUV9perWsV7Z3MRylxDIgdHX2ZWBH1q/XM/Bb4bx/Bv4OeE/CEN099F4V0az0dLl02NcLbwJCHKjIBYJnHbNdNX0EHJxTlufi2LjRjXnHDu8E3yt7tX0b9UFFFFUc4UUUUAFFFFAHmnwR/ax8H/tB/EX4geF/Ddxezap8NNSXStaE1uY41mLSp+7Y/fAeCVSeOUPYgn0uvgn/AIJIf8nrftk/9juv/pfq9fe1cGWYmeIw6qz3vL8JNfofZ8f5BhslzueXYRtwjCjLV3d50ac5dF9qTt5BRRRXefGBRRRQAUUUUAFFFFABRRRQAUUUUAFFFFABRRRQAUUUUAFFFFABRRRQAUUUUAFFFFABRRRQB51+0F+1n8Of2V9It7zx/wCLNN8Opd5+zxS75rm4A6lII1aVwOMlVIGRnrXx5/wRX8XWPxI/aX/at8UaNK91oXiLxXBf6ddGF4xcQy3Wqyo2GAYHZIhKkAjcMgV7j+25/wAEsvAH7dnjXT/EfiXVfFWk61pem/2XBJpdzCsLxiR5E8yOSJ87Xkf7pUkHBPAx8zeBfiJ8Wf8AgixqWj+F/Hlrp3jT4EX1+8Frr2l2fl3ellznLgYIbqxjk37gCEkO3FfNY6riKeNhXxEbUYN2a13Vve10WvY/feEctybG8J4vKcjrOpmeKjBSpTagrU6iqWo+6/aT9xLlc02ndK6s/wBMKK5/4Y/Fbw38aPB1t4g8J63pviDRrv8A1V3ZTiWMkdVOPusM8qcEdwK6CvpIyUlzRd0fg9ehUo1JUa0XGUXZpqzTXRp6pnm+qftkfCHQ9Yn0+9+Knw3tNQtpTBNbT+JrKOaKQHBRkMmQwPGCM16JZ3kWoWkU8Esc8E6CSOSNgySKRkMCOCCOhr5E0j/ghl+zzp/h+/tLnw9ruqXd7JNJHqNzrlytzZ+Z91YxGyRER/w+ZG5P8RevCvEPiL4vf8ERNU0oXurr8TfgFqmopp1pHdyiPUNGZ1eQRxg5KNsjkYBd0TbDxEzV4sswxWH/AHmMppQ7xbfL6qy081c/VqHBXD2dt4PhbGzliltTrwjTVXTVUpKUlzdoz5b9HofppRRRXtn5IfBP7P3/ACsC/HH/ALEi2/8AROh197V8EfAFxH/wcDfG/JA3+CbYLn+L9zonT8j+Vfe9eRk/wVf+vk//AEo/TvFH/ecu/wCwLCf+mYn5cf8ABrrfSfDb4M/HP4N6vby23i/4bfEGWXWE6xI00CWYRW7kS6ZcZ9ivrX6j1+YP/BCX/lIr/wAFA/8Aso6f+nPXq/T6u7CfwkvX8zw/EDXPq1T+ZQk/WVOEn+LCiiiuk+NPgb/gitL/AMJ58V/2mPiDbY/srxj41zaFTkHbNeXBwe/y3cdffNfBP/Bu1/yZT4o/7He7/wDSDT6+9q8jIf8AcKb73f3ts/TvGXTjLHUltTcYL0p04QX4RQUV87/En9tbUfA//BR/4e/A+LRLKfTfGOgXGr3GpPKwngdUvWRUUfLj/QyDnk+YMY287Xx0/wCCjnwT/Zt8WNoXjHx9punazH/rbO3t7i/mtz1xKtvHJ5Zxg4fBwQa7Pr+HSk5SSUXZ3010fX1PmP8AU3OpToUqGGnUnXpqrCNNOcnBylHmtG7WsXv+p7dRXhvgL/gpd8A/iRYm40/4r+DbdF6jVL4aU/8A3xdCNj+VdB/w3J8FP+iwfC3/AMKuw/8AjtVHG4eSvGat6o563Cmd0ZunWwdWMlunTmn9zR6lRVLw54l07xhodtqek39lqmm3qeZb3dnOs8E6/wB5HUlWHuDV2ulO6ujwpwlCTjJWaCvmn/glh/yb5rH/AGMM/wD6TWtfS1fNP/BLD/k3zWP+xhn/APSa1r47Nv8Ako8v/wAFf8qZ9nk//JNZl/jw/wCdU9U/a3/5NT+Jv/Yp6r/6Ry157/wSt/5ML8Cf9xD/ANON1XoX7W//ACan8Tf+xT1X/wBI5a89/wCCVv8AyYX4E/7iH/pxuq96X/Ixj/gf/pSPxup/yVNP/sHn/wCnKZ9CUUUV6Z9eFFFFABRRRQAUUUUAFFFFABRRRQAUUUUAFFFFABRRRQAUUUUAFFFFABRRRQAUUUUAFFFFABRRRQAUUUUAFFFFABRRRQAUUUUAFFFFABRRRQAUUUUAFFFFABRRRQAUUUUAFFFFABRRRQAUUUUAFFFFABRRRQAUUUUAFFFFABRRRQAUUUUAFFFFABRRRQAUUUUAFFFFABRRRQAUUUUAFFFFABRRRQAUUUUAFFFFABRRRQAUUUUAFFFFAHxr/wAFdP2D/Gv7Zlp8PNR8Ff8ACP3d34Iurya40zVpmii1BJ/sxAyBggG32lSVyJDgjFeYeBv2uv2gv2IdBOmeKf2V9Dt/DMEjTSy+AbZbW2TP3p2W3+0R5IAJLbO2cV+jNFeRWylSryxNGo4Tla+zWits0fpmVeJM6WUUcgzXB08VhaXNyqTqQmuaTk7ThNdW94vtseDfsbf8FGfhv+21azweGry60zxFZLuutC1VVhvo1HV0AZlkQHjcpJHG4LkCvea+Wf2wv+CU/gn9prxgvjTRNU1L4bfEO3Yyrr+ifIZ5O0k0YKlnH99HRz3YgDHz3/wTu/aS+O+uft73nws1H4h2fxV+H/g6G5i1nWIbONo4wsTiJhcmNZXk+0bEIZ3BAkKlgu6s45hXw9SFDFxu5OylG1n6q9157o9GtwTk+d4HE5zwziPZxoU3Uq0K3NzQS6QqqLhU5npBS5JPZq5+lVFFFe2fkQUUUUAFFFFAH5+/8EwNetfAP/BRv9q/wnrEq6fr/iHxKdW06zmO17u2W7v5S6Z6/u7uB8Dna+egNfoFXzF+2/8A8EzNG/a18YaP4y0HxNqPw1+I2jMqxeI9LhZ5polBCq6rJE29c4WRXDAEg7hgDyJv+Cen7V3wenW68A/tRXfiS5mBWePxbDO8MY/2FmN6uf8AgK/WvAw7xOCi6PsnOCbacWtm77Np3Vz9pzylw/xZWhmqzKGFxM6dOM6VWFXlU6cI07qpCE48klFNX1Tumj76r4X/AOClfjnVNU/4KB/sqeDfDupahHfReITrOqWVtO0ay2n2i2G9wD8w8qC9HP8ADvHc1R/4Z+/4KBf9Fx+Fv/gBD/8AKqvmXWvhd+1D4z/4Kh6Ro1z8R/Bl78ZvCXh1pbTXkto10+wsnjmzEyCyCs5W7kGWgb/XD5uBjlzTMpzpRpexmuaUei7p2Xvb6H0Xh3wFhMHmNbMHmmEq+xoV5WjOo0nKnKClO9Fe4nNNtXa0sm9D9kKK/P8A1T9lv9vXxSkFrqPx4+H9vaC4jlkksIvs8yhWB4MWmxsw9ULhW6Hg1+gFe7hMVKte9OULfzW1+5s/HOJOHKGUql7LHUcS581/YubUbWtzOUIfFd2tfZhRRRXYfLhRRRQAUUUUAFFFFABRRRQAUUUUAFFFFABRRRQAUUUUAFFFFABRRRQAUUUUAFY3xD8J6D448E6lpfiix0zUvD91AwvrfUI1e2eIfMS4b5cDGcnpjPGK8t/aX/4KF/CX9lPSdQfxN4v0ubWNPOxtC064jutVeQjcqGBWzHkfxSbF5GW5FfHvxZ/aP/aG/wCCoXgNfBfgH4Uav8O/AXimeOO+8S6pcMv2mwJ+YhmWMGNhgssXmFgpQEhiD5eMzShSvSj78/5Vr99tvmfovC3h5m+P9nmNX/ZcKpK9epJU4pb3hzOLm0tUoX1tsb3/AAQ2XSbb4yftM23hR2bwHB4mtx4eETu9r9m8/URGYyxOcwrBkn5iAme1Xf8Agje//CJ/tT/tU+Ev7Wv7u10XxWiWEF9etPMyR3eoxPL8xyzELCHfHJ2Z7V9ifsy/s4+HP2Uvgzo/grwxbLFY6ZEPOnKATX85A8y4lI6u5GT6DCjAAA+Sf20/2Wvij8B/2y7P9ob4G+GtN1+R9Na28S6BGzLNqbneskvlKVMm5PJOEJfzIVba2TXmfU6uDoYeo1zOm3zJdpXvb/Df8D7/AP1py/ifNs6wManso46nSjSnVkknPD+z5OeTsoyrKD1b91ys7n3pXwT/AMHEv/JlPhf/ALHe0/8ASDUKRP8Agrd8bAoz+xv8UScckPfjP/lNry/9pvxj8cf+CskfhH4azfAPxX8K9Ctddi1bUtZ1nz/LhRY5ISwaa3gX5UnkOxdzOQoAGDkzTMqGJwk6FC7lJWS5ZfqrE+HnAGcZDxHhM5zf2VLD0Jc85e3oStFJ9I1JSfkkmz9R6KKK+nP59PgX4rW48F/8HBXwzbTyYf8AhLvBcz6nj/l42W+pKuf/AAEg/wC+K++q+Cf2gf8AlYF+B3/YkXP/AKJ1yvvavIyr4sQv+nj/ACifp3iS74fJZPd4Kn+FWsl9ySXoj8sv2TLq4/YP/wCDhv4vfDG7hlbQ/wBpSybxlo8w+Ytcp9qvGLf3UD/2qn1SP1r9Ta/MH9qf/lad/Zs/7Jxef+k/iSv0+ruw2nNHs3/meHxk/aSweKl8dShTcn3acoX/APAYIKKKK6T40/JD/gn/APtr6j/wSn+FWseCvi58JviTpdpqOv3GqQ6pFp+xZHaGCAxIs/lI6g2+d6SkEPwOMn3n/iIl+Cn/AEK/xS/8Fth/8mV97UV4VDLMZQpqjRr+6trwTf33R+w5zx/wznONqZnmuTylXqO83DEyhFvuounO3/gVj8b/AIof8FV/h742/wCCofw4+Nlro3jOPwr4Q8OzaReWstpbDUJZXj1FQ0aC4MZTN5FyZFPyvxwM8P8AAj9ub4K+Cfjt8d/G/jz4Xv8AER/Hety6p4Us9U0yyuVso5Lm7mdJzMziFmWW3BaNZceWw6Dn7R+AaCf/AIOB/jaXAcw+CbYxlhnyz5Gijj0+8fzPrX3vXkYTK8TiZTquqrxnL7F9fhvv2W3Q/TuJPETIsipYbL6eW1JRq4PDarEyg1Tb9uoXVK91KTTkmnJaWR8Efsd/s1/s5f8ABTD4OyfEC7+BGn+DZoNTm0x7Ky1C4tIJGjSJzJGbUwI6fvAM+WMMrjtXqR/4Itfs0Ef8k2/8uHVf/kmvMv26Lb9sz4UXHjnx74P+IPhFvAWiubyx0Kw0mKfU0swyg5WWzfcyKS7nz+QjFQOEr6N/YQ/ay0f9sL9nLw/4lstTtLzXIrKC38Q28SeW1lqAjXzlMeSVQvuZD0KkYPXHo4Slg51Pq2Ior2iV7yhFc3S6tc+H4mzHijDYD+38lzOawU58qp0sViKnsG0pKFRyUO9k9btNXPmf/ginb3Hw9+Lv7Snw2tdR1C58KfD/AMVpZ6La3U3mfZV+06hC7A4HzOtvEWwACVzjk19+18E/8EkP+T1v2yf+x3X/ANL9Xr72rsyH/cors5fhJny/jG+biyvN7yhQk/Nyw9KUm/Nttt9W7hXzR/wS0cRfArXbZjtuIfEMxkjP3kBt7cDI7cq35Gvpevmj9hlBbfHj47QRjZBD4hAjjXhU/wBIvRwO3AH5CvEzr3c/y2p39tH74KV//JLfM8XI/f4ezOn29jP7puNv/J7/ACPVf2t/+TU/ib/2Keq/+kctee/8Erf+TC/An/cQ/wDTjdV6F+1v/wAmp/E3/sU9V/8ASOWvPf8Aglb/AMmF+BP+4h/6cbqvfl/yMY/4H/6Uj8bqf8lTT/7B5/8ApymfQlFFFemfXhRRRQAUUUUAFFFFABRRRQAUUUUAFFFFABRRRQAUUUUAFFFFABRRRQAUUUUAFFFFABRRRQAUUUUAFFFFABRRRQAUUUUAFFFFABRRRQAUUUUAFFFFABRRRQAUUUUAFFFFABRRRQAUUUUAFFFFABRRRQAUUUUAFFFFABRRRQAUUUUAFFFFABRRRQAUUUUAFFFFABRRRQAUUUUAFFFFABRRRQAUUUUAFFFFABRRRQAUUUUAFFFFABRRRQBV1rW7Pw3pFzf6jd21hYWcbTXFzcyrFDAijLM7sQFUDqScV8SfGr/gstbeJPGMvgj9n3wfqfxZ8XsTGLyK3kGl25BwX4w8qA9WzHHjBEhFVtb/AOCGGjfGLx/q/iP4q/Fv4g+OtRvLnfZvF5NkbWDcT5LeYJ9wGQB5YiUYOFGRj68+B/7P3g39m/wTD4f8E+HtO8P6ZEBuW3j/AHlww43yyHLyv/tOSfevGl/aGIfLZUo97qUn6dF+J+p0lwVksFXc5ZlX0tHllRoRdteZt+0qWeySpp2d9LHxTpv/AATM+O/7XET6r8e/jRrOjQX/AC3hXw7Jm2gjP8DbWFurDpwkuepcmvrn9lT9kDwN+xn8PW8O+CNNktYLmQT3t3cy+dd6hKBtDyvgZwOiqFUZOFGTn0+iunC5Xh6EvaRV5/zN3f3v9DwuIfELOs4w/wBRrTVPD3uqVKMadNW292KV7dHJyfmFFFFegfEhRRRQAUUUUAFFFFABXwT8AR5n/BwN8b887PBNttz/AA/udE6fmfzr72r4J/Z+/wCVgX44/wDYkW3/AKJ0OvIzX48P/wBfF/6TI/TvDj/ds6/7Aqn/AKeoH3tRRRXrn5iFFFFABRRRQAUUUUAFFFFABRRRQAUUUUAFFFFABRRRQAUUUUAFFFFABRRRQAUUUUAeIy/8E4vglc/G25+Ik/gDTLrxdeXj6hNd3NxcTwyXDHLS/Z3kMG7PzZ8vhvm6817dRRWVKhSpX9nFK+rsrXPRzDOMfj+T69XnV5Fyx55SlyxWyjduy8loFFFFannBRRRQAUUUUAfAv/BRtH+Ev/BUj9lfx3p7btS8RX7+FZ0b7q25uI4WI99mqTf98ivvqvm/9tj9izW/2nfj38B/F2latpen2vwq8RnV9RguxJ5l3CZrSbEO1SN+bTbhio/eZz8uD9IV5uDozp4iu2rRk01/4Cr/AIn33FebYTG5Jk9OnNSrUqVSFTvFKtUdOL/7dldW7n5af8FcLG9+BP8AwW0/Yq+KWi3gOp+LtRHga4tpoQ8UNp9tjt5XU/33h1u4Uf3TGhFfqXWH4r+Gfhzx3q2jX+ueH9E1m+8OXX27Sbm+sYriXS7jGPOgZ1JikxxuQg471uV2wp8spPufO5pm6xmEwtBx96jBwb7rmlKP3J2CiiitTwwooooA+Mvgr8EvFug/8Fs/i/43vPD2qW/hHWfB1tb2OsPARZ3Uvl6WhjSToXBtpsqORsyQARn7NoorlwuFjQUlF35pOX3u59BxFxDWzepQqVoqPsqVKirX1VKKim79Xa76CEZFfBHxW/4JkfF34T/tQ+IvH37NXjXwh8PrDxfaCPUtN1CIiKCTcrOIozbXEe1nXeDhShd1XCnFffFFLF4KniUlUumndNOzXozfhji7H5DVqTwfLKNWPLOFSKnTmrprmhK6dmrp7r5s+cf+Cc/7C13+xl4Q8TXfiLX08U+O/HmoDU9f1KNWEUjjeVRS3zPh5ZmLkKWMp+UYFfR1FFa4bD06FNUqSskednueYzOMfUzLHy5qtR6uyS0SSSS0SSSSS2SQV8yfs3LL4B/bv+LfhlGWe21aMa5JIRhldnjlVB7D7a4/4CK+m6+YvFFp/wAIZ/wVB8OyWM0sI8WaEz6ipb5Z9sNwqr7D/RYDj1X3r5Li793WwGLjvGvCPyqKUH+MlfyPoeDv3tHMcHLaeHnL503Govwi7edj6O8VeGrPxp4Y1HR9RhFxp+rWstndRE8SRSIUdfxUkV8o/wDBFTWbrU/2SdThuJ5JYtO8TXVvbIxyIIzb20pVfQb5Hb6sa+va+Of+CIv/ACan4g/7Gy5/9I7KvoMR/v1F+U//AG0/GczSXEWBkt3Csn6L2bPsaiiivTPrwooooAKKKKACiiigAooooAKKKKACiiigAooooAKKKKACiiigAooooAKKKKACiiigAooooAKKKKACiiigAooooAKKKKACiiigAooooAKKKKACiiigAooooAKKKKACiiigAooooAKKKKACiiigAooooAKKKKACiiigAooooAKKKKACiiigAooooAKKKKACiiigAooooAKKKKACiiigAooooAKKKKACiiigAooooAKKKKACiiigArn/AIl/Frwr8F/DLa14x8TeH/Cejo4ja/1nUYbC2Vj0UySsq5PpmvFP+Cif/BMrwN/wUz8HeHdD8da7430ay8NXct5br4e1GK2Fw8iqp85JYZY3wFG07dy5bBAZgfmPwJ/wavfs0eEfFVpqGoan8U/FNpbtuk0zVNbto7W6Ho7WtrDMB/uSKfesZyqp2hH8T6TLcFks6Cq47FThLW8I0ub7pOaV35rQ+vf+Hk37Ov8A0Xz4K/8Ahb6Z/wDHqP8Ah5N+zr/0Xz4K/wDhb6Z/8erxX/iHg/Y7/wCiQf8Al1a3/wDJlH/EPB+x3/0SD/y6tb/+TKi+I7L73/kdvs+FP+fmI/8AAKf/AMsPav8Ah5N+zr/0Xz4K/wDhb6Z/8ere+HP7aXwc+MPiOPR/CXxZ+GninV5fuWOkeKLG+uX+kcUrMfyr53/4h4P2O/8AokH/AJdWt/8AyZXOfE3/AINqf2TvHvh77FpXhDxH4Kud277foviS8luMemL17iLH/AM+9F8R2X3v/IfsOFZ+6q1eL7unTaXqlUv9x970V+YP/EJz+zr/ANDn8av/AAb6Z/8AK+j/AIhOf2df+hz+NX/g30z/AOV9HtK38n4/8AX9k8Of9DCf/gh//LD9PqK/MH/iE5/Z1/6HP41f+DfTP/lfR/xCc/s6/wDQ5/Gr/wAG+mf/ACvo9pW/k/H/AIAf2Tw5/wBDCf8A4If/AMsP0+or8wf+ITn9nX/oc/jV/wCDfTP/AJX0f8QnP7Ov/Q5/Gr/wb6Z/8r6PaVv5Px/4Af2Tw5/0MJ/+CH/8sP0+or8wf+ITn9nX/oc/jV/4N9M/+V9H/EJz+zr/ANDn8av/AAb6Z/8AK+j2lb+T8f8AgB/ZPDn/AEMJ/wDgh/8Ayw/T6vgn9n7/AJWBfjj/ANiRbf8AonQ683/4hOf2df8Aoc/jV/4N9M/+V9H/ABCc/s6/9Dn8av8Awb6Z/wDK+uTF0a1d03y25JKW++jVvxPp+HMbw5lNLG0/rk5/WaMqP8Frl5pwnzfG725LW03vfTX9PqK/MH/iE5/Z1/6HP41f+DfTP/lfVIf8G0E3wY8QG6+BH7T3xd+Etve24i1Jebi4vmDZX97ZzWICAY+Vkfnnd2rr9pW/k/E+ZWTcPS0jmLT/AL1CSX/ks5P8GfqXRXxB+w5/wS2+M37Knx/sPF3i79rv4lfFnQLa3nhuPDWs29ybW9aSNlRmae+uAuxiHGxAxKAbsEg/b9bQlJq8lY+ezTCYbD1vZ4Wuq0bX5lGUde1pJP8ATUKKKKs84KKKKACiiigAooooAKKKKACiiigAooooAKKKKACiiigAooooAKKKKACiiigAooooAKKKKACiiigAooooAKKKKACiiigAooooAKKKKACiiigAooooAK8A/as+HGta3+0J8H9f0LS725/s/VvJ1O7toywt7fzYW/eEfdTZ5/J45I6kV7/RXlZzlVPMcL9VqNpXjK63TjJSVvut6M9bJM3qZZi/rVJKT5ZRs9mpxcXf77+qCvHf2Uv2Q7T9k/VfGi6Trd1e6H4o1Fb+z0uSARx6PgOGRW3HfkMozhfliQYJBJ9ior0JUYSnGpJaxvb57nz1bAUK1eniakbzp35XrpzKz9bro/J7pBRRRWp1hRRRQAUUUUAFFFFABRRRQAUUUUAFFFFABRRRQAUUUUAFFFFABRRRQAUUUUAFFFFABRRRQAUUUUAFFFFABRRRQAUUUUAFFFFABRRRQAUUUUAFFFFABRRRQAUUUUAFFFFABRRRQAUUUUAFFFFABRRRQAUUUUAFFFFABRRRQAUUUUAFFFFABRRRQAUUUUAFFFFABRRRQAUUUUAFFFFABRRRQAUUUUAFFFFABRRRQAUUUUAFFFFABRXlH7Vf7H/hz9r/AEDStO8Sal4isLfSJ3uIhpV2kPmsygHzFeN1bGODjIycHk58Q/4ci/Cn/oYPiF/4HWf/AMi1w1q2KjO1KkpLvzW/CzPncwx+cUq7hhMJGpDpJ1eV+enI/wAz7DmnS2haSRlREBZmY4Cgdya4jVP2oPhpod69te/ETwNZ3Ef34p9etY3X6gyAivnWL/giT8KIpFJ174gOAQSrX9phh6HFsD+tdto//BJ34F6ZYrFN4SutRkXrPcazeK7fURyov5LWXtcfLanFesm/yicX13iWrpDC0qf+KrKX/pNM9M/4a3+FP/RTfh7/AOFFZ/8Axyj/AIa3+FP/AEU34e/+FFZ//HK89/4dW/AX/oRP/K1qP/x+j/h1b8Bf+hE/8rWo/wDx+jmzH+WH3y/yD2nFP/PvD/8AgdT/AOVnoX/DW/wp/wCim/D3/wAKKz/+OUf8Nb/Cn/opvw9/8KKz/wDjlee/8OrfgL/0In/la1H/AOP0f8OrfgL/ANCJ/wCVrUf/AI/RzZj/ACw++X+Qe04p/wCfeH/8Dqf/ACs9C/4a3+FP/RTfh7/4UVn/APHKP+Gt/hT/ANFN+Hv/AIUVn/8AHK89/wCHVvwF/wChE/8AK1qP/wAfo/4dW/AX/oRP/K1qP/x+jmzH+WH3y/yD2nFP/PvD/wDgdT/5Wehf8Nb/AAp/6Kb8Pf8AworP/wCOUf8ADW/wp/6Kb8Pf/Cis/wD45Xnv/Dq34C/9CJ/5WtR/+P0f8OrfgL/0In/la1H/AOP0c2Y/yw++X+Qe04p/594f/wADqf8Ays9C/wCGt/hT/wBFN+Hv/hRWf/xyj/hrf4U/9FN+Hv8A4UVn/wDHK89/4dW/AX/oRP8Aytaj/wDH6P8Ah1b8Bf8AoRP/ACtaj/8AH6ObMf5YffL/ACD2nFP/AD7w/wD4HU/+VnoX/DW/wp/6Kb8Pf/Cis/8A45R/w1v8Kf8Aopvw9/8ACis//jlee/8ADq34C/8AQif+VrUf/j9H/Dq34C/9CJ/5WtR/+P0c2Y/yw++X+Qe04p/594f/AMDqf/Kz0L/hrf4U/wDRTfh7/wCFFZ//AByt/wADfGHwl8UJZ08NeKfDniJ7UBpl0zUobswg9CwjY4/GvHv+HVvwF/6ET/ytaj/8frtfgd+xp8Nf2b/EV3q3gzwymj6je232Sac31zcs0RZXKDzpHABZVJxjO0elaUnjede1UOXybv8AkdWCnxC68Vi4UVT68s5uXyTgl+J6fRRRXefShRRRQAUUUUAFFFFABRRRQAUUUUAFFFFABRRRQAUUUUAFFFFABRRRQAUUUUAFFFFABRRRQAUUUUAFFFFABRRRQAUUUUAFFFFABRRRQAUUUUAFFFFABRRRQAUUUUAFFFFABRRRQAUUUUAFFFFABRRRQAUUUUAFFFFABRRRQAUUUUAFFFFABRRRQAUUUUAFFFFABRRRQAUUUUAFFFFABRRRQAUUUUAFFFFABRRRQAUUUUAFFFFABRRRQAUUUUAFFFFABRRRQAUUUUAFFFFABRRRQAUUUUAFFFFABRRRQAUUUUAFFFFABRRRQAUUUUAFFFFABRRRQAUUUUAFFFFABRRRQAUUUUAFFFFABRRRQAUUUUAFFFFABRRRQAUUUUAFFFFABRRRQAUUUUAFFFFABRRRQAUUUUAFFFFABRRRQAUUUUAFFFFABRRRQAUUUUAFFFFABRRRQAUUUUAFFFFABRRRQAUUUUAFFFFABRRRQAUUUUAFFFFABRRRQAUUUUAFFFFABRRRQAUUUUAFFFFABRRRQAUUUUAFFFFABRRRQAUUUUAFFFFABRRRQAUUUUAFFFFABRRRQAUUUUAFFFFABRRRQAUUUUAFFFFABRRRQAUUUUAFFFFABRRRQAUUUUAFFFFABRRRQAUUUUAFFFFABRRRQAUUUUAFFFFABRRRQAUUUUAFFFFABRRRQAUUUUAFFFFABRRRQAUUUUAFFFFABRRRQAUUUUAFFFFABRRRQAUUUUAFFFFABRRRQAUUUUAFFFFABRRRQAUUUUAFFFFABRRRQAUUUUAFFFFABRRRQAUUUUAFFFFABRRRQAUUUUAFFFFABRRRQAUUUUAFFFFABRRRQAUUUUAFFFFABRRRQAUUUUAFFFFABRRRQAUUUUAFFFFABRRRQAUUUUAFFFFABRRRQAUUUUAFFFFABRRRQAUUUUAFFFFABRRRQAUUUUAFFFFABRRRQAUUUUAFFFFABRRRQAUUUUAFFFFABRRRQAUUUUAFFFFABRRRQAUUUUAFFFFABRRRQAUUUUAFFFFABRRRQAUUUUAFFFFABRRRQAUUUUAFFFFABRRRQAUUUUAFFFFABRRRQAUUUUAFFFFABRRRQAUUUUAFFFFABRRRQAUUUUAFFFFABRRRQAUUUUAFFFFABRRRQAUUUUAFFFFABRRRQAUUUUAFFFFABRRRQAUUUUAFFFFABRRRQAVg/E74n6B8GfAeo+J/FGqW2jaDpEYlu7yfOyFSwUdASSWZVAAJJIAGTW9Xy3/wWk/5RofEr/uF/wDp1s65sZWdHD1K0d4pv7lc9/hXKaea53g8srNxjWq06ba3SnNRbV9LpPQ+lvDPiSw8ZeG9P1fSrqG+0zVbaO8s7mFt0dxDIodHU9wykEexq9Xlv7Dn/JlPwf8A+xI0X/0ghr1KtaM3OnGb6pM8/NcJHC42thYO6hKUV8m0FFFFaHAFFFFABRRRQAUUVQ0rxRpuu399a2Wo2N5daXIIb2GCdZJLRyNwSRQSUYgg4bBxRdFKEmm0tFv5F+iiigkKKKKACiiigAoorlPjv8SG+DfwP8ZeL0tVvn8K6Fe6wtsz7BcG3t3mCFucbtmM9s1M5KMXKWyN8Nh6mIrQoUleUmkvVuyOroryL9hD9o6+/a2/ZQ8JfEHU9OtNKv8AX0uRPa2rM0MbQ3U1vld3OG8rdgk43YycZr12po1Y1acasNpJNejOjNMtr5dja2X4pWqUpShJXvaUW4tXWj1W4UUVT8QeIbDwnotzqWqX1npunWUZmuLq7mWGG3QdWd2IVQPUnFaN21ZxRjKUlGKu2XKK4nwB+0t8Ofivrn9meFvH/gnxLqWwyfZNK1y1vJ9o6tsjdmwPXFdtUwnGavB3RtisHiMNP2WJg4S7STT+5hRRRVHOFFFFABRRRQAUUUUAFFFFABRRRQAUUUUAFFFFABRRRQAUUUUAFFFFABRRRQAUUUUAFFFFABRRRQAUUUUAFFfOn7av7GfxA/af8UaNe+Efjr4u+FNlplq0E9jpEMpjvJC5bzWaK5gbOCFwxYfKMbTnPin/AA6Q+Nf/AEeT8Uv+/d//APLKvNrYvFQm406Dku/NFX+93Pvcp4Z4fxOEhXxmcU6NR7wdGvJx16yjBxffRs+9qK+Cf+HSHxr/AOjyfil/37v/AP5ZUf8ADpD41/8AR5PxS/793/8A8sqy+vYz/oGf/gUP8z0f9T+Fv+h/T/8ABGJ/+Vn3tRXwT/w6Q+Nf/R5PxS/793//AMsq4f8AZ/0T4pfsw/8ABWzwV8LdS+NvjX4q6LqGhXOp62mpT3Bgtc214Y42ilnnCkPFbuHDAnzVHTrDzSvTlFVqDipNRvzRer9GdNLw8yjF0MRUyrN6depRpTquHsq8LxprmfvTgop9Fd6tpH6XUUUV7R+UBRRRQAUUUUAFFFFABRRRQAUUUUAFFFFABRRRQAUUUUAFFFFABRRRQAUUUUAFFFFABRRRQAUUUUAFFFFABRRRQAUUUUAFFFFABRRRQAUUUUAFFFFABRRRQAUUUUAFFFFABRRRQAUUUUAFFFFABRRRQAUUUUAFFFFABRRRQAUUUUAFFFFABRRRQAUUUUAFFFFABRRRQAUUUUAFFFFABRRRQAUUUUAFFFFABRRRQAUUUUAFFFFABRRRQAUUUUAFfLf/AAWk/wCUaHxK/wC4X/6dbOvqSvlv/gtJ/wAo0PiV/wBwv/062dcGa/7jW/wS/Jn2nhv/AMlblf8A2E0P/TsT1L9hz/kyn4P/APYkaL/6QQ16lXlv7Dn/ACZT8H/+xI0X/wBIIa9SrfCfwIei/I8XiT/kb4r/AK+T/wDSmFeJ/trePfjj4F8MaK/wQ8EeG/Gep3FxIupLq94sK2kQUFCiNPBvLHcCfMyMD5TnK+2UVdam6kHBScb9Vv8Ajc5spx8cFi4YqdGFZR+xUTcJaW95RlF6b6NartofJX7Ef/BUO1+PfjG5+HvxH8Pz/Df4p6VGzXOn3iGC0vdrAHyDId6vgg+W2cjlWcA47/8Abw/b18M/sHfD/S9Z1q1fWr3VtQjsoNKtbuOO7aMh2kuArHJjQJgkDG50Ukbs1x//AAUv/Y6+Cvxc+Guq/EL4npd6PP4V0to/7c0+ZkuUj3fuoynKynzXAVWGcyYBGa/Mr/gnj40+HOn/AB68Oap+0ZPr0+k6bpkVv4NbVbSWbS4wtw7q8jZ3GFHLhBteLLtuKhAD8xi8yxeEksHUlFyltNu1l3krf8Bn9CcNcBcNcS0anFGDo1o0aH8XCwi5c87N8tCpzczWzkmuaEXvax+7dFRWN9DqllDc200Vxb3CLLFLE4dJUYZVlYcEEEEEVLX1h/NbTTswr4K/4JJyNJ+2t+2Rkk48bIOT/wBP2rj+lfetfBP/AASQ/wCT1v2yf+x3X/0v1evIx3++4b1l/wCkM/TeD/8Akls//wCvdD/1Jpn3tXxp/wAFC/2ufilov7SfgP4EfBj+y9K8b+NbM6q+t6kkckNpbqbjKqro68LbTO5KOcBQqljX2XWVeeBdE1HxdZ+ILjRtKn17ToXt7TUpLSNru1if76Rykb1Vu4BAPeu3GUKlan7OnLl1V2t7X1t2fmfKcLZvgssx31zG4aNdRjPljLWHO4tQlKL0lGMrNxe58Pf8M/f8FAv+i4/C3/wAh/8AlVVLWtH/AOCgXwJt/wC3G8Q/Dn4sQQq5l0e3tYUIUKTvwILN2PoqSFicDaa67/gid+1P4g/aC+C3jCw8d+KZ9b8daL4luHltL1gLu0s3ig2fJgERif7QoH8ONvA2ivtWvHweCp4mhGvSq1Ff++3b80fp/FPFmOyDN62T5hluBm6Ts7YWEVJNXupJRmk07ppo+e/+Ccn7dNp+3J8FpNSuoLbS/GegTfZPEWlQo6pZSln8p0DktskVCRkkhldSTtyfoSvgj/gkeMftq/tkf9jsv/pfq9fe9ehlFepWwkZ1XeWqv3s2r/Ox8T4mZPg8s4kxGFy+PJSapzjG9+X2tKFTlT6qLm0r62SvqFeW/tx/8mU/GD/sSNa/9IJq9Sr85f2uP+CbHxa0L4P/ABM8W337U/xD1fSbHRdU1afQpYLmO2vYEglla0YLeiII6gocRbcE/Jj5aeZ1qsKL9nTcrp31Stp5v8iPD/K8uxma0pY/Gxw7hOm4qUKk+d82y5IyS2WsrLX1t7t/wRb/AOUaHw1/7in/AKdbyvqSvyi/4J8f8E7Pih8dv2QvCPirw7+0t49+H+j6p9s+z6BpqXZtrDy72eJtmy+iX53RpDhBzIep5P2f+xZ+xf8AEH9mHxhq2oeLfjv4v+KthqNmLeHTtXhlEdpLvVvOVpbmdt20FcLtGHOc4GOHJ8TiHh6MHRajyx968e29r3Pr/FDh/JIZ1mmMp5pCVf29V+x9lWUuZ1JXhzuHJeOut+V20Z9HVzvxZ+E/h745/DvVPCfivTY9X8P61GIry0eR4xMoYOPmQqykMqkFSCCAQa6KmXFwlpbvLK6RxRqXd3OFRRyST2Fe9KKlFxkrpn47h69WjVjWoScZxaaadmmtU01qmns0fl/+2b+x58O/2Lv23f2UpPhloMvhd/EnjNYtRaPU7u5NyiXmmoq5mlfaNs8qkLjcHIOa/UOvzf8A2mvi1p37f/8AwU3+B3hj4Zt/wkNh8HtZOu67rlsfM09UFxaTSKsi5BAFoqB84Z5QozjNfpBXiZRGkq2IdBJQ5la22kVe3zP1vxOxGPnlWS084nKWLVGpKftG5VLTrTlT5nJuWsLWT1SsFFFFe4fjx8Zfsb/t3eNZf2wvHXwJ+M0vhyLxVo8jXmi6lZultDqET+U8dsiE/O5hmSRAPn2rIGBKk13v7YH/AAVJ+Fn7IS3em32q/wDCReMIgUj0DScT3Cy4+VZmB2Q84yGO/ByFavkj/gtP48+GXxE+KWgeHfAdpqGp/tC6dqlr9nvvDsAMsW0nbbzSoQzTKdjIFDNGVGSo4PJfsL+OvDH/AATh+LQ0j9oP4S6noHjTV79pbbx7qAGoxKXI5VjuRVBJLTQM7ksd3A4+Nea16NSWDU1ZP+I7tJPZPpzLzdj+poeHGUZpgaPE88JNVJ00/qVPkpyqyikpVafM3L2MtHaEJS193ufSH/BOP9nb4pfFv4i2n7Qvxl8UeJINevYriLRfCxVrS1sbWQNGDJCeiEEske0HhJGZmNfclY3gT4h6B8UfDsWr+Gtb0nxBpUxKx3mm3cd1A5HUB0JXI7jPFbNfTYHCwoUlGDvfVtu933PwHi/iDF5xmUsRiqapcvuRpxioxpwTfLBKy+G731bu2FFFeWfti/tZaF+xd8Ervxt4gsdU1K1hnjs4bawiDSTTSZ2AsSFRflOWY8dgSQD0VasKUHUqOyW54mXZdicfiqeCwcHOpUajGK3beyPIv2wf2av2jfEvxgk8ZfB34xW+iWn2aKJfDOqQ/wChRsi4YqfLlRi55+dAQTjeABjxfxT/AMFM/wBo39iRLF/jz8JdIv8Aw/cXaWKa5o14sHnOys3VXljZ9qOwQrFkIenWs34fft6/tL/8FMNani+Buk+GvhZoOg/LqOrarcx6jvmYEpGXe2fqo4VICRzufBFd34G/4JJeMvjN8RdM8UftJfFG5+I50hvNttBsd8WnCTIJySEGw45WOJC2BlsDB+UnOpiJOrlntNXu37nm7Su/uSP6QwuDwOSYeOX+IEcG1SjZ0oRbxi092PPQ5YJvR3qVJaO8tz7voor89v2mPF3xY/bQ/wCCkmvfAjwb8SNR+E/h7wDokesXeo6SZRdX7PFauSfKkjZvmvI0CeYqgK7HJwK+jxuMWHgnyuTk7JLq366dD8M4S4XlnmJq03WjRp0acqtSclJqMItJu0U5Sd5RSSV9T9CaK+Cf+HSHxr/6PJ+KX/fu/wD/AJZV5X8UPhh8Yv2BP2wf2erC+/aG8f8AxD0/4ieKotPvLTUJ7qO3WBLqyikRo5bqdZN6XTDoCu3I5PHBUzTEUlz1sO1G6V+aL3duj8z7HL/DrJcyqvC5XnVOrW5ZyjD2NePNyQlNrmlBRXuxe7/E/UqiiivbPyQKKKKACiiigAooooAKKKKACiiigAooooAKKKKACiiigAooooAKKKKAEdxGpJIAAySe1fn/AP8ABLCSb9qT9tf45/tAvA/9jX9yPDegyyjl4U8onA7FYIbXP/XUj1r33/gp/wDtURfsk/sg+INcELz6rrmdA0lAcKLq4ikw7HsEjSR/coBxnNM/4Jafs06l+yr+xh4Z8O65Ctt4gvWl1bU4B1t5p23LG3+2kYjRv9pTjI5rxsR+/wAfToramnJ+r0j+rP1PJIvKeDcdmc9KmMlHD0+7hF+0rNLtdU4t7a2PoeiiivZPywR3EakkgADJJ7V+eGtftc/H79vj9pHxdof7Nvijwz4W8C+BFSCXXNTs0lh1eZjgkO9tOeSr7AqgFI9xb5gK57xn/wAFitW+N37C+pJb+EDF4++Jmval4E8O6fpssj4Q21rmfcfmMyi/iRVX70m08DIH11/wTZ/Zhvf2Rv2PvC/hDWILGLxEvn32sNancr3E0rOAzdGZIjFESOD5XGRivnpYr+0KsaOHm1BLmk1dP+7G/S+/oft1HhyXBGW18zzzDU6mLlP2NGnUUakLRu6tZw1U1FpU430UpN6tafNPir9of9s/9iTTW1z4ieHfCPxW8Gac4bU9R0dFS5hh/icCJYmQAZy7W7KvfFfW37Kn7afw+/bI8HJqngvW4bi5SISXulTsI9Q04njEsWSQM8BxlD2Y16s6iRSCAQRggjrXwD/wUG/YNf8AZxnl/aE+A5g8FeKfBccmoazpdnHssdUtB80ziIfKMLkumAjoCflZctpUhicCva05OpTW6lrJecX19H95xYHGZBxdKOXY2hTwOMk7U6tKPLRnJ/DCrT15bvRVIWSv70bI+/6K86/ZK+PsH7UX7N3hDx7bwx23/CRWCzXEEbFkt7hGaOeNSeSFlSRQT2Fei17VOpGpBVIbPVH5Tj8FXwWJqYPEx5alOTjJdpRdmvk0FFFFWcgUUUUAFFFFABRRRQAUUUUAFFFFABRRRQAUUUUAFFFFABRRRQAUUUUAFFFFABRRRQAUUUUAFFFFABRRRQAUUUUAFFFFABRRRQAUUUUAFFFFABRRRQAUUUUAFFFFABRRRQAUUUUAFFFFABRRRQAUUUUAFFFFABRRRQAUUUUAFFFFABRRRQAUUUUAFFFFABRRRQAUUUUAFFFFABRRRQAUUUUAFFFFABRRRQAUUUUAFfLf/BaT/lGh8Sv+4X/6dbOvqSvHv2+f2c9T/az/AGSPF/w/0a+sdO1TXo7Y21xe7xbq8N1DcAOUDMA3lbchTjdnBxiuPMacqmEq04K7cZJfNM+p4Gx1DBcSZfjMVLlp069KUn2jGpFt/JK5f/Yc/wCTKfg//wBiRov/AKQQ16lXIfs+/Di4+DvwE8EeEbu4hu7rwtoFho808IIjne3t44mdQecEoSM+tdfW2Gi40oxlukvyPKzyvTr5liK1J3jKc2n3Tk2gooorY8s/Pf8A4KN+N/EP7bP7XHh39lvwjrdnpnh27tk1XxffxATOnlM03kMAf4BHEwXjMkse4gLmvrLx1+xh4B+Jn7Nmm/CvXdJ/tLw3o2lQaTp8kxBvLJYYlijmjlxlZQEU7gMHkEEEg4H7LH/BOv4bfsi+Mda8S+HLXVdQ8Ua68/2nV9WvWuboRSyCRoV6IF3KDu272x8zNXuteThMDJupVxaTlPS26Uekf8/M/SuJuMKMIYLLuG5yhQwiUlKyhOdd/HVdm3d6RjeWkYpaHyD/AMExvgz8bv2XdW8UfDbxxZ2+o/DPQ5ZpPCmvyajFLcyoZFCQLCrs6RFNz4dV2NlRuBGPr6iiu3CYaOHpKjFtpbX/AC+XQ+T4l4grZ3mE8yxFOEKk7c3InFOVtZNNv3pPWVrJttpIK+E/+CUGh3uk/to/tiPdWlzbJP42QxtLEyCQG71SQYJHOUkjb6Op6EV92UVNfC+0rU61/gbfrdNfqb5RxG8DlePy1U+ZYqMI3vbl5Kkal7Wd78tt1a9+lgooorrPmj88P24P2O/jF+zr+1Br37Q/wClt7y51i3ji1vw7a6eJ7qcHyll8uAIROkjQpI+0iUOWYZySNn/h7f8AGv8A6M3+KX/fy/8A/lbX3tRXjvKpwqSnhqrgpO7Vk1furp2v5H6lDxGwmKwdDDZ/ltLFzoRUIVHKpTnyJJRjJ0pR5+VLRyu0vVt/Bv8AwRr8HeOE+MH7RHjfxj4D8S+Ak+IOvWuq2VnrFnLbuC8+oTyRoZUjaQR/aIwX2AHPQcgfeVFFduBwiw1BUU72vr6tv9T5PjDiWWf5tUzWVJU+dQSim2koQjTSu9XpFb9Qry39uP8A5Mp+MH/Yka1/6QTV6lWN8RfAmn/FL4fa74Z1ZZH0rxHp1xpd6sb7HaGeNopAG7Haxwe1bV4OdOUFu0zysoxUMLj6GJqfDCcZO3ZNNnzp/wAEW/8AlGh8Nf8AuKf+nW8r6kry79kL9kvw7+xb8I/+EM8L6h4g1LShey3wk1i6S4mR5AoZV2IiKny52qo5LE5LE16jWOX0p0sLTpVN4xSfyVj1uNcyw2Y8QY7MMG26darUnFtWdpycldeV7BXy3/wUP/4J3a/+3hd6PDb/ABX1XwX4f063aO40aPTTeWl9MXLCdwJ4ssBhcMGAxxjJz9SUVpicLTxFN0qyvF+bX5HFw/xDj8kx0MyyyahVhezcYytdW2mpK/na66H5xfDb/ghN45+DUF1F4Q/ab8V+FY75la5TR9HuLFbgrkKXEWoLuIycZ6ZNdRH/AMEk/jZG4YftkfFDKnIzFfEfkdSr71orzY5BgYq0YtL/ABS/+SPusR408X4io6tfEQlJ7t4fDtv5ukZfgjQ7vwx4M0jTb/U59bvtPsoba51GdAkt/IiKrTOq8BnILEDgFql8VeH4vFvhjUdKnlureHU7WW0kltpTFNEsiFCyOOVYA5B7HBq/RXscqty9D8wdebq+22le+mmu+iWi+R4j+x3/AME/Phx+xBpt8vg6xvbjVdTG281jVJluL+4QHIj3KqqqZ52oqgkAnJANej/F74L+Ffj54JuPDnjLQtP8Q6LckM9tdx7grDIDowwyOMnDKQwycGunorGnhqNOl7GEUo9uh6WN4gzPGY95pia85V7p87k+a62s91bpbbofn5rv/BOf4p/sNfGG28X/ALNOszal4X1PU4zqvgTU73y7VYThWbzZZMSKASAxxMgxgyc1+gQ6UtFZYTA08NzKjdRfTovTtf7ux6XEvF+Pz6NGWZqMqtNOLqWtUmtLe0a0m42spNc2r5nIKKK5H48/D3V/iv8ACDXvDugeKdQ8E6vq1t5NtrljH5lxp7bgS6ruXqAV4ZSAxIZTgjqm2otpXfY+dwtOnUrQp1ZqEW0nJptRTeraSbaW9km+yufBP7SvhC6/4JQ/t1aT8YvDEdjB8LvilfR6L4k0xVZI9NkcrJLIg+6D+7edCOhEyYVSK/SSvgWP/giDqnxI1uy/4W3+0F8RfiXodgxlh06fzYisnqJJ7i5CgjIO1FYg8MK++q8jKaNanKq5w5IN3Ubp2f2ttLN9D9P8Ss2yrG4fARwmK+tYmlCUKtVQnBSjFr2SfOlKUox5oyk1qlHVhXwR8AHC/wDBwN8cMkDd4JtgPf8Ac6JX3vXy9+1x/wAEjfhP+2R8Sm8Xa+3ibRfEFxGkV5daLexxfbwiBEMiyxSrlUVVBUKcKM5xW2Z0K1SNOdFJuElKzdr6Nb2fc8nw+znLMFVxuGzapKnTxNCVHnjDncW505puPNG69xrR7tH1DX53/wDBQrx7p37QP/BTv9mzwL4RmGt698PPEZ1XXkt/mj0+L7RZXDq7dA6RWkjMO25B1OK2v+Idr4Kf9DR8Uv8AwZWH/wAh19B/sY/8E8/h1+wvp2or4Pt9RvdT1Y4utW1aWOe+eMciEMiIqxg84VRk4LE4GOSvDG4tKjVpqEbpt83M9HeyVl1W59Jk+M4T4ZqVM1y7G1MXiFCpCnB0fZRUqkJU3KcnUndRjKT5Uk27apXPc6KKK94/GwooooAKKKKACiiigAooooAKKKKACiiigAooooAKKKKACiiigAooooA+Av8AgsxK37QXxb+B3wCsfmuPFmvrrWosv37W2QPAJB7eW94x/wCuNfftfkh8ev2sNc0b/gtT4m1zwZ4QufifrvhfTj4a8P6bas4+yzrbKty7BUZisckl4rAbR8xO4AV+nf7PHibxj4y+DGg6n8QPD9n4W8YXkLPqOl2twJ4rRvMYIAwJ6oEYjJ2liuTjNfP5TiYVsViJK9+a2ztaOi12u3dn7V4k5Bi8s4cyWhPlVJUuezlHndSu3Uk+S/PyxjGEOZpK6te52lFFFfQH4qflj/wRu8KfCyXQbrwF8U7TS7D4qfDfx7Nreh2OsXRs7i3uJILWH9wu9fOdZbPLJhgCsTY+6R+p1fOH7UH/AASm+DP7WXiXUtf8Q6Hf6f4p1URi41rStQkguW8tQiny23wE7VAJaIkgDmvGP+Idr4Kf9DR8Uv8AwZWH/wAh187g6GNwUPYU6UZpdeblbXS/uvWx+5cUZvwpxZjP7WxuY18NOWrpOj7WEJNJz9m1VjaDldpNJ3d2j70llWGNndgqKCzMxwAB3NfB3/BRf/gqx8Nbn4MeNPhl4E1Gbx1428VWE/h2OHSbV7i1hNwphkPmjCyNsd9oi8zL7QeM0z/iHa+Cn/Q0fFL/AMGVh/8AIdfUf7M/7F/w4/ZJ8MQad4L8NWNlPGm2bVJo1m1K8JHJknI3HP8AdGEGThQOK3qf2jiIuk4xpp7u/M/krL8TyMA+B8jrQzCFetj6kJKUafs1h4Xi73nJyqtq9tIpPuzD/wCCbvwU1D9nr9h74deFdWWaLVLTTWvLuCaMxyWst1NJdvA6nkNGZzGfdDXt9FFetQoxpUo0o7RSX3H5rnGZ1syx9fMcR8dacpy9Zycn+LCiiitTzgooooAKKKKACiiigAooooAKKKKACiiigAooooAKKKKACiiigAooooAKKKKACiiigAooooAKKKKACiiigAooooAKKKKACiiigAooooAKKKKACiiigAooooAKKKKACiiigAooooAKKKKACiiigAooooAKKKKACiiigAooooAKKKKACiiigAooooAKKKKACiiigAooooAKKKKACiiigAooooAKKKKACiiigAooooAKKKKACiiigAooooAKKKKACiiigAooooAKKKKACiiigAooooAKKKKACiiigAooooAKKKKACiiigAooooAKKKKACiiigAooooAKKKKACiiigAooooAKKKKACiiigAooooAKKKKACiiigAooooAKKKKACiiigAooooAKKKKAOB+Gv7L/AIB+EHxH8UeLvDnhmx0zxL4zuGudY1BWd5rt2Yu2N7ERhmO5lQKrNyQTzXfUUVEKcYLlgrLyOrF43E4up7XFVJTlZK8m27JWSu+iSSS6LRBRRRVnKFFFFABRRRQAUUUUAFFFFABRRRQAUUUUAFFFFABRRRQAUUUUAFFFFABRRRQAUUUUAFFFFABRRRQAUUUUAFFFFABRRRQAUUUUAFFFFABRRRQAUUUUAFFFFABRRRQAUUUUAFFFFABRRRQAUUUUAFFFFABRRRQAUUUUAFFFFABRRRQAUUUUAFFFFABRRRQAUUUUAFFFFABRRRQAUUUUAFFFFABRRRQAUUUUAFFFFABRRRQAUUUUAFFFFABRRRQAUUUUAFFFFABRRRQAUUUUAFFFFABRRXwl48/4K4fFbwRq2r+Z+yX8Tf7G0mWXfqM8l1EggjJzMxWxeMLtBbIkZcfxEc1yYvHUcMk6zav5N/kmfS8N8IZpn0508rhGTha/NUp0972t7Scb7dLn3bRXmn7Jf7VXhj9sj4MWXjTwrJMLWaRra7tZxifT7pApeCTHGQGUgjgqykda5n/gof8AtewfsUfsx6t4uCLNrN1INL0OF4y8ct/KkjR78fwKsbueRkR4zkiqli6MaH1nm9y17+Rhh+GczrZvHIlSaxLn7PkejUr2s+1ur2trse40V+cvwh/YC/aM/aW+GujePfE37UXjvwfqfiy0i1T+ydOjuhFaRSoHjUpFdW6I+1hlFjAU8ZNdJ/w6Q+Nf/R5PxS/793//AMsq8+OY4qcVOGGlZ/3or8Ln22I4G4cw1WWHxOfUlUg2pJUcRJJrRpSVOzV+q0Z97UV+Xv7Qh/aD/wCCQDaL46m+L958ZPB2tXqaRe2HiVrkuk7JLKAiSTylP3cL4kSQfNwyMOv6hV1YPHe3lKnODjONrp267arR7Hz3FXCCyihh8dhsTDEYfEc3JOClG7hyqalGaUotcy3Wqd0FFFFd58Ycn8Q/jn4R+E/iTwzo/iPXrDSNT8ZXv9naLbTsQ+oXHyjYmB1y6DJwMuozlgD1lfBP/BW//k9b9jb/ALHdv/S/SK+9q4sPipVK9Wk1pBpffFP9T67POHqOByfLcypyblioVJSTtZOFWVNW9VFN36hRRRXafIhXkX7Rv7d/wn/ZK1vT9N+IPi+DQNQ1SA3NtbCyubuV4gxXeVgjcqpYMAWxkqcZwa9drkfiR8APAfxjvba48X+CfCPiq4skMdvLrGj2988CE5KoZUYqCecCscR7bk/cW5vO9vwsetkkssji4vN41JUdbqm4xntpZyjJb76bHO/s5/tn/DH9rSO/Pw+8W2fiCTS9puoBBNa3EKngMYpkR9pPG4LjPGa9Qr4A/wCCh37A7fs9283x8+Aclr8O/FHgeze51PTdLtEhsb+0QfvHWFV8sMqAl0K7HVckBhlvrH9jH46H9pb9lfwL43keKS813So3vjEmyMXkeYrkKuThRPHIAPQVxYPGVXVeGxMUppXutmu66rzR9XxRwvltLLaXEGQVZTws5ezcalva0qnLzcs3FKMlJLmjKNrq6aTTPTqKKK9M/PgooooAKKKKACiiigAorwP9vv8Ab38O/sOfDZLq5jGseL9aDQ6DocTfvb2XpvfHKxKSMnqSQq8njZ/YV1X4s+IvgDaap8ZV0638WarcyXkVna2wt2sLRwpihmUcCQfMSOoBUN8wauVYym6/1aOskrvsu1/N9EfRz4Wx1PJlnte0KM5ckOZ2lUa+Jwj1jDaUtEm0ld3S9jooorqPnAoqhpXijTddv761stRsby60uQQ3sME6ySWjkbgkigkoxBBw2Dir9CaexUoSg7SVmFFFFBIUUUUAFFFFABRRRQAUUUUAFFFFABRRRQAUUUUAFFFFABRRRQAUUUUAFFFFABRRRQAUUUUAFFFFABRRRQAUUUUAFFFFABRRRQAUUUUAFFFFABRRRQAUUUUAFFFFABRRRQAUUUUAFFFFABRRRQAUUUUAFFFFABRRRQAUUUUAFFFFABRRRQAUUUUAFFFFABRRRQAUUUUAFFFFABRRRQAUUUUAFFFFABRRRQAUUUUAFFFFABRRRQAUUUUAFFFFABRRRQAUUUUAFFFFABRRRQAUUUUAFFFFABRRRQAUUUUAFFFFABRRRQAUUUUAFfLHwp/a48XeMf8AgrF8TfhBdyWH/CG+FfC9vqVjGluBOLhk092ZpOpB+2SDHTCJjBzn6nr4J/Z+/wCVgX44/wDYkW3/AKJ0OvMzKrOEqCg7Xmk/NWlofoPAeXYbFYfNpYmCk6eEnON1flkqtFKS7Ozav2bPvaiiivTPz4K+OPhF/wAFn/AHiL4xa94H+Iekal8Jdb0q/eyt/wC3Jd0M+CQPNkChbdiMH5iUwRiQ8V9j155+0L+yl8Pv2qPDX9l+OvDGna5GilYLh08u7tM94plxInPOAcHuDXHjIYlpSw0kmujWj+e6+R9Vwvi8gpyqUc/w85wmkozpytOk09Wov3J32cZW8mmd5pup2+s6fDd2dxDdWtygkhmhcPHKhGQysOCCO4rx39hX9tTSf27PhLqfi3RtHv8ARLXTdbn0Yw3ciu8hjjilWTK8AMkycdiGGTjJ/LH9qDx741/4JzeKfiF8Dvhf8RH8SeCtZtjcT28SvNf+GFYgyxmRQFikKfK5QkFXyVjc8feP/BIX4t/Auw/Z+0vwP8NfEitrik32r2Gqf6Nqd7esiCaYRE4ZcIoHlFlVVUE5yT5GEzp4jGLDu0OVPmTa1l0UX1tr95+m8SeE9PJeGKmcw5sSq0qboTjCceSlyuUpVovSHNeMUnfWLadmfY1FFFfRn4QFeT/tgfth+D/2M/hNe+JPFF7F9o8tl07S0cfatUnwdsca9cZ+83RRkn0OD+35+3Pov7DXwmi1W6tn1fxLrjvaeH9Ijzuv7gAZLEciNNybiOfmUDlhXz1+w/8A8Es/+Fgam/xi/aFsZ9f+IviHUjrEOk3k7G201Dho1mi6Fgc4iYlEUIpXIIHlYvG1XU+q4RJztq3tFdG/Psj9I4Y4UwEMAuIuJZyp4TmtCEUvaYiS+KMLtcsY7TqapN2V5bdl/wAEL/gpr/wY/YeD+ILOXT5vFuuXGvWlvMhSVLZ4LeGNmU8jf5Bcequp71jf8F/vBmpeMv2KtD/s638/+z/GNlcXLGRUWGNra7gDsWIAHmTRgntuycAE19wgYFfnV/wVU8e2P7Zv7S3wr/Z18KXQ1iZNfXUvFX2V90enxou0q7LxvSBrh2GcrlB1OBx5jQhhsr+qJ30UV3bf9XPqOB85xefeIa4kqRUFGc69R2bjTpxi27vTZLlTbV5Nd7Hvv/BMv/goKv7evw58QX+oWek6H4g0TVpLc6Va3LSSCyKI0M7BueSzoSOC0RPGcV9M1+d3xn/YC+KP7FH7SV/8YP2ZtK8OXmlXemJYah4Rkj+cQqIjKsSuRvV2t45DslWbexChgSK17P8A4K2fHBLSIT/sdfE6ScIBI8f29EdsckKdOJAz0GTj1NPDZpLDw9jmF1NdeVtS81ZMy4g8PKOdYn+1OCnTlhaiT9nKtThUoya1hNVJxejvZpyTXXqSf8HEv/JlPhf/ALHe0/8ASDUK9H/bD/4JI+D/ANr34p3fjq68YeOvD3it7WKCzks7yKSysmiXajrCybx6lUlQE5PBJJ+Zvjj4u+MP/BU34z/CXwjr/wAAvHfw78D6H4gXUfEJ1T7SLS9t90QdjLLawKjpCLhVALFjPgAY5/Uiow1Gjjq9epON6b5ErprVJ33s+p157mubcHZRlOCwldUsZT+synySp1OWNWdNRi3Fzi+b2fM1ro1fqj4GP/BKv4/eGIxdaL+1548vb2H/AFUGoR3n2Y/Xdeyj/wAcNOH7Ov7ftmPKg+Onwzkhj+WNpbGIuyjoWzpbHP4n6mvveiuz+xaC/hynH0nL/M+X/wCIs5xV/wB+oYau+jqYWg7eloRPxv8A25fhf+1D4b/aG+AVr8SPiP4M8QeKtT8RGLwVeWFtGkGkXv2mwBlnAsogy+Y1scFJeI2+XnDfTX/DP3/BQL/ouPwt/wDACH/5VUf8Fb/+T1v2Nv8Asd2/9L9Ir72rzMJlcZYqvH2k9HH7bu/dW/c+/wCJ/ELEUeHcmxCwOEbqQrOzw1JxjavOPuRatFO12lvK7erPlP8AZP8AhR+1x4P+MVpd/Fr4m/D/AMU+ChDMt1Y6fZKt20hQ+UY2Syt8YfaSSxG0EbckEfVlFFfRYbDqhDkUm/8AE2397Pw3P88nm2JWKqUadJ2StSpxpx0vryxSV9dXvt2Ciiiug8Q8t/bj/wCTKfjB/wBiRrX/AKQTV5b/AMEW/wDlGh8Nf+4p/wCnW8rk/wDgrz+2VbeAvhTe/B3wkJde+JvxKt/7Ih0uyj8+W1tbj93IzqOjSRlkRevzbui8+9/sRfs9t+yt+yn4K8Byz/aLrQrEm8kBypuZpHuJwp/uiWVwv+yBXjQmqmZtw1UIWfq2nb1sj9VxWGqYDw+hSxa5ZYnFRqU095U6dKcJTt/LzTST62dtEeq0UUV7J+VBRRRQAV8P/tNfHn9qv9kX4x+IvF3/AAjegfE34NmUzxWmmxCK80W0DdG2gTeYFBLSFZoh1+T7o+4KQjIrlxeGlWjaE3BrZr9Vs15H0fDOfUcrxEqmJwlPE05rllContdO8JJqUJdpJ+qa0PMf2Tf2ufB37Zfwrh8U+D7xniDeVe2NxhbvTJsZMUqAnB7gglWHIJrY/aK/aA8O/swfB7WfGvii6FtpekQlwgI827lPEcEYP3pHbAA/E4AJH54/t9+D2/4JjftaeFviF8EL+G1134iXD21/4CjgeaDU8sPmSGPny3kYAIMMsh/d8blXmP2WY9T/AOCvX7Szr8dfHNraxeC7iS4tvhxb20tg023h+Gx8qnh/nkmwCCUBBrwnnVaMvqUo/v72/u+v3a8u5+vw8Jssr0lxXSryjlHL7SSabrpKTjKkopWfvLlVVtQt7zejR7V/wTy+BHir9sz48N+1H8Wbe2VZ42g8FaG8OUsYFY+XcAN/CuX8skZZnaXj5M/oFUGmabb6Lp1vZ2cENraWkawwQwoEjhRQAqqo4AAAAA6AVPXt4HBxw1PkvdvVvu+rPyfjDimrnuP+suCp0oJQpU18NOnH4YL03b3cm2FFFFdh8qfBX/BJORpP21v2yMknHjZByf8Ap+1cf0r71r8fP+Cd/wC394R/4Jq6R488PfFfwd8Ql+JOua+brU7iCyheSWBI1ESS+fPG24SvcvkKQwmzuPb6N/4iJfgp/wBCv8Uv/BbYf/JlfLZRm+Do4WMK1RKV5NrteTdvxP6L8TfDDijM+Iq2MyvBTq0eWlGM425ZqFGnDmjrs3FteR6L+yZ+2J42/aS/b/8AjT4YSCyh+Gfw1X+x40aNRdrqSXBh3ls7mSTyLw46KEi6EnP1jX43/sNf8FV/h5+zL+0N8ffFuvaN4zu9O+KniIavpMdhaW0k9vELm/l2zh7hFV9t1HwjOMhueAT2P7NH/Be3xW/iTxhb+OtN07WNJisNR1PRbyK1+xS20kUbyW1tOELL5crCOENyyvKuWfNRgOIsLGnFV6l5Scvlq7eitax0caeBvEFfHVamT4JQoUKVBJfC6j9lH2jXSU1Pm57tN9Ls/Tn4qfGfwn8D/Dbav4w8R6P4b05c4n1C6SASEfwoCcu3T5VBJz0ry/4Mf8FMPgd+0F8QIPC3hPx9Zajr13uFvay2N3Z/aCOSqNPEiO3Bwqkk44FfAvwn8A+Hf2jfi/4J+K/7VMl1qF78c9Rj0zwJ4c083EdrEkbpCGmAYNFblpIAiq53+aXfIYmvo3/gpf8A8Ezvhvcfsta/4t8C+FtF8D+Lvh7pz6zZXujw/YfNhtR50qSLFhXcxoxWRgXDqvzYJB6VmeMqwliKEY8sdeVt8zW/orrVXueHPw+4Wy3FUMmzjEV3iK75VVpxh9XhUvyNe9eVWMKl4TlFws07H3HRXjf/AAT7+Pt9+09+xv4D8bapHs1TVbF4b0/89p7eaS2klAHQO8LPjtux2r2Sveo1Y1acasNpJNfM/GM2y2tl2OrZfif4lKcoS/xRbi/xQUUUVqeeFFFFABRRRQAUUUUAFFFFABRRRQBwX7UXx0tP2aP2e/F3ju8jSePw3p0lzFC7bRcznCQxE9t8rIue26uR/wCCf3x28c/tKfs1aV4z8feHtJ8Oajrcrz2EOnSMYrqxIUwzlWZmQtlvlLHhVbjdgcN/wWk/5RofEr/uF/8Ap1s69S/Yc/5Mp+D/AP2JGi/+kENeZ7Wo8x9lf3VC9u7ba/Q/Qf7NwdPgdZj7JOtUxUqfO73jCFKErR1t7znrdPZHqVFFeC/tgfGT4vaHpFnB8AvDPg34ga7aXr2+v2+o6pEp0hditGGjNxD8zZPV8gAfKQ2V7q9ZUoObTfkld/JHyOUZVUzHFRwtOUYX+1OShCPnKcrKK6K+7aS1aPeqK/OH4y/t1/tt/s7/AA31Hxj4z+D/AML9J8NaOYvtt0LgTmISSpCnyRam7nLyIOFOM5PANfePwE+JEnxk+BfgvxfNapZTeKtBsdYkt0Yutu1xbxzFATyQC+M+1cuFzGnXm6SUoySvaSa0+Z9DxHwLjsmwdPH1atKrSnJwUqNWNVKSSk4txbs7NO3Z+aOh8QeIbDwnotzqWqX1npunWUZmuLq7mWGG3QdWd2IVQPUnFec/8NyfBT/osHwt/wDCrsP/AI7XYfFn4T+Hvjn8O9U8J+K9Nj1fw/rUYivLR5HjEyhg4+ZCrKQyqQVIIIBBr81vhT+wn8FvGP8AwVi+Jvwgu/hzYf8ACG+FfC9vqVjGms6oJxcFNPdmaT7Vkg/bJBjphExg5zhmOKxNGcFRUWpO2re+r6J6WR6vA3DmQZrhcXVzSrXjPDwdVqnCm17NOEXrOcXzc09rWtre+h+hXhL9rP4V+PvEFvpOhfEv4f61qt42yCysPEVnc3E7eixpIWY/QV6DX5H/APBSb9jD4X/DP42fDL4WfAzwZ9h+J3iO/F/PPb+IrtprKBAfLU+fNIke7Ekm/AZRbgjIbB/XCqy/GVq1SpSrRV4W1i21qr21S1XX1MuN+FcryzBYHMcqq1JQxUZyUasYRqJQkoqVoTkuWb5uW9r8reoUUUV6h+dhRRRQAUUUUAFFFFABRRRQAUUUUAFFFFABRRRQAUUUUAFFFFABRRRQAUUUUAFFFFABRRRQAUUUUAFFFFABRRRQAUUUUAFFFFABRRRQAUUUUAFFFFABRRRQAUUUUAFFFFABRRRQAUUUUAFFFFABRRRQAUUUUAFFFFABRRRQAUUUUAFFFFABRRRQAUUUUAFFFFABRRRQAUUUUAFFFFABRRRQAUUUUAFFFFABRRRQAUUUUAFfBP7P3/KwL8cf+xItv/ROh197V8J/AXQ722/4L6fG28ktLlLSbwPamOdomEbgx6Oow2MHLRSge8b/AN015Ga/Hh/+vi/9JkfpnhzJLDZ1d/8AMFP/ANPUD7sooor1z8zCvI/22vhp8Sfi98Cbnw/8LPFNl4O8RX93Ck+pTtJG0dnk+cIpI1Zkk+6QwGcBgCpO4euUVnWpKpB05bPtozuyzMKmAxdPG0oxlKm1JKSUo3XeL0a8meB/sNf8E9/CP7D/AIevm06e58ReLdbO7V/EN+g+1XZzuKIOfLj3fNt3Ek8szYGOJ/bQ/wCCSXw+/aTsL3XfDFnb+A/iPH/pNjrOmA20U1wp3KZ404OSOZFAkBOctjafrKiuWWW4WVD6s4LlXT+uvnufRUOPuIaObyzyGLn9Yk/elf4kvsuPwuPTkty20tY/Obw5/wAFKfjj+wm2maP+0v8ADe9vfD/2b7PaeJdC8q4ubuRCVDTOJjbu7AfdJhfGGKnNfdH7P/xx0b9pL4O6F448Px6hFo/iGFp7ZL638i4UK7IQyZI+8hwQSCMEEgg12NFLCYWtQk1Kq5w6JrVf9vdfu+ZpxPxJlWbUo1aGXxw2Ivecqc2qclrtSafI9tVO2nw66fNf/BQr/gnrN+3Nd+BL/T/Hd/4B1rwDd3F1Y31rYm5cNKYG3LtmiaORHt42V1bjnjOCPHf+HSHxr/6PJ+KX/fu//wDllX3tRUVsowtao6s4vme9pSW2nRo6sp8TuI8swNPLcJWj7KnflUqNGduaTk7OdOUtZNvc+Bbz/gkL8ZdQtJYJ/wBsT4nTwToY5I5Ib5kkUjBUg6lggjqK+hf2KP8Agnx4B/Yb8NzR+G7ebUPEGoxLHqeu3xDXd5jkqo6RR7udi+24sQDXutFOhlOFoz9rCPvLq23b0u3YzzrxK4jzXBywGLxC9lJpyjCFOkpW25vZwhzJbpSuk9Qooor0T4UKKKKACiiigD4T/wCCsWh3upftmfseT29pczw2/jhhLJHEzLGftmlvyQOPkjkb6RsegNfdlFFclDC+zrVKt/jafpZJfofS5vxG8dleAyx0+X6rGpG9783PUlUva2lua27va/kFFFFdZ80Fcj8edK8Z658INetPh5qek6N40nttulXupxGW1t5dwyzqFb+HcAdrAEglWAweuoqZx5ouPc3wtd0K0K6Sk4tO0leLs72aejT6p6NaH5beC/8Agk/+1f4M+Nur/EG0+J3wyg8YeImk+360xlurtRKf3hh8ywIhOPlHlbML8oIXivUYv+CUHx31VBc6h+2F8Rra9m+aaK0S+MCN6Ji/QY/4Av0r74orxqfD+EirPma/xS3+TR+qY7xs4kxMlUiqEJJKN1h6LfKvhj78JaLolZI+Cf8Ah0h8a/8Ao8n4pf8Afu//APllX0P+xR+y740/Zg0HXLPxh8XvEvxZbVJ4pbSXWIXVtNChg6o0k8ztv3LnLgDYMAZJPt9FdWHyrDUJqpTTuv70n+DbR85nXiNn2bYSWBx1SDpyte1GhB6O6tKFOMlr2avs9GFFFFeifDhXxn+3L+3r8R9D+M83wV+CHgjVNa+IL29vPda3La+ZZaNFNgrJtZShGCMyyERqSRhiCB9mUgUBs4GSME46/wCc1zYujUq0+SnPk7tb28u3qfQcNZtgstxn1vG4WOJST5YSbUOfS0pJfHFa3hdKXV20fxz+xn/wTX8SeDvjlffF/wCOniex+IPxPdtmnSWpZrHS0C7RIgaOIb8EhVWNUj5IBY5XY/4KCf8ABOD/AIaM1XT/AIhfDrUYvBnxh8Nuk9jqsbGFNRCfdjnZQSGA4WTB4+VgVI2/V9Fc/wDZWG9g8PbR6363733v5nty8SM+ecQzuNVKpCKgoqKVNU0reyVNe77NreNrPffU+D/2ef8Agr+3w/8AGd18N/2k9LbwB470qfyDqcdq39mXiY+WR9pbZu6h1zEwOcoOK+4/DviTT/F+iW2p6Tf2eqabeoJbe7tJ1ngnQ9GR1JVh7g1yP7QP7NHgj9qLwRNoHjfw/Ya3aMjrBLLEPtNgzAAyQS43RPwOVIzjByMinfs2fs/aH+yx8EtC8BeG5NQm0bw+kqW8l9KstxIZJnmdnZVVSS8jHhQB0A4owdLF0p+zqyU4W0f2vR9H6i4ozDhvMcNHHZbQlhsU5JTpK0qLVnedNv3oe9b92+ZJPSWmvc0UUV6J8KFFFFAHwL/wQiWT4k6D8bPixdER3/xC8aSC4t1+7C0atdcfVtQYf8AFeyf8FFv2JPEX7cP/AArzQ7XxLDo/grSdZN54qsGkkjl1O3/d7fKKqw8xAJQofCgzbuSgBm/4Jf8A7Fmt/sJ/ATWvCOvatpes3WoeI7nV4p7ASeWsLw28KBt6qd+INxABA3YBbGT9IV42AwHNl0cNiVvuvO93+J+rcZcZOhxxiM9yKomoytSla6UVTVOLSa3jH4Xa6aT3R+fH/BYjSrL4J/EX9lbxgLRbHwT8OfFaQ3XkIdtnCsthLGiqOwispsD/AGK+mf2o/ib4d+K//BP74sa54Z1vS9e0e78EayIryxuUnhY/YJvl3KSAwyAVPIPBFeifGb4JeFf2hfAF34X8Z6Jaa/oV9gy20+4YYdHR1IdHHOGQhhk4PNfIPiX/AIN8PgbruvXV5a6r8RNGt7iQvHY2eqWzQWoP8CGa2kkIH+27H3rLEYXF0qtWWHipRqJaXs00rdmrWPQyTiLhzH5dl+HzuvVoVsFKTUo01VjUjKp7Wz9+Moz5m9dVbuz0T/gi3/yjQ+Gv/cU/9Ot5X1JXMfBf4Q6J8AvhVoXg3w5btbaL4etFtLZXIZ2A5Z3IABd2LMxwMsxOOa6evVwVGVHD06Ut4xS+5WPznizNaWaZ5jcyoJqFarUmk97Tm5K/nZhRRRXSfPhRRRQAUUUUAFFFFABRRRQAUUUUAfIP/Bc3x5Y+EP8AgnZ4l0+78zz/ABTqOnaXZbRkGZblLs7vQeVay/jivf8A9lHwfqHw8/Zb+G2gatAbXVdD8K6Xp97CTkwzRWkUci/gykfhXyD/AMF0FuPihefAT4RxtFaw/EXxkA16wLNavGYbRDjuMai7H/cFfftePh/fzGtP+WMY/nJ/mj9Qz22F4GyrDLevVxFZ/Lkoxt5PklpvpfqFfAH/AAQUhvPiN4T+MvxY1S78zWPiB4vMd7bJHtihkiQ3RdOejNqDDb2Ea+tff9fnf4N/4IeeOvhRY3um+Cv2nvG/hLQ7q6e6/s/TtPuLeMswC7nEV+ivJsVFL7RkIOAAAFmMK/1ijXo0+dR5rq6WrSS3a8y+BcZk7yPNMpzPGLCzxDocspU5zTjCU5zj+7jJrX2b6XsWv+CzX7X/AIb+InwW/wCFJeAtTtPGXjnxlrFrY3Wm6Swu3tUhnWXYzJkLKZo4l2Z3Y35xjn7h+DHw7j+EHwe8KeE4pTcReF9Gs9ISU9ZFt4EiDfjszXjX7Df/AATU8BfsT+GLJ7a0sfEfjWIS/afE9zZCO6l3k/LEpZ/JXYQuFbJAOSc19FVrgcNX9pLFYmynJJWX2UtbX6u716djh4xz3KfqFDh3IOaWHoTnN1Jqzq1J8sedR+zFRglFP3rP3tQr85/DXxb8MfAP/gu38atc8a69pfhbSLrwVbpb3ep3C28Vw4t9IbZGWxvciGXCrkkowAJGK/RivG/2if8Agn78IP2rvFtrrvj7wdDrur2VqLOK6XULuzfyQzMEbyJUDAFmxuyRk4qsyw1atGDoW5oSUtb22a6epzcA8QZZllfF0s3VR0cTRlRbpqLnG8oTTSk4xfwW1fW/kfLP/BMqxm/a7/b0+L37SMmnrB4cn/4p7w758HzybUgj85C3KOLeCMNjvdOueDX6FVjfD74e6J8KPBeneHfDmmWmj6JpMIgtLO2TbHCg9O5JOSSckkkkkkmtmtMvwjw9Hkk7ybbb7t6s4eNuJYZ5mf1mhD2dGEYU6UG7uNOnFRgm+rsrvzb6BRRRXcfIhRRRQAUUUUAFFFFABRRRQAUUUUAFFFFABRRRQAUUUUAFFFFABRRRQAUUUUAFFFFABRRRQAUUUUAFFFFABRRRQAUUUUAFFFFABRRRQAUUUUAFFFFABRRRQAUUUUAFFFFABRRRQAUUUUAFFFFABRRRQAUUUUAFFFFABRRRQAUUUUAFFFFABRRRQAUUUUAFFFFABRRRQAUUUUAFFFFABRRRQAUUUUAFFFFABRRRQAUUUUAFFFFABRRRQAUUUUAFFFFABRRRQAUUUUAFFFFABRRRQAUUUUAFFFFABRRRQAUUUUAFFFFABRRRQAUUUUAFFFFABRRRQAUUUUAFFFFABRRRQAUUUUAFFFFABRRRQAUUUUAFFFFABRRRQAUUUUAFFFFABRRRQAUUUUAeW/Hz9kHwl+0f8Rvh14o8QnVF1T4Yat/bGj/ZLgRxvLvhfbMCp3JvgibAKn5MZwSD6lRRWcaUIyc4rWW/n0O3EZjiq9Clhq03KFJNQT2ipNyaXa8m2/MKKKK0OIKKKKACiiigAooooAKKKKACiiigAooooAKKKKACiiigAooooAKKKKACiiigAooooAKKKKACiiigAooooAKKKKACiiigAooooAKKKKACiiigAooooAKKKKACiiigAooooAKKKKACiiigAooooAKKKKACiiigAooooAKKKKACiiigAooooAKKKKACiiigAooooAKKKKACiiigAooooAKKKKACiiigAooooAKKKKACiiigAooooAKKKKACiiigAoorzXWP2zPhB4e1W4sb/wCK3w2sb20kaGe3uPE1lHLA6nBVlaQFSD1BGaidWEPjaXqdeEy/FYtuOFpym1vypu33HpVFefeEv2s/hX4+8QW+k6F8S/h/rWq3jbILKw8RWdzcTt6LGkhZj9BXoNEKkJq8Hf0Fi8DicLJQxNOUG+kk0/xCiiirOUKKKKACiiigAooooAKKKKACiiigAooooAKKKKACiiigAoor5Y/4JF/tceLv2zv2cNd8UeM5LCTU7LxRdabD9ktxAi24t7aZFwOpUzsuepAXOTknnniYQrRoveV7fK1/zPawmQ4rE5Zic1p29nQdOMtdb1OblsuvwO+umh9T0UUV0HihRRUV9fQ6XZTXNzNFb29ujSyyyuESJFGWZmPAAAJJNA0m3ZHjf7Mf7amk/tO/GD4s+ENO0e/06f4Uayuj3VxPIrJfsZLiIugHKgPbS8HPBU9yB7TXwJ/wRjvE8cfH/wDan8bab+/8N+KvGYk0y7H3bkC51CY4/wC2dzCf+BivvuvOyrETr4ZVam7cvu5ml+B9v4j5Hhcnz+rl2DjywhGlo221KVGnKd76353K66bdAooor0T4cKKKKACiiigAooooAKKKKACiiigArxP9tX9vPwb+wh4Z0XVPGFj4kv49euZLa1j0izSdtyKGYs0kkaLwwwC2TzgHBx7ZRWVaNSUGqUuWXe1/w0PRymvg6OLhVzCk6tJfFBT5HLT+bllbWz+F9tNz45+BP/Bcb4K/Hb4lad4XjTxZ4XutVkEFtda7Z28Fo8p4WMyRTybSx4BYBckDPNfY1fnT/wAF3/EOl/GRPhr8HfDdvDrXxQ1TxBFeW0ECq01jbNDLFskfrGJXkjfHTbblmwFU1+i1edl2IrSq1aFaSlyW1StutVa71X6n3XHOR5VQy3Ls4yyjPD/WlUvSnP2jShKKjNS5YPlqXdrx+y7NoKKKK9Y/NAooooAKKKKACiiigAooooAKKKKACiiigAooooAKKKKACiiigAooooAKKKKACiiigAooooAKKKKACiiigAooooAKKKKACiiigAooooAKKKKACiiigAooooAKKKKACiiigAooooAKKKKACiiigAooooAKKKKACiiigAooooAKKKKACiiigAooooAKKKKACiiigAooooAKKKKACiiigAooooAKKKKACiiigAooooAKKKKACiiigAooooAKKKKACiiigAooooAKKKKACiiigAooooAKKKKACiiigAooooAKKKKACvmLU/8AgjX+zZq+pXF1N8NY/OuZWlk8vXNTjTcxJOFW4CqMnoAAOwr6dr86v+C2Xxu+Jnw8+Jfw/wBM0rxB43+HvwxnjEmseKvDsUzMl1JK6eU5jkjJMcaBxH5i7/MbG4rx5ebzw9Oh7bEU1NLuk9/XbzZ+i+GWGzvHZusryXHSwkqqblKM5xuoJtK0HzTe6jFJu706mJ/wVL/4J2/Af9lX9kfVfF/g3SP+EN8bafe2b6JKniC7ea8kN1EsiIk8z7isTvJ8gDL5YbIAIP3d+yR4q1Dx1+yn8Mtb1a6kvtV1jwnpV9e3Mn37iaWzieRz7szEn618q/s//wDBH3wx428QaX4/+KHxQ8RfH+3ubGG40RtVM0dq1u6+ZG7b7iWSVCGDKu9U5O5WzX3Jpel22h6Zb2VlbwWdnZxLBBBBGI4oI1AVUVRgKoAAAHAArmyvCTjWliPZqnGSSUVbpfV2069D3PELifDYjKsPkn12pjq9KpOcq9RTVlKMY+yj7R+0tFxu+ZR956IsUUV53+1h4I8afEf9njxRovw716Pwx4zv7ZF0zUndkFuwlRnG9QSheMOgYAlS4I6V7VSTjBySvbp3PynAYeGIxNPD1KipxnJJylflim7cztd2W7sm7HolFfEH7If7fXxF8CfH3TfgZ+0NoNvovi69tY00HXrY5g1whTjzGDMjPJtOHTALgoUVjXuv7cX7cHhr9hr4Y22ua1bXOr6nqtx9j0nR7RwtxqMvBbBOdqKCNzYONyjBLAVx0syoToyrt8qjvfRp9mj6nMeAM4wubUsnpwVWpWSdJ02pQqRd7ShLbl0d27ctnzWse1UVleBfEc3jDwTo+rXOm3ujXGqWMN3Lp94ALixaSNXMMgHG9Cdp9wa1a7k7q6PjqlOVObpy3Tt93oFFFFMg84/a3/aOsv2Sf2d/EnxC1DTrnVrXw9HCTZwSCN7h5Z44EXcchRvlXJwcDPB6V0vwg+I1v8YfhN4X8XWcE1raeKdItNXghmIMkKXEKSqrY4yA4Bx3FfPv/BaT/lGh8Sv+4X/6dbOvUv2HP+TKfg//ANiRov8A6QQ15yxE/r7ofZ5E/ndr9D7erkmEjwdSzhR/fSxNSm3d25I0qckrbbyeu56lRRX56f8ABcDRtR+Inxk/Zt8C22u6lodh441+80m8ktJGGBNNp1uJCgIDlUuJcAno7Dua1zDFvDUHWUea1tNt2l+pxcFcNLiDOKWVSq+yU1NufK5cqhTlUfuppvSNtz3/AMcf8Faf2efh14xvdB1T4k2K6lp8xt7hbbTb28iSQHBXzoYXjODwcMcYOa9w+HfxL8P/ABb8KW+ueF9a0zX9HuxmK8sLhZ4mPGRlScMM8qeR3ArxT4Sf8ErvgX8JvhcPC/8AwgOg+JUZZBPqmvWMF5qlwXGCftGwNHgYx5WwLjIAOSfAf+CLXhq0+HX7SP7VfhLR1ltfDvhrxbDZ6ZZGd5UtYkutTiUAuSSdkUaliSx2LknFcNPF42nXp0sSo2nf4b3VlfW+/wCB9fjuG+FcZk2Ox/D9Svz4NQb9r7PlqRnUjTvFRSlB3lzWfPppe5+gtFFFe0fkwUV86ftq/Dr9pTxx4o0Z/gh4+8FeDtHgtWXUYtXtBJcT3G84ZWa1uF2bcDACEEHJbI2+Kf8ADP3/AAUC/wCi4/C3/wAAIf8A5VV5tbMJU5uCozlbqkrf+lI+9yngehjsJDFTzXC0XL7FSdRTWttVGlJeejeh97V+fH/BAPxdpXgb9g3xdqet6np+j6bb+Nrsy3d9cpbwRD7Bp/3nchR+Jq7/AMME/tefGCfHj39pqPw5HF/q28Jwyozem4QpZfzNfO3/AASH/wCCXnw1/bM+COpeNvG0/iaa70nxJPpK2Fnex29ncQpbWso34jMu7dO+Ssi8BeOpPj4jGYmpjaMqdFp2nbmaV/hvtfb8T9RyPhjIMFwnmlHHZrGpBzwzm6FOdTls63Kk5qkpc93qn7tveWqP1X+HHx58DfGOe5j8I+M/CniqSzUNcJo+r2980APALiJ22g+9dZXjv7Of7Anwj/ZM8U3ut/D/AMIR6Dquo2n2G4uTqN3ds8JdXKDz5XCgsiE7cZ2j0r2KvpMO6zh+/SUvK7X4pH4Pnccrji2snlUlR0s6sYxnfrdRlJb7ahXwd/wV8+JHif4x/ET4f/szeBpnstb+JDDUdWujIyImnoZQEbby0f7meRwOcW6jncRX3jXwt/wUQ+DHxU8BftwfDv8AaE+HXg//AIWDF4P0STSL3RYJCLkZ+2KXCj53DJetjYrENHypBrz8653heWN7NpStvy3978D7XwmlhocQxrVnBVIQqSo+0ajB11B+yUnJqPx2tdpXsfWf7Pf7Pnhb9l/4Vad4P8H6cun6Rpy5JPzTXcpA3zSv/HI2Bk+wAAAAHzl/wVQ/bw8Vfs1XvgbwN8L4I9T+JnjK/SaKzNoLoizVigXyz/FNL8qnsscvKkA1xn/D2/41/wDRm/xS/wC/l/8A/K2vmX4o/tyfELxL/wAFQ/hx8SLv4A+M9M8VeH/DsthZ+Cpmuf7Q1eJo9RBuIybQSbQLiQ8QsP8ARn+brt8vH5xh1h1RwsnG7S0jJWV9badtj9D4K8Lc8q53UzTiChTr8kKtXlliKE1VqKLcVO1ST5XK3NJ6L7TSP2Qor4J/4e3/ABr/AOjN/il/38v/AP5W19D/ALFH7VPi39qLQdcufFvwj8WfCe50ieKOGHWvMxqKuGJaIyQwudm0bvkx864Y8gezh81w1eap027v+7Jfi0kflOdeHOfZThJY7HU4KnG12q1Gb1dl7sKkpPV9Fpu9D2+iiivRPhwqjoHifTfFdpJPpeoWOpQQzPbySWs6zIkqHDoSpIDKeCOoPWr1fm14B8ZSf8EeP24df8MeJTdJ8EPizdnUtI1NlZ4tGuy3Ic+iZ8t+rFBC/YiuHGY36s4Smvcbs327fK+l+h9hwrwo89pYqjhZ/wC1U489Onb+Kk/3ii7/ABxj70YpNySlbY/SWisnXfHei+GPB03iHUdW06y0G3t/tcuozXCJapDjIkMhO3aQRg55yK+Afiv+2V8Sf+Cm3ju9+Gf7O63nh/wNbv5PiHx3cI8G6M8FITwyBhnCj97J/wBM0DEmMx9PDpJ6ye0Vu/8AgeewuFuDMdnc51ItUsPS1q1p6U6a831k/swV5Sey6n1/+1f+2b4C/Yy8C/23411XyHnyLHTbYCW/1Fh1EUWRkDjLMQq5GWGRnB/4J7/tO+Kv2ufgPN4x8VeEG8HSz6rPBptuVkC3tkEjaK4XeASCXdNw+VjESMA4HlX7O/8AwQ9+DnwI8b2HiS9fxD431axQOsWuywSWAuOCZhAkS5Oc4WR3Az3IDV9jgYFZYZYypV9riLQj0itfm3+SR6HEE+FcHl/9n5Nz4mtJpyrzXs0kr+5TpXlo7+9Kcm9NEhaKKK9M+ACvyW8A/tkfHL/gop+0X4t8I+H/AIz6J8HtBfUWh0zR72CO01aSDfIqx27JF5slwiovmL56Hc/y5AO39aa+R/8Agp1/wTr0L9o/4R614p8KaJa6b8VtDT+1NN1KwjMF1qTw/OYHKYMjuAQjH5lcJhgM14udYfEVKanRbtG7cU2uZdrr+mfq3hTnuTYHG1cNmtKPPX5Y0604QqKhK/xOnNOLT0vK6cUnbcZ8CP2Hvht/wTS0PxP8XPGninU/FfiO3tTLqPijWxulgVsIRAmWYPKWVMl3dshQQCQfNdN/4Ka/tD/tWX8+ofs/fA60vvCFqzIuqeKJBH9uIbadjG5t4gwPBRJJSO5FdB8Lprj/AILQf8E0tO0rUfEtz4U1i21aKw8SXNtZeel3NaFJNuwugIlSSCXOcLJ2O3FfXfwu0Hwr8K9B07wD4bk0yzj8M6fDHFpcMyefb24+VZHQfN8xBJcj5mLHJJNc9ChKrGMcJL2dFpO6tzSb9b7dep7mcZzSy6riK3ElFY7No1JU5Rq8/saVKmkk1GHIpczb5UmoxSvZNq/xn/w0D/wUC/6Id8Lf/A+H/wCWtc78Vv27/wBtP9nLwLd+MvHvwa+Gun+EdGeE6jPBeK0irJMkShfL1GVgWeRVyI2xuyRgGv0Yr40/4Lw/EVfBP/BPnVNNaHzT4w1qw0hG/wCeJSQ3u78rMr/wKjH4OeHw066xE7xTau1v0+z3HwbxRg87z3B5RUyXB8lapCEuWFVSUW1zNN1nZqN2tHr0Z9UfB34jwfGL4R+FvF1rby2lt4p0i01iGCUgvClxCkqoxHBIDgHHpXR1x/7Pnw8m+EXwD8EeE7mRZrjwx4fsNJlkXpI9vbxxEj6lDXYV71LmcE57219T8ZzKNCOLqxwv8NSly/4bu34BRRRWhxBRRRQAUUUUAFFFFABRRRQAUUUUAFFfDfwJ8Y6tf/8ABeT406RNqd/LpVp4JtTBZvOxgiIj0hgVTO0ENNKenWV/7xr7krkwmKVdSaVuWTj9zsfScTcOzyeph6c58/tqNKttayqwUuXrte1+oUUUV1nzZQ0rxRpuu399a2Wo2N5daXIIb2GCdZJLRyNwSRQSUYgg4bBxV+vzL1H4y6X/AMEt/wDgrj4/ufFdzqFl8OPi/YrrHmxMbryLmSQObmWNAZNqXAvo1VQSFmBAOK9O8U/8HBnwL8P67cWlpp3xC1y3hbal9Y6VbpBOPVRPcRyY/wB5FPtXi088wyUo4mShKLaav22fo0fq+N8IM+qSo1cioTxVCtSp1I1IxsveiuaLd3FSjK8XG99Ln3NRXxp8Dv8AguR8I/j58W9A8G6XoXxEstT8SXkdhaS3mmW3kCVzhd5iuJHC56ttIAyTgAmvsuvRwuMoYmLlQkpJdj4jiHhXN8irRw+b4eVGUldKS3W118worxj/AIKH6p4o0H9iT4laj4N1C60rxBpeiyX0N5bXAt5reKErLOyPg4YQpLjGG7AqSCPhH9h34c/trfF/9nvSvGngr446GmheJnnkhj8UXcup30Zhnkt2y1xZXGwFomICSYwQSAeBx4rM3RxCw6pyk2r6W726tH03Dfh6s2yWpnVXH0cPGFVUrVXJXk48+8YytdXtpryvY/VWivz3+Gn7Vf7QH7H37Zngf4dftA+I/DnjbRviaFtNLvtGtoYzY3TyiKP7lvAxHmMiuGQjEoZW+Vlr9CK6cHjYYlS5U4uLs091+Z4fFPCWKyKpSVWpCrTrR54VKbcoTV3F2bUXdNNNNJphRRRXYfKhRRRQAUUUUAFFFFABRRRQAUUUUAFFFFABRRRQAUUUUAFFFFABRRRQAUUUUAFFFFABRRRQAUUUUAFFFFABRRRQAUUUUAFFFFABRRRQAUUUUAFFFFABRRRQAUUUUAFFFFABRRRQAUUUUAFFFFABRRRQAUUUUAFFFFABRRRQAUUUUAFFFFABRRRQAUUUUAFFFFABRRRQAUUUUAFFFFABRRRQAUUUUAFFFFABXiX/AAUi8A2HxI/YN+LOn6kJTb23hq71VPLbaRNZobuHn082BMjuMjvT/wBrD/goH8Lv2L/Jg8b65NBrF5am8s9Js7SS5vLyMMVyoA2ICwYAyOgJVsHg18ifFz9vv40/t/eAr7wF8JPgd4l0XQPHMMulS+Ktcik+yGyljZJvm8oQREoxG7zZDgkKpYqa8fMcxw0YTw7fNJprlSu9fTb5n6hwJwPn1bF4bPKdP2OHpzjP21SSpwShJNyjKbXNaz+BSeh9I/8ABIDxVqHjH/gnD8MbvU7qS8uIbS7sUkfqsNvfXFvCn0SKKNB7KK+lK8p/Yi/Zwk/ZI/Za8JfD2fUk1e50CGYz3ccZRJJZriW4cKDztVpWUE8kKCQCcV6tXbgIThhacKnxKKT9banynGeMwuL4gx2LwTvSqVqsoNKy5ZTk42WltGtLaBRRVDxVpVzrvhjUbKzv5dKvLy1lggvYkDvZyMhVZVU8EqSGAPBxXW9j5yCUpJSdl37fcfnv/wAFvfit8LPHel6P4JtG1bXvjdo94j+H4fDoMl1pcshQlJyvTeFUiNcyblRgFByfDf2R9H/4Q7/goPos/wC1uPFkPjm4gtLzwpea5eI+mebj90JuCMhtuza4VJUYSLuPH3r+wz/wTZ0H9jjWNc8Sahr158QPH3iOUyXviLU7VVnQEuWEWWkdC5cmQmRi5C56Yr0D9rX9jjwR+2n8OR4c8aWUzpbyedZahZusV9p0h4LRSFWAyBgqylTxkZAI+VqZRia8/rs7Kd01D7Om3M+rt16H9G4DxNyLJ8IuE8I6lTBuM4yxKuqsXUs5OjFpOFLmXvU3rNXbae/qlFfnh/wTN+MHj/8AZa/aq1X9ln4iTjW7fTraXUPD2rRrPMQnlxzLGHbgW5i8wjIGyUNHk5AH6H17uAxscTS50rNOzXZrdH43xjwrV4fzBYSVRVac4xqU6kdqlOfwzS6X6ro01ruFFFFdp8ofLf8AwWk/5RofEr/uF/8Ap1s69S/Yc/5Mp+D/AP2JGi/+kENUP2+f2c9T/az/AGSPF/w/0a+sdO1TXo7Y21xe7xbq8N1DcAOUDMA3lbchTjdnBxiuy/Z9+HFx8HfgJ4I8I3dxDd3XhbQLDR5p4QRHO9vbxxM6g84JQkZ9a81UZ/2g61vd5Er+fM2ffVs1wj4JpZap/vliqk3HryOjSipdtXFr5HX18Hf8F2PB2s+Hfh78MPjB4f8AMk1P4SeJkughhEkEKzPC6Ty/7K3Frbpjv59feNZHjzwHo/xQ8G6l4e8QadbatourwNbXlpcLujnjbqD/ADBHIIBBBFbZhhfrOHlRTs3s+zWq/E8vgniP+wc8w+bShzxpv3o/zQknGcddNYSkjwj4j/8ABVn4I+APgd/wmsXjfQdbeaziurbQtO1GCbV5XlUMkL26uXicZw+8AIQc8jFeV/8ABC34Ta94b+Bfjfxz4w0jWNO8V/ETxI19Nc6jC8Mup2iwpJFOFYA7WluLohv4s5GRg16d4T/4JB/s5+CvE1jq9h8NbX7bp0y3EH2nVtQu4g6nI3RSztG4z2ZSPavpMDArjoYTFVMRHEYtx9xOyjfd7tt2Pp834l4dweS4jJeGYVmsTKLqTrckWo03eEIxhKSau7yberS00QtFFFewflwUUUUAcT+0V8e9C/Zg+C2veO/Ev2v+xfD8SSTraxiSaQvIkUaIpIG5pJEUZIHzckDmvlL/AIN/vBWr+Dv2IdUk1XTL7Tk1vxVc6lYG5haP7ZbNZ2SLMmR8yFo3AYcHacV9L/tifs3Qftdfs3eJvh5carLocfiKOAC+jgE5tnhuIp0byyy7huiUEbhkE8jrXT/Bn4bxfBv4P+FPCEFzJeweFdHs9HjuJECvcLbwJCHIHAJCZI9682eHqzx8az+CMXb1b1/BI++wme4DC8HYjLKeuJxFeLmtbKlSjeDWlruc5p63slp1Olooor0j4EKKKKACvgn9oH/lYF+B3/YkXP8A6J1yvvavhP4+6Hey/wDBfL4H3q2ly1mvgm7BnETGMFYtYDZbGODLED6eYn94V5Ob/BS/6+Q/9KR+meF8ksTmF3/zBYv/ANMyPuyiiivWPzMKKKKACvA/+Civiz4L6Z+z3qOk/Gq/sYND1VT9ltx8+ovOo+WS0RQX81CR8wG0Zw52k598r8/P2aP+CcHxF+NH7Wes/Fr9pyx8L66Y4XtNI0PzhcxRPHIghl8pMw/ZxGJNqOWZmk3Oobk+bmNSryqhRhzOemvwpdb/AKLqfecCYLLvb1M2zPFuhDDcskoNKtUnf3Y0r7WteU9eXTR30+B/D/xA1nXdF8I+E/H3iX4pQ/sux6+62d7JpGzzI0yQgILKSMjKLJII8syISNp/cj9n3wp4J8HfBzQLb4dWml2ng2W0judM/s8fuZ4pFDLLu6uzAglmJYk8nNWvix8GfD3xp+E2reCddsIpvD+sWTWMsEahPKQjCmPjCMhAKkD5SoI6V+cfhmXxD/wQv/aC8RJc6B4s8W/APxabVLbVBcRyzafMFJLMoVYxLuaVSpEXmKEIbK4rxcPhpZTU56vvwlZOWt4+XX3fy6n6tnme0fEnBvCZcvq2LouU4YdOPs8Rdrmle1NfWLNt3T50vdSuz9RaK4f4A/tHeDP2nvAcPiPwTrtlrenSBRKInxNZuRnypo/vRuP7rAeoyOa7ivqoTjOKnB3TP52xeDr4StLDYqDhOLs4yTTT7NPVBRRRVHMFcZ8f/j14b/Zq+FOreL/FWoQafpmlws4Ej4e6kwdkMY6s7ngAA9fQGvIf25vgn+0F8ate0fT/AIUfEjQfAPhOW2MWtO8ciam0hkzvhkWJzgJjAV4jkHLEN8vlfgH/AIINfDa38S2mv+PvFvjn4j64kvnXrX94sNpqLf8ATRQrT4z/ANN+e9eXiMVi3N0sNS/7ek0l8t2/wP0PI+HuGo4elj89zKylr7GlTlOpZPVSk+SFNvo7y3TsWv8AggP8P9R8FfsIy3t/EYovE/iS81WyDAgvAIre23c+r28mPbFYvwAkZv8Ag4D+OAJJA8EWwAz0/c6J/ifzr7t0nSbXQdLtrGxtoLOys4lgt7eCMRxQRqAFRVHAUAAADgAV8qftT/8ABG34Wftb/GvU/HviDVvG+ma1rEcCXaaVfW0dvIYYkhRtstvIQdiIDhsfLnGSc8tbL61LDUKVBczptPV2vZNefc+kyzjjLcxz/OMwzmUqFPH0qkE4x9o4OVSnKN1eN7RhZu6uz6p1rW7Pw3pFzf6jd21hYWcbTXFzcyrFDAijLM7sQFUDqScV+anxu+JGk/8ABW3/AIKG+A/h/wCG7rVde+DXgdH1LxBc21syWlxdIJmJLnGY32wwK5wf3sxTIO4+gw/8G7vwTimVj4l+KEgVgSjalY4b2OLMH8jX2L8EvgP4R/Zy8B23hrwXoVjoOkW3PlW6fNM/QySOctI5xyzEngc8U6tDGYy1PERUKaabV+ZytrbZWXcwy/N+GeFlUx2SYipi8ZKMoU5OmqMaPNFxdTWVSUppP3LcqWrfQ6+iiivdPx8KKKKACiiigAooooAKKKKACiiigAooqh4qutQsfDGozaTaxX+qw2sr2dtLL5SXEwQmNGf+EM2AT2zmhuyuVCLnJRXXvp+J8J/s23sWr/8ABfn463FrIlxbx+Dobd5IzuVZETRkZCRxuDI4I9VPpX33Xx1/wSv/AGTfiR8FfGXxc+IHxT07RdI8SfFTVY9R/s6yuFuHsCJbqWUb1Z1CM1wu1Vkc4jG45xX2LXlZPTnGg51FZylKVnurtn6L4o4zC1c4p4XB1I1YYehQo88WpRk6dKKk01pbmutLrS6YUUUV6p+cHzl/wUs/YV0z9tr4BX9nb2VmnjfRomu9A1AxosxlQMfsrSkZEMuSCMgBtjH7tcD/AMEjv2ttB8Z/CofCvV9H0/wL8R/AR/s/U9GFrDp/9ouu4G4jhUKDJ8h80Bchvm6MK+gPgj+1j4P/AGg/iL8QPC/hu4vZtU+GmpLpWtCa3McazFpU/dsfvgPBKpPHKHsQT5f+1r/wSe+Fn7Wfiy58U3cWr+GPGty0ckmuaPdlJZmjUIheJ90ZwFX5lVXOB83FeJWoSdZY7A2k9pK+kkvPumfreVZzQhlk+D+L/aUaacalKajzSoykk9YOUealOD5rLVO0ktWfTdFfkh+1x4e8e/8ABLq70PV9J/aq17xlrlhfwtF4I1Sa5PmWZySZIvtMqbMAD5kjBBYowZQD+pvwh8fj4r/Cfwx4pWzm05fEuk2mqi0mOZLUTwpL5bcD5l3YPHUV0YLMfb1J0Zx5ZxtdXT380eHxbwI8nwOGzbC4hYjDV3JRmoTp6xtdctRRdrPSSvF6q+hk/tNeAr/4q/s2/EHwvpQibVPEnhrUtLsxK+xDNPayRJubsNzDJ7V8B/8ABOL/AIKV+D/2L/gTc/B74zWuq+AvEfw7nuEgjm0+4uJNSE881yU2xxt5bqZeCxCOrowbGa/TSuG8d/swfDX4peIX1fxN8PPA3iPVZEWN73VNBtby4dVGFUySRliAOgzxSxmDrSrRxOGklJJrVXTT/Hc04V4pyrD5XXyLPsPKrh6k41E6clGpCpBOKaclKLi4ylFpxe91rqviz/gn94I1n9vv9sHXP2nPGeivZ+FrBP7N8CWN2RIE8pmQzL6+URIS2MedM5U5j4/Qys/wp4S0rwJ4etdI0PTNP0bSrFPLtrKxtkt7e3XJO1I0AVRkngDvWhW+Awf1elyt3k3eT7t7/wDA8jyeM+KHnmYe3pQ9nQpxVOlTvdQpx0jG/V9ZPrJthRRRXafJBRRRQAUUUUAFFFFABRRRQAUUUUAFFFFABRRRQAUUUUAFFFFABRRRQAUUUUAFFFFABRRRQAUUUUAFFFFABRRRQAUUUUAFFFFABRRRQAUUUUAFFFFABRRRQAUUUUAFFFFABRRRQAUUUUAFFFFABRRRQAUUUUAFFFFABRRRQAUUUUAFFFFABRRRQAUUUUAFFFFABRRRQAUUUUAFFFFABRRRQAUUUUAFFFFAHK+PvgV4I+K2rWV/4o8G+FfEl9poxZ3Oq6Tb3ktoM7v3bSIxTkA8EciupAwKWipUIptpas3qYmtUhGlUm3GOybbSvvZdL+QUUUVRgFFFFABRRRQAUUUUAFFFFABRRRQAUUUUAFFFFABRRRQAUUUUAFFFFABRRRQAUUUUAFFFFABRRRQAUUUUAFFFFABVfVNLttc0y4sr23gvLO7jaGeCeMSRTIwwyMpyGUgkEHgg1YooGm4u63Pkr4O/8EndA+AH7bx+LHg/xNdaD4faOXPhC1s9tqXkt2hYGXzeYgzmRY/L+VgMEAAV9a0UVz4bCUcPFxoxsm7/ADf9eh7efcS5nndWnXzWq6s6cI002lfljeybSTk9X70ryfVsKKKK6DwwooooAKKKKACiiigAooooAKKKKACiiigAooooAKKKKACiiigAooooAKKKKACiiigD4R+N3/BOP40eB/2uPFPxO/Z58e+FfBQ8dQ7tZtNWjLDz2ZXlZUa2uI23yL5m4hWVpJAPlY1jap/wTU/aP/ar1az0r9oD42abe+B7QmaSw8LKIZrx+wZfskEXHOHdZdvOF5Jr9B6K8iWSYeTd3Llbu48z5fuP0+h4t55SpU1GFH21OKhGs6NN1korljao05XUdE9/nqfLP7Mf/BHf4Lfsv+JX1m00vUfF2qhla1ufE0kN79gI7xRpFHGGzg7mUsCOCK+pqKK78PhaOHjyUYqK8j4rPeI80zrEfW81ryrT2vJ3suy6JeSCiiiug8UKKKKACiiigAooooAKKKKACiiigAooooAKKKKACiiigAooooAKKKKACiiigAooooAKKKKACiiigAooooAKKKKACiiigAooooAKKKKACiiigAooooAKKKKACiiigAooooAKKKKACiiigAooooAKKKKACiiigAooooAKKKKACiiigAooooAKKKKACiiigAooooAKKKKACiiigAooooAKKKKACiiigAooooAKKKKACiiigD5s/wCCpH7Xejfsvfsxa3ZS3N7/AMJb450+70Xw7a2LEXRuJIjH9oUjlVhMiMSOclQOWFO/4JPfs/65+zn+xL4b0jxPFqVp4j1Oa41bULO8uDK1k0sh8uNVP+r/AHKxFk7SNJnkmvAvgPYN+31/wV38d+M9WaObwr8AXGjaPZlw6PdiWeKObHQgyRXMwYcgrCOQK6r48+MdWtf+C8PwS0eLU7+PSZ/Bd3JJZLOwgkZotXLFkztJJhhPI/5ZJ/dFfNQxXNX+vSV483s4r1kk5ff+CP33EcPKhk74QoS5ayovHYiT11hSlOnQS0tanJOT196V1orP7kooor6U/AgooooAKK8k/at/bY8C/sYWXh668dXGp2ln4kvGs4Li1snuUgKqGZ5NvIUAjoCx5wpwcek+D/F+meP/AArp2uaLe2+paTq1ul3Z3UDbo7iJ1DKyn0IIrKNenKbpRkuZbrqj0a2UY6jhKeYVaUlRqNqM2nyycXZpPZtPdGlRRXyRoP8AwUW1fxl/wU+X4K6Bp3hnXvBkVhLLeaxp9y9xdWM8du0j+Yyny1CzBYSmCQXUlsnYIxGKp0OVVH8TSXqzsyThzHZtHESwUbqhTlVm20koR333fZbvofW9FFFdB4QUVneLvDcPjPwpqej3Et3b2+q2ktnLLazGGeJZEKFo3HKOAchhyDg18K6l/wAG8/wst7eW40Txz8TdM1tcvaXs17aTLBL1DsqW8btz6SKfeuPFVsTC3sKan/29b9GfVcN5ZkWLU/7Yx0sM01y2ouqn3banFxt6O5990V8G/wDBNH4xfE/4cftk/Er9nX4ieJLjxwvg6wbWNO1y9maS7MW+1EakszMVkiu432s7GNgVBI6feVPBYtYmn7RJpptNPo1o0Z8W8M1cix/1OdSNSMowqQnG/LOE4qUZK9mrp7NafiFFFeM/th/t5fD39iDwza33jO+upb3UDiz0nTkSbULtQcM6xs6AIvdmZR2BJ4ratWp0oOpVdkurPJyvKsZmeKhgsvpOpVnooxV2/wCur6LVns1FfE/w4/4L5fAnx74pg028Txp4VjuDtF9rGmw/ZUJ6BjBNKy/UrgdyBX2R4W8V6Z458PWmr6LqNlq2lX8YltryznWeC4Q9GR1JVh9DWOFx2HxN/YTUrdj1eIeDs7yJxWb4WdHm2cotJ+j2b8r3NCiiius+aCiiigAooqh4d8VaX4wsXutJ1Kw1S2jleB5rS4SdFkQ4ZCykgMDwR1FF1exShJxc0tEX6KKKCQoork/jv8XtP+AXwZ8T+NNV+ax8NadNfyRhtpnKKSsSn+87bUHuwqZzUIuUtkb4XDVcTWhh6Eeac2opd23ZL5s8K+JP7feuD9vzQvgZ4C8IJ4iurMQ3ni/ULmVok0izkWNy8eOCVjljbLcM0iIBlsj6hr80/wBjLxlqn7P37Pfxb/bN+IunNrGueOnjOn6bbMIWW0a7S3RQ5B2I8rRAZBIjt1b5t2K+8P2Y/jTL+0X8AvC3jibQb3wyfE9kt8mnXcgkkhjYnYwcABkdQrq2BlXU4GcV5OV4x1W/ay96XvJW2he0fv33P0vxE4WpZbGmsvpL2OH5cPVqqV/aYlQU6qs3e0G+VWiopJJtto7yiiivYPy0KKKKACiiigAooooAKKK4r9ob4/eHP2YPhBq/jfxXPNBomjKhl8iPzJpWd1jREXI3MzMo6gdyQATUznGEXObskdGEwlfFV4YXDRc6k2oxitW23ZJLu2drRWR8P/G9h8TPAeieJNKaV9L8QWEGpWbSxmN2hmjWRCynlTtYZB5Fa9NNNXRlVpTpTdOorSTs0+jW6CiiimQFFFFABRRRQAUUUUAFFFFABRRRQAUUUUAFFFFABRRRQAUUUUAFFFFABRRRQAUUUUAFFFfH/wC1L/wVx034MfG6f4a+Avh94m+LXjnT2xf2Gklkjt8IHZVaOKaSR1BG4CPavILZBA5sVjKOGhz1pWW3/DJas97h7hjNM9xLwuVUvaTinJ6qKjFbuUpNRivNtI+wKK/P26/4LfeIvhr4h0j/AIWh+zv46+HHh3U7n7O2q309xlO5KRy2cIlIHJVXzjoD0r730DXrPxToVnqenXMN7p+owJc21xC26OeJ1DI6nuCCCPrUYTMMPiW1RldrfRp/c0js4k4JzrII055pR5I1L8slKE4u26UqcpRuuqvfyLdFFFdh8qFFFFABRRRQAUUUUAFFFFABRRRQAUUUUAFFFFABRRRQAUUUUAFFFFABRRRQAUUUUAFFFFABRRRQAUUUUAFFFFABRRRQAUUUUAFFFFABRRRQAUUUUAFFFFABRRRQAUUUUAFFFFABRRRQAUUUUAFFFFABRRRQAUUUUAFFFFABRRRQAUUUUAFFFFABRRRQAUUUUAFFFFABRRRQAUUUUAFFFFABRRRQAUUUUAfmF8AP+CW37Wf7Ic+vw/DP4o/DDRbTXZ0e6mmhaee8WLeIi/nafKVIDsdquQC7cnrXlnxR+F/7UNl/wVD+HGjaz8R/Bl38Zrvw7NLoOvRW0Y0+yshHqJeKRPsSqXKpdjJgf/Wp8wx8v7IV8E/tA/8AKwL8Dv8AsSLn/wBE65XyWPyejQp040pSS54q3M7K8unZ+Z/THBfilmecY7H4jMMPh51FhMRJz9hT55OFJ2U5WvKLSSlF6OOmwf8ADP3/AAUC/wCi4/C3/wAAIf8A5VV7z+whN8fbLRfE+kfHeLQ7y90m9SPR9c054QNZhZWLsY4lQKqkJtLRxsdxBX5cn32ivcoZaqVRVI1Jvycm0/kz8iznjypmWCng6uBwsOa1pU6EKc42d9JQtvs07qz2vZoooor0T4Q5r4u/CPw/8dfh1qnhXxRpsGqaNq8DQTwyoCV3AgOhI+V1zlWHKkAivzo8BfFb4h/8EUvibc+D/HEPijx78BpYC+h6nY2Cf8S6aSUMRuYhVYfvQ0LSAEsHXGSD96ftV/tSeF/2Qfg5qXjHxTcgW9mu21so3UXOpTnASGFSRuYk8/3VBY8A18TfD79nb4kf8Fd/ihYePvjNp2o+Cvg5pqLP4f8ACsVy0cmqBxkSE4V9rDBaYqpZSBGACWHzub2lWhHC/wAdbW2t15unL+N9j9x8MYypZXiavEPL/Y8vjU/ilVS936ur83ttbNxtFRb53ZIk+IX/AAVT+LH7X3h3VPDfwB+Dni9bPW7o6TZ+NrhXaC1BwJGYCLyYHCsCGec7AQSM4x9Nf8E+P2AfDn7DXwotrOOCw1LxrfQ/8TvXUhxLdMzbvJRm+YQp8oA43FAxGTx8n+AfGXjv/gib8WLbwn4rjh179n3xhrszabrCb5bnRC+MbsfdYLtZ49pD7HaM53A/pXpeqW2uaZb3tlcQ3dndxrNBPC4eOZGGVZWHBBBBBHXNGUx9tUdXFSbrR0s0ly37Jd/5uqL8S8SsswFPLeHKUaWWYh88akJSk67jparKTupU+tLSMZO9trWKKKK+iPwsKKKKAPz3/ZH8V2nxE/4LxfHvVtK8640+z8NHSZpjEyrHc2z6VbSoSe/m28wH94ISOK/Qivhv4of8EePEOo/Hfxp4z+HPx68ZfC6Lx1ftqmp2GmW8/wC9uGd5GLSRXcO9d8shVWU7PMYA81m/8OkPjX/0eT8Uv+/d/wD/ACyr5zByxuGU4Og5XlJ3Uopau/V3P3XiihwnntTDYmnnEaKp0KNLknRrykvZ01F8zjTcb3v8La8z72r8Rv2RP2q/Dvxw/wCCm3/CwPjjZ6NeaD4la8tNPuNcZW0rw9KgElsAZP3ZWJQIgW4UzrIcH5q+v5v+CKXir4iOll8Sv2l/id448Og7n05jNGWb1DXFzcIP+/Zr23wt/wAEpPgjoP7P9h8N77wq3iHQrC/k1QXGoXci38t1Iqo8pngMTKWSONSqbVIjXKnFZ4zD4/G1KcuRQUHe0mnzPS17Xt11O/hbO+DeFMHjKDxc8XUxcVS56NOVOVGDUuaUZVXByk3ye7ZL3bNtNngX/Baf9sL4Z+Lv2MpdI8L+I/hx471vWdXt7KMWep2ep3WjxFZJZLqNUZ2Q/uVi3jGPP65xX1r+xJ+zlJ+yV+y14R+H02ojVrnQLeX7RdKm1JJpp5LiQIOuxXlZVzyVUE4NcD4R/wCCQn7OngfxPYaxp/w2tRfabOtxbm51bULqIOpyC0Us7RuM9mUj2r6Tr0MHg66xM8XiuXmaUVy30W73S3dvuPiuKuKcolkGG4b4fdV0YVJ1ZutGCcptKMLKMp2UY83VXcr2urhRRRXrn5gfPPxP/wCCrHwB+Dfj7VPDHiH4gwWet6LO1te28WlX90LeVeGQvDA6blPBAbggg8isH/h9J+zR/wBFK/8ALe1X/wCRq9h8U/sj/Cnxz4hutW1v4Y/D3WNVvn8y5vb7w5Z3FxcP03PI8ZZjwOSaof8ADDnwU/6I/wDC3/wlLD/41XlTjmXM+SULekv/AJI/RsLW4BVGCxNHGOpZc3LVoqN7a2TpN2vtdt2PnH9qP/gsX8BvEv7Nfj7TPC3xAurvxLqnh6+sdKittF1GCU3Utu8cREkkCIm12VtxYYAOMnAry/8A4JU/8FD/ANn39lb9i/QPDfiPxamgeLJ7u9vtbt10fUbgvM9w6xOXjheMn7MluPlbgKM85o/4LGfs3+BbDxP8Cfht4O8C+B/Bl38TPFf2WfWNK0O3s7iFVe3tghaJFLRk328qTgmFPSvt7/hhz4Kf9Ef+Fv8A4Slh/wDGq8mnHMKuOnO8OamlHaVve173vt95+l47EcE5dwhhsM6WK9ljakq1lUpc69i5Ukm/Zcri25NRtdON77Fj9nD9r/4cftb6Zqd38PPE0HiKLRpI470LbT20lsZAxTdHMiPhtj4OMHa3PBr0qua+G/wZ8H/Bu0uYPCHhTw34VgvXElxHo+mQWKXDAYDOIlUMQCcE+tdLX01D2vIvbW5uttvxP5/zd4B4ubytTVHTlVRxc9lfmcVFPW9rJaWCvgv/AILvaxeeMfAXwm+FWmySxah8SPF8USbCcSrEFhCMOhHm3kLYPdAe1felfNf/AAUK/wCCe037ct54E1DT/Hd/4B1vwDd3F3Y39rYm5cNKYGDKVmiaORHt42V1bjnjOCOLOKNWtg50qKu3bTbS6vv5XPrfC/NsBlnE+FzDM6ns6VNyfM4ykoy5JcjcYpyaU+W9kc3/AMFbfBel/Dj/AIJP+NfD+iWcWn6Potro9lZW0edsEMep2SoozknAA5Jye9ezfsOf8mU/B/8A7EjRf/SCGvzN/wCCnX7HXxJ/Zb+AthL4h/aO+IHxLg8VavDpMfhy++1rBeEBpg7B72VWCPFHgFD8zIRjFe++Ef8Agjz8ZPD/AIT0ywtv2tviLo1vZWkVvFp9nFei3sURAohjC6iqhEACrhQMAYA6V41LFYn6/OUMO/dhFNc0dNW11sfqeY8OZCuDcNh8TnUOWria1WNR0a75/cpwkrcnNdNXcmrO+jbTP0Hor5u/Yk/4Jxad+xz4t1fxPN468ZeN/FPiG0+yaldapc4tp/nV/MEPzN5mVxueRyAWAxk5+ka+kw86s4c1WPK+17/ifgueYTAYXFyo5biPb01b3+Rwu+tott2T2bs3vZHyR/wVt+KXxH/Z++H3gT4ieB7/AFOPR/CXiKKbxPYWi5W+s3xjzuP9VlTGfedTwVBH0X8EPjZ4c/aJ+F2k+MPCd+upaHrMXmQSgbXQglXjdequrAqwPQg10esaPaeIdIurC/toLyxvYnguLeZA8c8bAqyMp4KkEgg9c1+b3wd8YTf8EcP2xtb8BeJ11CP4G/Ei9F54c1WRi9vpE5wCHbttBEcmTu2xxSYxmvNxFWeExPtpv91Oyf8AdfR+j2fmfe5HluG4lyB5XhaaWPwnNOFrXr0m7zh3lUp/FDVtw5opaI/SqivJ/iH+3b8GfhVaXMmufE/wRbPZjMttFq0Nzdr9IIi0p/BTXy347/4K9+Kf2ivEk3hH9mP4d6t4y1T7k2v6nbGGwsgeA+wlQo9GneMZGNjV04jNMNR0lK8uy1b+SPByPw74gzS9Sjh3CktZVKn7ulFd5TnaPyTb7Jn1X+0X+2j8L/2TVsf+FgeLrHw/LqWTbW5hmuriVRwX8qFHkCZ43FdueM5qf9nD9r/4cftb6Zqd38PPE0HiKLRpI470LbT20lsZAxTdHMiPhtj4OMHa3PBr55/ZN/4JP2em+Ir74hfHy5sfit8Stey9xHqMYvNM04HgIsci7ZGA4BKhEACoo27j9V/Df4M+D/g3aXMHhDwp4b8KwXriS4j0fTILFLhgMBnESqGIBOCfWowtTG1J+0qxjGD6a83ld3t8rHTxFguE8DhpYPL6tXEYqNr1U4xoN395Ri4+0aS0UnJcz1tY6Wvzu/bn1fUv+CjH7dGhfs56BeyW/gjwaV1rxreW55Z1AJi3cjKLIka+ksx3D93x92/F/wCKOl/BP4W+IPFutSiHS/DthLf3BJwWVFJ2j/aY4UDuWA718g/8EO/htfX3wd8Z/F7xBHu8RfFrxBcX7TsvL28cj8gnkAzvcH0IVfSscz/f1aeBW0tZf4V0+bsvvPV4AayjLsbxbJe/QUaVC+3t6t/eXRulTUppd3Fn21pWl2+h6XbWVpClvaWcSwQxIMLGigKqj2AAFWK+B/g38Wvib+3x/wAFEfEOp+GPGmpeEfhB8HdSSxe1sm3Q+JpUlYPHIuQHWUJIdxDeWnl7QGbdX3xXbg8XHERcoK0U7J97dV5XPk+KeGq2SVqWHxdWMq04RnOKvem5rmUZtq3NytN2btezCiiuY+M3xf0H4BfC7WvGPie7+w6HoFubm6lClmxkKqqo6szMqqO5YCuqUlGLlLRI+dw+Hq4irGhQi5Tk0klq227JJdW3ojp6K/JPwt+3X+2NZfBVfj9dz6Vq3wyg1Zo7nRJNLtrc/ZdyKJVIhExty8nlLIsrsGRiw2jJ/UX4MfFnSPjt8KPD/jDQpfO0nxFYx31uSfmQOMlG9GVsqw7MpHavOwGa0sW3GCcXZPVWun1XkfdcZ+HOY8NwjWxNWlVg5SpuVKTkoVI2cqc7xi4zSd7W1WzOnooor0z8/CiiigAooooAKKKKACiiigAoor50/bV/4JmeBf27vFGjar4u1vxrp0uh2rWkEOkX8MVuys5cs0csMo35ONy4JAAOdoxjiJ1YwvRjzPte342Z62SYbAYjFxpZnXdCk73moe0a0093mje7030Pouivgn/iHa+Cn/Q0fFL/AMGVh/8AIdfNf/BUL/gmJ4E/4J8/BHw7428C+JPHEniG48Swaeh1HULciGM29zMZI/JgicOrwx4bdgbjxkgjx8TmeNw9J1qtBcq39/8A+1P0/IfD/hTOcwpZXgM4m6tV2inhWlfzftnY/YqiiivePxo8o/bquNX0/wDY1+J19oGuah4b1fSfDd7qVtqFidtxC1vE05VW/h3iMpuHKhyQQQK47/glH8TNf+MH7APw+8QeJ9VvNb1u8jvo7i+u5PMnnEV/cwoXY8sQkaDJ5OMkk81zHhb9rS2/4KMf8E7/AIy6x4V8P6nYTf2Xrvhy2sZ3WWa7m/s7dGV2/wB8XEY29myMnGTwX/BID9sL4V+B/wBgPwb4e8QfEPwZ4d1vQ5tQhu7LV9Zt7GZDJfXE6ELK6llKSodw4zkdQa8JYynLHwqqfuSpu2tk/eXfr+J+yT4Xx9Hg7F5fUwzeKoYympJRUpxi6NS93G75W1Hry38z6D8c/tqaT4H/AG3/AAX8EJdHv59W8ZaNNrEeorIogtVRbllRl+8SwtJuR0+Trk49pr81vjj+0d8PNW/4Li/Bzxba+PPBlz4V0zwfcW15rMWt2z6faSmLWAI5Jw/lo5Msfylgf3if3hn7H8Vft3fCSw8L6lPpPxV+FF/qsNrLJZWsvjCwiS5mCExxs/m/KGbAJ7ZzW2DzGM3V9pNWjJpbbWX39TyuK+BMRhaeW/UMNU5q2HhOppJ/vHUqRd76R92MdNLb9T2Kivlr/gmT/wAFDb/9uvSfGNnrXh3T9C1/wNcW8F7Jp18LuxvROZwrRMC3ANu44d1YFWDEHj6lrvwuJp4ikq1J3i/+GPiuIuH8dkeY1MrzKPLVp2uk01qlJNNNppxaa9T56/4Ki/tPav8AslfsceIPFHh2VrfxJPPb6bpdwbUXEdtLLIN0jggqNsSylSwK79gIOcVyn/BIr9kO1/Z3/Zzt/Fl7fR654u+KUFt4i1LUiuZEinhSWO237m37TJIxcY3NIeoC1c/4LSf8o0PiV/3C/wD062depfsOf8mU/B//ALEjRf8A0ghrzeTnzX39eWCa8m20/m7H30cVLDeHNsL7rr4uUKr0vONOnTnCLdr8sZSb5b/FqdH8e/gnon7Rnwe1/wAFeIoPO0nxBatbSkAboW4ZJUz0dHCup9VFfGX/AASq+JnxD+CH7R/i39lvxrcaRrNp8N9HbVNN1O2MhlWJ5LV0hy3WMpeKwBAKEFckAY+/K+Cf2fv+VgX44/8AYkW3/onQ6MyjyYihXhpJy5X5xabs/mieA8TLFZHnGUYlKdGFB4iKa+GrCdOCnF9G4zal3Vr7H3tRRRXtH5SFFFFABRRRQAUUUUAFFFFABRRRQAUUUUAFFFFABRRRQAUUUUAFFFFABRRRQAUUUUAFFFFABRRRQAUUUUAFFFFABRRRQAUUUUAFFFFABRRRQAUUUUAFFFFABRRRQAUUUUAFFFFABRRRQAUUUUAFFFFABRRRQAUUUUAFFFFABRRRQAUUUUAFFFFABRRRQAUUUUAFFFFABRRRQAUUUUAFFFFABRRRQAUUUUAFfN/xN/Ys1vxv/wAFMPhz8brfVtLi0Lwf4euNIu7CQSfa5pWS9VGjwuwr/pmTlgR5fAO7j6QorCvh4VklPo0/mndHr5PneLyydWphHZ1Kc6Urq94VIuMl62ej6BRRRW55AUUUUAeOftW/sLeAv2ztV8H3PjmDU7uPwZdy3Vta2915MN4JRH5kU4wSyHyoz8pVvl+9gkH2C2to7O3SGGNIoolCIiLtVFHAAA4AAp9FZRo04zlUitZbvvbY9DEZtjMRhaOCrVZSpUebki37seZ80rLpd6vucj8cvgb4Y/aO+GWpeEfGGmR6roeqKBLEzFXjZTlZEcco6nkMD+hIr4D8R+DfjF/wRc1BdZ8O6ne/E79n9rsC+0u75vdAR2+8COI+vEiYjZj86IWU1+lVV9W0m117S7mxvraC8sryJoLi3njEkU8bAhkZTwVIJBB4INcmNy+Nd+1g+WotpL8n3Xkz6fhTjevlMJYDFQWIwVR3qUZ/C+nNB706iW042e17pWPPf2bf2u/h9+1roN1f+A/EMGtDTkga+gEbxz2BmQsiyKwGD8rjjIyjDPBr0qvNf2d/2QPhx+ygNb/4V94Yt/Dn/CRyxzaj5dzPP9oaPfsH7132qvmPhVwo3HAr0qunDe29mvrFubra9vxPn8+/sv6/U/sX2n1fTl9ry8+yvzcvu/Fe1ulr6hRRRW55AUUUUAFFFFABRRRQAUUUUAFFFFAHwT/wVv8A+T1v2Nv+x3b/ANL9Ir72r4F/bNiPxU/4LWfs6eDNScnRtC0qXxNaovVbtDeT5+hbTrf8jX31XkZd72JxNRbcyX3RR+nccfuchyLBy+JUKk/K1TEVXH56O4UUUV65+YhRRRQB8Df8Ff4V1X9rv9kHTbgebYX3jVluIG+5MPtulLyP912H/AjX3zXwr/wVa/Z5+Nvxh/aH+Dfij4Y+DdN8T2XwyuDrMRn1K2ts3v2mCXy5VlmiLRkWsP3Dn5n5HFfa3gi91XUvBmkXGu2UGm63PZQyajaQTedFa3BRTLGj/wAaq5YBu4Ga8jBcyxuIbi0m42dnZ2ilo/U/T+LpUZcKZHGlWhKUIVlKMZxc4uVaU1zRT5o3i1q15GpXDftE/tG+Ev2V/hfd+L/Gmpf2bo9q6wgpE0stxK2dkUaKMs7YPsACSQASO5rH8cfD3QPidoR0vxLoej+IdMMizG01Oyju4C6nKtskBXIPQ4yK9OrzuD9n8XS+x+e5dLCRxVOWOUpUrrmUWlJx6qLaaT7XTPhHTv8AgpL+0b+1tZJ/wpP4FSaNpF6W+z+I/Ecxa2li3FRLGXEMO4YOVVpuQRg1Drf/AASO+L37WNmbr49/HO+v5AGmttH0WDdYWk5UhZNpEcQK5wQsIJGQHGc1+hFpaxWFrHBBHHDDCgjjjjUKsagYAAHAAHapK8r+x1VX+2VJVPLaP3K343P0f/iKM8vn/wAYvgqOCS2mo+1rW86tXma/7dUT8a/2cfg78If2J/2gb34dftP/AA9sP7SSf7ToPi+Sa8m0zUIWO1fMgD+U0R7OY/lO5ZAMZH6/eCfDGh+EfDNrZ+HNP0rTNHCB7aDTYI4bYKQCCixgLgjHSuQ/aj/Zi8L/ALW3wf1Twf4os45be+iYWt2I1a402fqk8THlWUgd8MMqcgkV8+/8Eun+MXwR1XXvgj8TPDmo3Wj+CLfzvD3i1VZrG8tTIFS2WU8PgEsgzuRVZGA2rXPgcN/Z9ZYflvCXwyS1T7Sa38n957XGGfLjXKp51LEShiqFva0Z1G6couy9rQjJ+6+b46ava6cex9j0UUV9CfiJ8Tf8F9vHt34O/YL+wWxIj8U+I7LS7kg4/dqk11/6HapXuXxN8Taf+wb+wlfXdv5K2/w68LJaWQ24Se4jhWGAH/rpMUBPcuTXJf8ABU79i7xB+3R+znp3hPwxqejaXqum69BrCPqjyJbyqkFxCyFo0dlOJ9w+U/dxxnI+Nv8AgoP8Hv2wvC37IXi6/wDin8VfAXiTwJB9j/tPTdNtIkubnN7AsOwjT4SNsxiY/vF4U9eh+Yx9athq9fEKnJ3guVq1la7d9e9mf0DwblOWZ/k+UZLLG0qTjipyq0puSnU53SjHkShJOTjGUVdxV2lfe301/wAEVfhKPgT+wBp2s6vLHZyeL7u48TXUtw4RYIGCxxMznACmGBZMk4HmGvpX4MfHnwf+0P4Xn1rwT4gsPEelWt3JYS3NoxKJOgUshyB2ZSD0IYEEgg1+cf7OX/BJzx7+2R4O+HniD42fEJL34fWng2wTwtp3h+4EV7ZWzRRPbxSq9qIl2xNh3HmSMVUFyADX6M/Af4CeFP2afhpY+EvBmkxaRotjlljVi7zSN96WRzlndu7E9gBgAAdWSyxHsoQ9ny04rq/efnZaJb9WeB4rUMl/tHFYz668RjatVyapxtRpxvL3XOXvTklypWjFKzvfQ7Gvin/gvN8Udb+F/wCxZph0W8FqNc8U2um36NCk0d3bG2u5jE6uCpUvDGSCOQuDwSK+1q+Cf+DiUZ/Yo8Mf9jtaf+kF/W+eyccBVcex43g/Qp1uNMup1oqUXUWjV1pd/mfTf7amjWek/sKfFextbS2trKz8C6vHb28USpFAqWE2xVUDChcDAA4wMV5t/wAEW/8AlGh8Nf8AuKf+nW8ryX9u3/gr78FvHH7IHxA0HwL4zXXPE/iHSZNJtbJtGv7cSpckQTHfLAqArDJKwywztwOSK+iv+CZ3wx/4VD+wV8LdGJlMj6HHqciyKVeOS8Zrx0IPIKtOVx/s1hRr0q+ZKVCSklTadmmtZKy09D2s0yfMsp4BlQzehOjUq4yMoxqRlGTUKM1KVpJO15xV+rv2Z7pRRRXun44FFFFABRRRQAUUUUAFFFFABRRRQB8uf8FEf+CoegfsCPpmlz+HNW8S+JdbtTeWdujC1sliDlCZLghvmyPuIjHpnaCpP5kaB8SfFn7X/wAftZ+J3j/4HePfjOLzym0/S9DkvbXS9OiXgR5igmZogNuFDLkl2YsWr92qK8HMMorYuqpTrWgtVHlT++97/NH7LwV4nZVw1l8qWFyvmxM1yzrOvOMmr3tFQjF01or8s7u2rex+f9v8dP29fjPp0a6T8LvAngDT9W+e31G+dBd6eh6eZFNcu4b1DW2f9kVF4i/Yy/be+L+n/wDCP+MPj54NsvDWoOI9Qm0WDybxYjkNs8mxt2fIJBQzIrdCa/QWitv7HUl+9qzl/wBvWX3Kx5i8UqlCXNl2WYSjbZqgpyT6PmqubuvKyvrY8s/Y6/ZK8N/sWfBGz8F+GjPcRLK15f3s/wDrdRu3VVeZgOFyERQo6KijJIJPC+PP+CSn7PHxJ8V3mtap8NbD+0L+Qyzmz1G9sYnY8kiKCZI1JPJwoya+jaK7ngcNKnGlKmnGOyaTt958hT4wz2ljauZUMZVhWqu85wnKEpXd9XFr7tl0Pyi+MP8AwT5+EPhb/gsJ8KvhZYeEfI8B+JPC0+palpn9qXrfabhYtVYP5xmMq820PCuB8nTk5+uf+HLf7NH/AETX/wAuHVf/AJJry39oH/lYF+B3/YkXP/onXK+9q8bLcuwkp11KlF2m0vdWitHTY/VePuOuJcPh8olh8wrwc8JCUrVai5pOrWTlK0tZWSV3rZJdDzH9m39jf4bfsh2mrw/DvwzH4dTXXie/IvLm6e4MQcR5aeR2AXe+ACB8x45r06iivoKdKFOKhTSSXRaI/E8wzHF4/ESxeOqyq1JbynJyk7Kyu223ZJLXorHzD/wWX0+fU/8Agmt8S47eGWeRY9PlKxoWIRNStHdsDsqqzE9gCe1eb/sl/wDBXb9n34e/stfDjw/rnjuTTNa0Dwzp2l31q+h6jKYZ4LaOJxujgZGG5DgqxyMV9w3tlDqdlLb3EUVxb3CNHLFIgZJEIwVYHggg4INeZf8ADDnwU/6I/wDC3/wlLD/41XmYnCYn619Zw0oq8eVqSb2bfRruff5BxNkH+r/9g59RrSjGtKtGVGcIu8oRg4yU4SVvcTVu/lr5Y/8AwWm/ZoVSf+FkFsDOB4e1Tn/yWryX/gk5oeu/tNftPfFT9p/WEOmWPi8yeHNGsPKA822ja2xITnny0tYI8jhn808YxX1b/wAMOfBT/oj/AMLf/CUsP/jVegeEfB2keAPDlro+g6Xp2iaTYqUtrGwtktra3UksQkaAKoySeB1JqY4PFVa0KmLlFxhqlFNa7Ju7e2pviOKeHMvyvFYPhuhWjVxKUJzrTpytTT5pRgoQjZzko3bvotLM0qKKK9g/LQooooAKKKKACiiigAooooAKKKKACiiigAooooAKKKKACiiigAooooAKKKKACiiigAooooAKKKKACiiigAooooAKKKKACiiigAooooAKKKKACiiigAooooAKKKKACiiigAooooAKKKKACiiigAooooAKKKKACiiigAooooAKKKKACiiigAooooAKKKKACiiigAooooAKKKKACiiigAooooAKKKKACiiigAooooAKKKKACiiigAooooAKKKKACiiigAooooAKKKKACiiigAooooAKKKKACiiigDi9d/Z58GeJfjdonxHvtBtrjxt4cspdP07VTJIJLaCQOGQKG2HiSQAspI8x8EbjntKKKmMIxu4q19WdFfF166hGtNyUFyxu2+WN2+VX2V23ZaXbfUKKKKo5wooooAKKKKACiiigAooooAKKKKACiiigArxz9uz9lO5/bR/Z5vvAMHiufwhFqN3b3FzdR2K3q3EcT+YIXjLodpcI2Q4IMa9RkH2Ois61GFWm6VRXT0Z35VmmJy3GUswwcuWrSkpRdk7STunaSadnrqmc18GfhvF8G/g/4U8IQXMl7B4V0ez0eO4kQK9wtvAkIcgcAkJkj3rpaKKqMVGKjHZHNiK9SvVlXqu8pNtvu3qwrF8efDnw98U/DzaT4n0HRvEelO6yNZapZR3luzryrGORWXI7HHFbVFNpNWexNKrUpTVSk3GS1TWjT8meYWv7E3wZsbmOaH4R/DGGaFg8cieFrFWRgcggiLIIPevTgMCloqYUoQ+BJeh0YvMcXi7PFVZTttzSbt6XYUUUVZxhRRRQAUUUUAFFFFABRRRQAUUUUAFFFFABRRRQAUUUUAfA/wATUuviB/wcBfDyTS9O1Ge38DeDpItZuPs7CG1EttqTI+/oUJu4UB/vkr1U198UgUBs4GSME46/5zS1yYTC+xdR3vzycvvsrfgfT8S8Sf2tDB01T5FhqEKK1vzcspSctla7m9OisrvcKKKK6z5gKKKKACiiigAooooAKKKKACiiigAooooAKKKKACiiigAooooAKKKKACiiigAooooAKKKKACiiigAooooAKKKKACiiigAooooAKKKKACiiigAooooAKKKKACiiigAooooAKKKKACiiigAooooAKKKKACiiigAooooAKKKKACiiigAooooAKKKKACiiigAooooAKKKKACiiigAooooAKKKKACiiigAooooAKKKKACiiigAooooAKKKKACiiigAooooAKKKKACiiigAooooAKKKKACiiigAooooAKKKKACiiigAooooAKKKKACiiigAooooAKKKKACiiigAooooAKKKKACiiigAooooAKKKKACiiigAooooAKKKKACiiigAooooAKKKKACiiigAooooAKKKKACiiigAooooAKKKKACiiigAooooAKKKKACiiigAooooAKKKKACiiigAooooAKKKKACiiigAooooAKKKKACiiigAooooAKKKKACiiigAooooAKKKKACiiigAooooAKKKKACiiigAooooAKKKKACiiigAooooAKKKKACiiigAooooAKKKKACiiigAooooAKKKKACiiigAooooAKKKKACiiigAooooAKKKKACiiigAooooAKKKKACiiigAooooAKKKKACiiigAooooAKKKKACiiigAooooAKKKKACiiigAooooAKKKKACiiigAooooAKKKKACiiigAooooAKKKKACiiigAooooAKKKKACiiigAooooAKKKKACiiigAooooAKKKKACiiigAooooAKKKKACiiigAooooAKKKKACiiigAooooAKKKKACiiigAooooAKKKKACiiigAooooAKKKKACiiigAooooAKKKKACiiigAooooAKKKKACiiigAooooAKKKKACiiigAooooAKKKKACiiigAooooAKKKKACiiigAooooAKKKKACiiigAooooAKKKKACiiigAooooAKKKKACiiigAooooAKKKKACiiigAooooAKKKKACiiigAooooAKKKKACiiigAooooAKKKKACiiigAooooAKKKKACiiigAooooAKKKKACiiigAooooAKKKKACiiigAooooAKKKKACiiigAooooAKKKKACiiigAooooAKKKKACiiigAooooAKKKKACiiigAooooAKKKKACiiigAooooAKKKKACiiigAooooAKKKKACiiigAooooAKKKKACiiigAooooAKKKKACiiigAooooAKKKKACiiigAooooAKKKKACiiigAooooAKKKKACiiigAooooAKKKKACiiigAooooAKKKKACiiigAooooAKKKKACiiigAooooAKKKKACiiigAooooAKKKKACiiigAooooAKKKKACiiigAooooAKKKKACiiigAooooAKKKKACiiigAooooAKKKKACiiigAooooAKKKKACiiigAooooAKKKKACiiigAooooAKKKKACiiigAooooAKKKKACiiigAooooAKKKKACiiigAooooAKKKKACiiigAooooAKKKKACiiigAooooAKKKKACiiigAooooAKKKKACiiigAooooAKKKKACiiigAooooAKKKKACiiigAooooAKKKKACiiigAooooAKKKKACiiigAooooAKKKKACiiigAooooAKKKKACiiigAooooAKKKKACiiigAooooAKKKKACiiigAooooAKKKKACiiigAooooAKKKKACiiigAooooAKKKKACiiigAooooAKKKKACiiigAooooAKKKKACiiigAooooAKKKKACiiigAooooAKKKKACiiigAooooAKKKKACiiigAooooAKKKKACiiigAooooAKKKKACiiigAooooAKKKKACiiigAooooAKKKKACiiigAooooAKKKKACiiigAooooAKKKKACiiigAooooAKKKKACiiigAooooAKKKKACiiigAooooAKKKKACiiigAooooAKKKKACiiigAooooAKKKKACiiigAooooAKKKKACiiigAooooAKKKKACiiigAooooAKKKKACiiigAooooAKKKKACiiigAooooAKKKKACiiigAooooAKKKKACiiigAooooAKKKKACiiigAooooAKKKKACiiigAooooAKKKKACiiigAooooAKKKKACiiigAooooAKKKKACiiigAooooAKKKKACiiigAooooAKKKKACiiigAooooAKKKKACiiigAooooAKKKKACiiigAooooAKKKKACiiigAooooAKKKKACiiigAooooAKKKKACiiigAooooAKKKKACiiigAooooAKKKKACiiigAooooAKKKKACiiigAooooAKKKKACiiigAooooAKKKKACiiigAooooAKKKKACiiigAooooAKKKKACiiigAooooAKKKKACiiigAooooAKKKKACiiigAooooAKKKKACiiigAooooAKKKKACiiigAooooAKKKKACiiigAooooAKKKKACiiigAooooAKKKKACiiigAooooAKKKKACiiigAooooAKKKKACiiigAooooAKKKKACiiigAooooAKKKKACiiigAooooAKKKKACiiigAooooAKKKKACiiigAooooAKKKKACiiigAooooAKKKKACiiigAooooAKKKKACiiigAooooAKKKKACiiigAooooAKKKKACiiigAooooAKKKKACiiigAooooAKKKKACiiigAooooAKKKKACiiigAooooAKKKKACiiigAooooAKKKKACiiigAooooAKKKKACiiigAooooAKKKKACiiigAooooAKKKKACiiigAooooAKKKKACiiigAooooAKKKKACiiigAooooAKKKKACiiigAooooAKKKKACiiigAooooAKKKKACiiigAooooAKKKKACiiigAooooAKKKKACiiigAooooAKKKKACiiigAooooAKKKKACiiigAooooAKKKKACiiigAooooAKKKKACiiigAooooAKKKKACiiigAooooAKKKKACiiigAooooAKKKKACiiigAooooAKKKKACiiigAooooAKKKKACiiigAooooAKKKKACiiigAooooAKKKKACiiigAooooAKKKKACiiigAooooAKKKKACiiigAooooAKKKKACiiigAooooAKKKKACiiigAooooAKKKKACiiigAooooAKKKKACiiigAooooAKKKKACiiigAooooAKKKKACiiigAooooAKKKKACiiigAooooAKKKKACiiigAooooAKKKKACiiigAooooAKKKKACiiigAooooAKKKKACiiigAooooAKKKKACiiigAooooAKKKKACiiigAooooAKKKKACiiigAooooAKKKKACiiigAooooAKKKKACiiigAooooAKKKKACiiigAooooAKKKKACiiigAooooAKKKKACiiigAooooAKKKKACiiigAooooAKKKKACiiigAooooAKKKKACiiigAooooAKKKKACiiigAooooAKKKKACiiigAooooAKKKKACiiigAooooAKKKKACiiigAooooAKKKKACiiigAooooAKKKKACiiigAooooAKKKKACiiigAooooAKKKKACiiigAooooAKKKKACiiigAooooAKKKKACiiigAooooAKKKKACiiigAooooAKKKKACiiigAooooAKKKKACiiigAooooAKKKKACiiigAooooAKKKKACiiigAooooAKKKKACiiigAooooAKKKKACiiigAooooAKKKKACiiigAooooAKKKKACiiigAooooAKKKKACiiigAooooAKKKKACiiigAooooAKKKKACiiigAooooAKKKKACiiigAooooAKKKKACiiigAooooAKKKKACiiigAooooAKKKKACiiigAooooAKKKKACiiigAooooAKKKKACiiigAooooAKKKKACiiigAooooAKKKKACiiigAooooAKKKKACiiigAooooAKKKKACiiigAooooAKKKKACiiigAooooA/9k=)"
   ],
   "metadata": {
    "collapsed": false
   },
   "execution_count": null,
   "outputs": []
  },
  {
   "cell_type": "markdown",
   "source": [
    "## 字符串"
   ],
   "metadata": {
    "collapsed": false
   }
  },
  {
   "cell_type": "code",
   "execution_count": 1,
   "outputs": [],
   "source": [
    "# 定义TF字符串常量 如果需要进行自然语言分析可能会用到字符串常量\n",
    "import tensorflow as tf\n",
    "tf_string = tf.constant(\"TensorFlow\")\n",
    "tf_string"
   ],
   "metadata": {
    "collapsed": false,
    "pycharm": {
     "name": "#%%\n"
    }
   }
  },
  {
   "cell_type": "code",
   "source": [
    "## 简单字符串运算"
   ],
   "metadata": {
    "collapsed": false
   },
   "execution_count": 2,
   "outputs": [
    {
     "ename": "NameError",
     "evalue": "name 'tf' is not defined",
     "output_type": "error",
     "traceback": [
      "\u001B[1;31m---------------------------------------------------------------------------\u001B[0m",
      "\u001B[1;31mNameError\u001B[0m                                 Traceback (most recent call last)",
      "Input \u001B[1;32mIn [2]\u001B[0m, in \u001B[0;36m<module>\u001B[1;34m\u001B[0m\n\u001B[0;32m      1\u001B[0m \u001B[38;5;66;03m# 定义Tensorflow常量\u001B[39;00m\n\u001B[1;32m----> 2\u001B[0m tensor \u001B[38;5;241m=\u001B[39m \u001B[43mtf\u001B[49m\u001B[38;5;241m.\u001B[39mconstant([[\u001B[38;5;241m23\u001B[39m,\u001B[38;5;241m4\u001B[39m],[\u001B[38;5;241m32\u001B[39m,\u001B[38;5;241m51\u001B[39m]])\n",
      "\u001B[1;31mNameError\u001B[0m: name 'tf' is not defined"
     ]
    }
   ]
  },
  {
   "cell_type": "code",
   "execution_count": null,
   "outputs": [],
   "source": [
    "# 计算tf string的长度\n",
    "tf.strings.length(tf_string)"
   ],
   "metadata": {
    "collapsed": false,
    "pycharm": {
     "name": "#%%\n"
    }
   }
  },
  {
   "cell_type": "markdown",
   "source": [
    "# 对字符串进行unicode解码\n",
    "tf.strings.unicode_decode(tf_string, \"UTF8\")"
   ],
   "metadata": {
    "collapsed": false,
    "pycharm": {
     "name": "#%%\n"
    }
   }
  },
  {
   "cell_type": "markdown",
   "source": [
    "## 存储字符串数组"
   ],
   "metadata": {
    "collapsed": false
   }
  },
  {
   "cell_type": "code",
   "execution_count": null,
   "outputs": [],
   "source": [
    "# 如果你需要用Tensorflow做深度NLP，或简单的NLP，你可能会将字符串置入数组中\n",
    "tf_string_array = tf.constant([\"TensorFlow\", \"Deep Learning\", \"AI\"])\n",
    "print(tf_string_array)\n",
    "\n",
    "# 迭代TF字符串数组\n",
    "for string in tf_string_array:\n",
    "  print(string)"
   ],
   "metadata": {
    "collapsed": false,
    "pycharm": {
     "name": "#%%\n"
    }
   }
  }
 ],
 "metadata": {
  "kernelspec": {
   "display_name": "Python 3",
   "language": "python",
   "name": "python3"
  },
  "language_info": {
   "codemirror_mode": {
    "name": "ipython",
    "version": 2
   },
   "file_extension": ".py",
   "mimetype": "text/x-python",
   "name": "python",
   "nbconvert_exporter": "python",
   "pygments_lexer": "ipython2",
   "version": "2.7.6"
  }
 },
 "nbformat": 4,
 "nbformat_minor": 0
}