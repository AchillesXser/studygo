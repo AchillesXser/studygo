{
 "cells": [
  {
   "cell_type": "markdown",
   "source": [
    "## 全链接"
   ],
   "metadata": {
    "collapsed": false
   }
  },
  {
   "cell_type": "markdown",
   "source": [
    "全链接就是将ANN(一整个神经网络)链接到之前的流程(卷积、ReLu、池化、压平)之后"
   ],
   "metadata": {
    "collapsed": false
   }
  },
  {
   "cell_type": "markdown",
   "source": [
    "![](https://pica.zhimg.com/80/v2-b6e66ec026ed8158be75473baa75a49c_720w.png)"
   ],
   "metadata": {
    "collapsed": false
   }
  },
  {
   "cell_type": "markdown",
   "source": [
    "同时, 这里的全链接层, 习惯上也会称为特殊的“隐藏层”。全链接层的目的是为特征向量加入更多的属性，以得到更好的结果。\n",
    "实际上输入向量本身就包含了特征，已经能够相当准确地预测分类"
   ],
   "metadata": {
    "collapsed": false
   }
  },
  {
   "cell_type": "markdown",
   "source": [
    "## 以猫狗分类神经网络来说明全链接层"
   ],
   "metadata": {
    "collapsed": false
   }
  },
  {
   "cell_type": "markdown",
   "source": [
    "![](https://pic2.zhimg.com/80/v2-37b74866f40f18c8a38b0ecf422dae7a_720w.png)"
   ],
   "metadata": {
    "collapsed": false
   }
  },
  {
   "cell_type": "markdown",
   "source": [
    "上图是一个未经过训练的人工神经网络，用来识别图片中的猫狗"
   ],
   "metadata": {
    "collapsed": false
   }
  },
  {
   "cell_type": "markdown",
   "source": [
    "## 训练"
   ],
   "metadata": {
    "collapsed": false
   }
  },
  {
   "cell_type": "markdown",
   "source": [
    "![](https://pic2.zhimg.com/80/v2-5d287df35fe8ccb5bf3eb1de5c632a79_720w.png)"
   ],
   "metadata": {
    "collapsed": false
   }
  },
  {
   "cell_type": "markdown",
   "source": [
    "从人工神经网络我们知道, 输入向前传播，经过两个隐藏层(全链接层), 然后得到预测值，然后预测值跟真实值使用损失函数进行比对(这里使用交叉熵)，然后损失值反向传播到神经网络，在卷积神经网络里，它会修正两个内容:\n",
    "1、一个是特征的权重\n",
    "2、一个是特征探测器\n",
    "\n",
    "也就是训练的内容不仅仅是权重，还包含了特征探测器的淘汰机制，在训练中，不重要的特征会被淘汰。\n",
    "这个过程循环往复, 神经网络不断得到训练。"
   ],
   "metadata": {
    "collapsed": false
   }
  },
  {
   "cell_type": "markdown",
   "source": [
    "## 训练的过程"
   ],
   "metadata": {
    "collapsed": false
   }
  },
  {
   "cell_type": "markdown",
   "source": [
    "训练集： 我们输入的训练图片经过标注, 告诉神经网络, 这是狗的特征、这是猫的特征"
   ],
   "metadata": {
    "collapsed": false
   }
  },
  {
   "cell_type": "markdown",
   "source": [
    "![](https://pic3.zhimg.com/80/v2-102b60ec6607879c1975305949e5a5ec_720w.png)"
   ],
   "metadata": {
    "collapsed": false
   }
  },
  {
   "cell_type": "markdown",
   "source": [
    "然后我们先输入狗的图片, 然后通过卷积、整流函数打破线性、池化、压平，然后输入到神经网络，然后标注这些特征激活了狗神经元。\n",
    "然后我们输入猫的图片，然后通过卷积、整流、池化、压平，然后输入到神经网络，然后得到三角耳、猫胡须、猫尾巴，这些特性激活了猫神经元。"
   ],
   "metadata": {
    "collapsed": false
   }
  },
  {
   "cell_type": "markdown",
   "source": [
    "![](https://pica.zhimg.com/80/v2-b95ef32c77f31509a026b2a7e2251ce9_720w.png)"
   ],
   "metadata": {
    "collapsed": false
   }
  },
  {
   "cell_type": "markdown",
   "source": [
    "然后经过不断的迭代训练，通过反向传播，这些特征的权重不断被优化、期间一些不重要的特征探测器也会被放弃。\n",
    "最后通过梯度算法，使损失函数最小，然后得到最优权重。"
   ],
   "metadata": {
    "collapsed": false
   }
  },
  {
   "cell_type": "markdown",
   "source": [
    "## 使用这个已经被训练好的卷积神经网络"
   ],
   "metadata": {
    "collapsed": false
   }
  },
  {
   "cell_type": "markdown",
   "source": [
    "我们输入一张狗的图片"
   ],
   "metadata": {
    "collapsed": false
   }
  },
  {
   "cell_type": "markdown",
   "source": [
    "![](https://pica.zhimg.com/80/v2-bc68723d99f06d637bbadd9fc1662922_720w.png)"
   ],
   "metadata": {
    "collapsed": false
   }
  },
  {
   "cell_type": "markdown",
   "source": [
    "通过与训练好的特征的匹配度得分，狗神经元得分 0.95   猫神经元得分 0.05, 神经网络第一猜测这张图片是狗的概率 95%; 是猫的概率 5%"
   ],
   "metadata": {
    "collapsed": false
   }
  },
  {
   "cell_type": "markdown",
   "source": [
    "然后输入一张猫的图片"
   ],
   "metadata": {
    "collapsed": false
   }
  },
  {
   "cell_type": "markdown",
   "source": [
    "![](https://pica.zhimg.com/80/v2-d77959e3aab0c8cf11e2c20ac02abf42_720w.png)"
   ],
   "metadata": {
    "collapsed": false
   }
  },
  {
   "cell_type": "markdown",
   "source": [
    "狗神经元得分 0.21   猫神经元得分  0.79,   神经网络猜测  是猫的概率79%, 是狗的概率 21%"
   ],
   "metadata": {
    "collapsed": false
   }
  },
  {
   "cell_type": "markdown",
   "source": [
    "## 总结"
   ],
   "metadata": {
    "collapsed": false
   }
  },
  {
   "cell_type": "markdown",
   "source": [
    "![](https://pic2.zhimg.com/80/v2-eebb38b7aa6b8c1a9f180905523fd680_720w.png)"
   ],
   "metadata": {
    "collapsed": false
   }
  },
  {
   "cell_type": "markdown",
   "source": [
    "## 额外阅读"
   ],
   "metadata": {
    "collapsed": false
   }
  },
  {
   "cell_type": "markdown",
   "source": [
    "The 9 Deep Learning Papers You Need To Know About(Understanding CNNs Part3)\n",
    "你需要知道的9篇深度学习论文(深入理解卷积神经网络 - P3)\n",
    "\n",
    "Link: [链接](https://adeshpande3.github.io/adeshpande3.github.io/The-9-Deep-Learning-Papers-You-Need-To-Know-About.html)\n",
    "\n",
    "![](https://pica.zhimg.com/80/v2-09fc5845860eed2f8a7d2824aee7814b_720w.png)"
   ],
   "metadata": {
    "collapsed": false
   }
  },
  {
   "cell_type": "markdown",
   "source": [
    "Region Proposal Network: 网络和区域候选网络\n",
    "RoI: 关注区域池化"
   ],
   "metadata": {
    "collapsed": false
   }
  }
 ],
 "metadata": {
  "kernelspec": {
   "display_name": "Python 3",
   "language": "python",
   "name": "python3"
  },
  "language_info": {
   "codemirror_mode": {
    "name": "ipython",
    "version": 2
   },
   "file_extension": ".py",
   "mimetype": "text/x-python",
   "name": "python",
   "nbconvert_exporter": "python",
   "pygments_lexer": "ipython2",
   "version": "2.7.6"
  }
 },
 "nbformat": 4,
 "nbformat_minor": 0
}