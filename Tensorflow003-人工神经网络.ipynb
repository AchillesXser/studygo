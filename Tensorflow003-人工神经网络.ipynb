{
 "cells": [
  {
   "cell_type": "markdown",
   "source": [
    "<a href=\"https://colab.research.google.com/github/AchillesXser/studygo/blob/master/tensorflow%E7%AC%94%E8%AE%B0.ipynb\" target=\"_parent\"><img src=\"https://colab.research.google.com/assets/colab-badge.svg\" alt=\"Open In Colab\"/></a>"
   ],
   "metadata": {
    "collapsed": false
   }
  },
  {
   "cell_type": "markdown",
   "source": [
    "# TensorFlow 1.14 回顾\n"
   ],
   "metadata": {
    "collapsed": false
   }
  },
  {
   "cell_type": "code",
   "execution_count": null,
   "outputs": [],
   "source": [
    "!pip install tensorflow-gpu==2.1.1"
   ],
   "metadata": {
    "collapsed": false,
    "pycharm": {
     "name": "#%%\n"
    }
   }
  },
  {
   "cell_type": "code",
   "execution_count": null,
   "outputs": [],
   "source": [
    "import tensorflow as tf"
   ],
   "metadata": {
    "collapsed": false,
    "pycharm": {
     "name": "#%%\n"
    }
   }
  },
  {
   "cell_type": "code",
   "execution_count": null,
   "outputs": [],
   "source": [
    "tf.__version__"
   ],
   "metadata": {
    "collapsed": false,
    "pycharm": {
     "name": "#%%\n"
    }
   }
  },
  {
   "cell_type": "markdown",
   "source": [
    "## 常量"
   ],
   "metadata": {
    "collapsed": false
   }
  },
  {
   "cell_type": "markdown",
   "source": [
    "### 定义常量"
   ],
   "metadata": {
    "collapsed": false
   }
  },
  {
   "cell_type": "code",
   "execution_count": null,
   "outputs": [],
   "source": [
    "# 定义Tensorflow常量\n",
    "tensor = tf.constant([[23,4],[32,51]])"
   ],
   "metadata": {
    "collapsed": false,
    "pycharm": {
     "name": "#%%\n"
    }
   }
  },
  {
   "cell_type": "code",
   "execution_count": null,
   "outputs": [],
   "source": [
    "tensor"
   ],
   "metadata": {
    "collapsed": false,
    "pycharm": {
     "name": "#%%\n"
    }
   }
  },
  {
   "cell_type": "code",
   "execution_count": null,
   "outputs": [],
   "source": [
    "# tf1.14中，如果session没有初始化，不能获取常量值\n",
    "tensor.eval()"
   ],
   "metadata": {
    "collapsed": false,
    "pycharm": {
     "name": "#%%\n"
    }
   }
  },
  {
   "cell_type": "markdown",
   "source": [
    "### 1.14 获取常量值的方法"
   ],
   "metadata": {
    "collapsed": false
   }
  },
  {
   "cell_type": "code",
   "execution_count": null,
   "outputs": [],
   "source": [
    "# 开启一个会话 tf1.14才有手动开启Session\n",
    "session = tf.Session()\n",
    "session.run(tf.global_variables_initializer())\n",
    "tensor_value = session.run(tensor)\n",
    "tensor_value"
   ],
   "metadata": {
    "collapsed": false,
    "pycharm": {
     "name": "#%%\n"
    }
   }
  },
  {
   "cell_type": "markdown",
   "source": [
    "## 变量"
   ],
   "metadata": {
    "collapsed": false
   }
  },
  {
   "cell_type": "code",
   "execution_count": null,
   "outputs": [],
   "source": [
    "# 定义一个变量\n",
    "variable = tf.Variable([[30,20],[10,45]])"
   ],
   "metadata": {
    "collapsed": false,
    "pycharm": {
     "name": "#%%\n"
    }
   }
  },
  {
   "cell_type": "code",
   "execution_count": null,
   "outputs": [],
   "source": [
    "variable"
   ],
   "metadata": {
    "collapsed": false,
    "pycharm": {
     "name": "#%%\n"
    }
   }
  },
  {
   "cell_type": "markdown",
   "source": [
    "如果是tensorflow 1.14, 那么上面直接variable是获取不到上面的值"
   ],
   "metadata": {
    "collapsed": false
   }
  },
  {
   "cell_type": "code",
   "execution_count": null,
   "outputs": [],
   "source": [
    "# tensorflow 1.14 需要使用eval()获取值\n",
    "variable.eval()"
   ],
   "metadata": {
    "collapsed": false,
    "pycharm": {
     "name": "#%%\n"
    }
   }
  },
  {
   "cell_type": "markdown",
   "source": [
    "## tf1.14获取变量值的方法"
   ],
   "metadata": {
    "collapsed": false
   }
  },
  {
   "cell_type": "code",
   "execution_count": null,
   "outputs": [],
   "source": [
    "# 初始化session会话\n",
    "session = tf.Session()\n",
    "\n",
    "# 从session中初始化全局变量\n",
    "session.run(tf.global_variables_initializer)\n",
    "\n",
    "variable.eval(session)"
   ],
   "metadata": {
    "collapsed": false,
    "pycharm": {
     "name": "#%%\n"
    }
   }
  },
  {
   "cell_type": "markdown",
   "source": [
    "# Tensorflow 2.1.1"
   ],
   "metadata": {
    "collapsed": false
   }
  },
  {
   "cell_type": "code",
   "execution_count": null,
   "outputs": [],
   "source": [
    "# 导入tensorflow2.1.1\n",
    "import tensorflow as tf\n",
    "\n",
    "# 导入numpy\n",
    "import numpy as np\n",
    "\n",
    "tf.__version__"
   ],
   "metadata": {
    "collapsed": false,
    "pycharm": {
     "name": "#%%\n"
    }
   }
  },
  {
   "cell_type": "markdown",
   "source": [
    "## 2.1.1常量"
   ],
   "metadata": {
    "collapsed": false
   }
  },
  {
   "cell_type": "code",
   "execution_count": null,
   "outputs": [],
   "source": [
    "# 定义常量\n",
    "tensor_211 = tf.constant([[23,4],[32,51]])\n",
    "\n",
    "tensor_211"
   ],
   "metadata": {
    "collapsed": false,
    "pycharm": {
     "name": "#%%\n"
    }
   }
  },
  {
   "cell_type": "code",
   "execution_count": null,
   "outputs": [],
   "source": [
    "# 获取tensor211常量的形状\n",
    "tensor_211.shape"
   ],
   "metadata": {
    "collapsed": false,
    "pycharm": {
     "name": "#%%\n"
    }
   }
  },
  {
   "cell_type": "code",
   "execution_count": null,
   "outputs": [],
   "source": [
    "# 使用numpy而非session即可获取到tensor211的值\n",
    "tensor_211.numpy()"
   ],
   "metadata": {
    "collapsed": false,
    "pycharm": {
     "name": "#%%\n"
    }
   }
  },
  {
   "cell_type": "code",
   "execution_count": null,
   "outputs": [],
   "source": [
    "# 可以将一个numpy array转换成一个tensor 张量\n",
    "# 先定义一个numpy array\n",
    "numpy_tensor = np.array([[23,4],[32,51]])"
   ],
   "metadata": {
    "collapsed": false,
    "pycharm": {
     "name": "#%%\n"
    }
   }
  },
  {
   "cell_type": "code",
   "execution_count": null,
   "outputs": [],
   "source": [
    "# 将numpy array传入constant中作为参数\n",
    "tensor_from_numpy = tf.constant(numpy_tensor)"
   ],
   "metadata": {
    "collapsed": false,
    "pycharm": {
     "name": "#%%\n"
    }
   }
  },
  {
   "cell_type": "code",
   "execution_count": null,
   "outputs": [],
   "source": [
    "tensor_from_numpy"
   ],
   "metadata": {
    "collapsed": false,
    "pycharm": {
     "name": "#%%\n"
    }
   }
  },
  {
   "cell_type": "markdown",
   "source": [
    "## 2.1.1变量"
   ],
   "metadata": {
    "collapsed": false
   }
  },
  {
   "cell_type": "code",
   "execution_count": null,
   "outputs": [],
   "source": [
    "# 定义变量\n",
    "tf2_variable = tf.Variable([[1., 2., 3.], [4., 5., 6.,]])\n",
    "tf2_variable"
   ],
   "metadata": {
    "collapsed": false,
    "pycharm": {
     "name": "#%%\n"
    }
   }
  },
  {
   "cell_type": "code",
   "execution_count": null,
   "outputs": [],
   "source": [
    "# 获取变量值\n",
    "tf2_variable.numpy()"
   ],
   "metadata": {
    "collapsed": false,
    "pycharm": {
     "name": "#%%\n"
    }
   }
  },
  {
   "cell_type": "code",
   "execution_count": null,
   "outputs": [],
   "source": [
    "# 改变特定值 只能在变量中时候用，因为constant不能被改变\n",
    "tf2_variable[0, 2].assign(100)"
   ],
   "metadata": {
    "collapsed": false,
    "pycharm": {
     "name": "#%%\n"
    }
   }
  },
  {
   "cell_type": "markdown",
   "source": [
    "## 张量运算"
   ],
   "metadata": {
    "collapsed": false
   }
  },
  {
   "cell_type": "code",
   "execution_count": null,
   "outputs": [],
   "source": [
    "# 首先声明一个常量张量, 既可以是常量张量，也可以是变量张量\n",
    "# 虽然constant原值不能被改变，但仍然可以参与运算\n",
    "tensor = tf.constant([[1,2], [3,4]])\n",
    "tensor"
   ],
   "metadata": {
    "collapsed": false,
    "pycharm": {
     "name": "#%%\n"
    }
   }
  },
  {
   "cell_type": "markdown",
   "source": [
    "## 张量的加法"
   ],
   "metadata": {
    "collapsed": false
   }
  },
  {
   "cell_type": "code",
   "execution_count": null,
   "outputs": [],
   "source": [
    "# 张量加一个简单的标量\n",
    "tensor + 2"
   ],
   "metadata": {
    "collapsed": false,
    "pycharm": {
     "name": "#%%\n"
    }
   }
  },
  {
   "cell_type": "markdown",
   "source": [
    "## 张量和标量的乘法"
   ],
   "metadata": {
    "collapsed": false
   }
  },
  {
   "cell_type": "code",
   "execution_count": null,
   "outputs": [],
   "source": [
    "tensor * 2"
   ],
   "metadata": {
    "collapsed": false,
    "pycharm": {
     "name": "#%%\n"
    }
   }
  },
  {
   "cell_type": "markdown",
   "source": [
    "## 使用numpy函数对张量进行运算"
   ],
   "metadata": {
    "collapsed": false
   }
  },
  {
   "cell_type": "code",
   "execution_count": null,
   "outputs": [],
   "source": [
    "# 对张量中的每个单元进行平方操作, 返回一个新张量\n",
    "np.square(tensor)"
   ],
   "metadata": {
    "collapsed": false,
    "pycharm": {
     "name": "#%%\n"
    }
   }
  },
  {
   "cell_type": "code",
   "execution_count": null,
   "outputs": [],
   "source": [
    "# 对张量中的每个单元进行开方操作，返回一个新张量\n",
    "np.sqrt(tensor)"
   ],
   "metadata": {
    "collapsed": false,
    "pycharm": {
     "name": "#%%\n"
    }
   }
  },
  {
   "cell_type": "markdown",
   "source": [
    "你还可以使用numpy的其他函数，比如指数、对数操作对张量进行计算"
   ],
   "metadata": {
    "collapsed": false
   }
  },
  {
   "cell_type": "markdown",
   "source": [
    "## 对两个张量进行点积运算\n",
    "\n"
   ],
   "metadata": {
    "collapsed": false
   }
  },
  {
   "cell_type": "code",
   "execution_count": null,
   "outputs": [],
   "source": [
    "tensor1 = tf.Variable([[1,2], [3,4]])\n",
    "tensor2 = tf.constant([[10,20],[30,40]])\n",
    "\n",
    "np.dot(tensor1, tensor2)"
   ],
   "metadata": {
    "collapsed": false,
    "pycharm": {
     "name": "#%%\n"
    }
   }
  },
  {
   "cell_type": "markdown",
   "source": [
    "![image](http://wp.lampta.com:8000/wp-content/uploads/2022/02/image-42.png)"
   ],
   "metadata": {
    "collapsed": false
   }
  },
  {
   "cell_type": "markdown",
   "source": [
    "![image](http://wp.lampta.com:8000/wp-content/uploads/2022/02/image-43.png)"
   ],
   "metadata": {
    "collapsed": false
   }
  },
  {
   "cell_type": "markdown",
   "source": [
    "## 字符串"
   ],
   "metadata": {
    "collapsed": false
   }
  },
  {
   "cell_type": "code",
   "execution_count": null,
   "outputs": [],
   "source": [
    "# 定义TF字符串常量 如果需要进行自然语言分析可能会用到字符串常量\n",
    "import tensorflow as tf\n",
    "tf_string = tf.constant(\"TensorFlow\")\n",
    "tf_string"
   ],
   "metadata": {
    "collapsed": false,
    "pycharm": {
     "name": "#%%\n"
    }
   }
  },
  {
   "cell_type": "markdown",
   "source": [
    "## 简单字符串运算"
   ],
   "metadata": {
    "collapsed": false
   }
  },
  {
   "cell_type": "code",
   "execution_count": null,
   "outputs": [],
   "source": [
    "# 计算tf string的长度\n",
    "tf.strings.length(tf_string)"
   ],
   "metadata": {
    "collapsed": false,
    "pycharm": {
     "name": "#%%\n"
    }
   }
  },
  {
   "cell_type": "code",
   "execution_count": null,
   "outputs": [],
   "source": [
    "# 对字符串进行unicode解码\n",
    "tf.strings.unicode_decode(tf_string, \"UTF8\")"
   ],
   "metadata": {
    "collapsed": false,
    "pycharm": {
     "name": "#%%\n"
    }
   }
  },
  {
   "cell_type": "markdown",
   "source": [
    "## 存储字符串数组"
   ],
   "metadata": {
    "collapsed": false
   }
  },
  {
   "cell_type": "code",
   "execution_count": null,
   "outputs": [],
   "source": [
    "# 如果你需要用Tensorflow做深度NLP，或简单的NLP，你可能会将字符串置入数组中\n",
    "tf_string_array = tf.constant([\"TensorFlow\", \"Deep Learning\", \"AI\"])\n",
    "print(tf_string_array)\n",
    "\n",
    "# 迭代TF字符串数组\n",
    "for string in tf_string_array:\n",
    "  print(string)"
   ],
   "metadata": {
    "collapsed": false,
    "pycharm": {
     "name": "#%%\n"
    }
   }
  },
  {
   "cell_type": "markdown",
   "source": [
    "# 人工神经网络"
   ],
   "metadata": {
    "collapsed": false
   }
  },
  {
   "cell_type": "markdown",
   "source": [
    "## Fashion MNIST数据集\n",
    "是一个典型的人工神经网络数据集\n",
    "数据集来源：https://www.kaggle.com\n",
    "![image.png](http://wp.lampta.com:8000/wp-content/uploads/2022/02/image-44.png)"
   ],
   "metadata": {
    "collapsed": false
   }
  },
  {
   "cell_type": "markdown",
   "source": [
    "Fashion MNIST 还是一个检测标准，用来测试你构建的神经网络的性能，在使用这个数据集进行训练后，将会得到一个准确率\n",
    "\n",
    "还可以与其他模型、其他结构的神经网络的准确率进行比较\n",
    "\n",
    "Fashion MNIST数据集包含70000幅图像，每幅图像尺寸为28*28, 每幅像素是784个\n",
    "\n",
    "包含训练集60,000 测试集 10,000\n",
    "\n",
    "包含的内容为\n",
    "0T恤\n",
    "1裤子\n",
    "2套衫\n",
    "3礼服\n",
    "4外套\n",
    "5凉鞋\n",
    "6衬衫\n",
    "7运动鞋\n",
    "8包\n",
    "9短靴\n",
    "\n",
    "使用这个数据集的目标是识别这些衣物\n",
    "\n",
    "神经网络的准确性 = 预测正确的总数 / 测试集中图像总数(10000)"
   ],
   "metadata": {
    "collapsed": false
   }
  },
  {
   "cell_type": "markdown",
   "source": [
    "784像素，是一个很重要的数字，神经网络的输入是一维的，是一个一维向量。\n",
    "\n",
    "而28*28是一个矩阵，所以需要把这个矩阵reshape成784个元素的一维向量。\n",
    "\n",
    "每一个像素的值都在 0-255之间，也就是我们的训练集和测试集都会有 785列， 每一列与图像中的一个像素对应。\n",
    "\n",
    "训练集和测试集中的行，就是图像，一行中的不同列，对应的就是一幅图像的每个像素"
   ],
   "metadata": {
    "collapsed": false
   }
  },
  {
   "cell_type": "code",
   "source": [
    "# 引入numpy\n",
    "import numpy as np\n",
    "# 获取训练中的时间信息\n",
    "import datetime\n",
    "import tensorflow as tf\n",
    "from tensorflow.keras.datasets import fashion_mnist\n"
   ],
   "metadata": {
    "collapsed": false,
    "pycharm": {
     "name": "#%%\n"
    }
   },
   "execution_count": null,
   "outputs": []
  },
  {
   "cell_type": "markdown",
   "source": [
    "## 数据预处理"
   ],
   "metadata": {
    "collapsed": false
   }
  },
  {
   "cell_type": "code",
   "execution_count": null,
   "outputs": [],
   "source": [
    "# 数据预处理就是将数据处理成神经网络可以接收的格式，包含【加载数据集】、【图像标准化、正态化】、【reshape数据集为一维向量格式】\n",
    "# reshape数据集为一维向量是【全连接神经网络】要求的格式\n",
    "\n",
    "# 1、加载数据集\n",
    "(X_train, y_train), (X_test, y_test) = fashion_mnist.load_data()\n",
    "\n",
    "# X_train 包含 60,000个二维数组，包含图像的所有像素\n",
    "# X_test 包含 10,000个二维数组，包含测试图像的所有像素\n",
    "# y_train 是分类信息，就是训练集的目标：识别一个图片的分类\n",
    "# y_test  是测试集的目标分类"
   ],
   "metadata": {
    "collapsed": false,
    "pycharm": {
     "name": "#%%\n"
    }
   }
  },
  {
   "cell_type": "code",
   "execution_count": null,
   "outputs": [],
   "source": [
    "# 2、图像标准化\n",
    "# 对图像标准化, 会加快神经网络的训练\n",
    "# 这里因为每个像素的范围是0-255，对图像进行标准化的方法就是，把每个像素值/255最大像素\n",
    "\n",
    "# 这里用到了上面讲的张量运算，就是一个张量除以一个标量\n",
    "X_train = X_train / 255.0\n",
    "X_test = X_test / 255.0\n",
    "\n",
    "# 图像的值就会在 0-1之间\n",
    "X_test[0]"
   ],
   "metadata": {
    "collapsed": false,
    "pycharm": {
     "name": "#%%\n"
    }
   }
  },
  {
   "cell_type": "code",
   "execution_count": null,
   "outputs": [],
   "source": [
    "# 3、Reshpe数据集为一维向量\n",
    "# X_train 和 X_test 都是三维数组，第1个维度是图像的下标，对应指向某一幅图像的索引。第2个维度是图像的每个像素的数组。\n",
    "# 现在要做的就是压平(flatten)每一幅图像，就是将X_train中的每一个二维数组(共计60,000个)转换成60,000个一维向量。\n",
    "# 将X_train 压平的结果就是将 三维数组转换成 二维数组，第1维度不变，第二维度是我们处理过的单一向量\n",
    "\n",
    "X_train = X_train.reshape(-1, 28*28)   # 第二个参数代表压平后希望新的X_train有28*28列\n",
    "X_train"
   ],
   "metadata": {
    "collapsed": false,
    "pycharm": {
     "name": "#%%\n"
    }
   }
  },
  {
   "cell_type": "code",
   "execution_count": null,
   "outputs": [],
   "source": [
    "# 60,000行 784列\n",
    "X_train.shape"
   ],
   "metadata": {
    "collapsed": false,
    "pycharm": {
     "name": "#%%\n"
    }
   }
  },
  {
   "cell_type": "code",
   "execution_count": null,
   "outputs": [],
   "source": [
    "# 再对测试集进行数据预处理\n",
    "X_test = X_test.reshape(-1, 28*28)\n",
    "\n",
    "X_test"
   ],
   "metadata": {
    "collapsed": false,
    "pycharm": {
     "name": "#%%\n"
    }
   }
  },
  {
   "cell_type": "markdown",
   "source": [
    "## 构建人工神经网络"
   ],
   "metadata": {
    "collapsed": false
   }
  },
  {
   "cell_type": "code",
   "execution_count": null,
   "outputs": [],
   "source": [
    "# 定义模型\n",
    "# 简单定义一个全链接神经网络模型, 全连接神经网络是稠密层的一个序列\n",
    "model = tf.keras.models.Sequential()\n",
    "\n",
    "# model基本上是被初始化为层的一个序列\n",
    "# 我们要做的是在model上一步一步添加神经网络的不同层"
   ],
   "metadata": {
    "collapsed": false,
    "pycharm": {
     "name": "#%%\n"
    }
   }
  },
  {
   "cell_type": "markdown",
   "source": [
    "## 增加第一个全链接隐藏层"
   ],
   "metadata": {
    "collapsed": false
   }
  },
  {
   "cell_type": "markdown",
   "source": [
    "层的超参数：\n",
    "  - 128个单位的神经元(units)\n",
    "  - 激活函数: ReLU, 用来破坏神经网络的线性, 以便神经网络可以学习图像像素和表示衣物分类输出之间的非线性关系\n",
    "  - 输入形状: (784,)"
   ],
   "metadata": {
    "collapsed": false
   }
  },
  {
   "cell_type": "code",
   "execution_count": null,
   "outputs": [],
   "source": [
    "model.add(tf.keras.layers.Dense(units=128, activation='relu', input_shape=(784,)))"
   ],
   "metadata": {
    "collapsed": false,
    "pycharm": {
     "name": "#%%\n"
    }
   }
  }
 ],
 "metadata": {
  "colab": {
   "collapsed_sections": [],
   "name": "欢迎使用 Colaboratory",
   "toc_visible": true,
   "provenance": [],
   "include_colab_link": true
  },
  "kernelspec": {
   "display_name": "Python 3",
   "name": "python3"
  }
 },
 "nbformat": 4,
 "nbformat_minor": 0
}