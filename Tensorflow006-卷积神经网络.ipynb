{
 "cells": [
  {
   "cell_type": "markdown",
   "metadata": {
    "collapsed": false
   },
   "source": [
    "# 大纲"
   ]
  },
  {
   "cell_type": "markdown",
   "metadata": {
    "collapsed": false,
    "pycharm": {
     "name": "#%% md\n"
    }
   },
   "source": [
    "- 什么是卷积神经网络(Convolutional Neural Networks)\n",
    "- 卷积运算(Convolution Operation)、特征探测器(detector)、过滤器(feature filter)、特征图(feature map)\n",
    "- 整流层(ReLU Layer): 整流线性单元(Rectified linear unit), 对于图像识别, 线性是不好的, 需要让神经网络具有更多的非线性特性\n",
    "- 池化(Pooling): 最大池化(max pooling)、平均池化(average pooling)、求和(sum pooling)\n",
    "- 扁平化(Flatting): 如何从 池化层 到 扁平层\n",
    "- 全链接(Full Connection)\n",
    "- 总结\n",
    "- 额外补充: 归一化指数函数(Softmax) 和 交叉熵(Cross-Entropy)"
   ]
  },
  {
   "cell_type": "markdown",
   "metadata": {
    "collapsed": false
   },
   "source": [
    "# 卷积神经网络"
   ]
  },
  {
   "cell_type": "markdown",
   "metadata": {
    "collapsed": false
   },
   "source": [
    "![](http://wp.lampta.com:8000/wp-content/uploads/2022/02/image-64.png)"
   ]
  },
  {
   "cell_type": "markdown",
   "metadata": {
    "collapsed": false,
    "pycharm": {
     "name": "#%% md\n"
    }
   },
   "source": [
    "在我们大脑看到上面这幅图片时, 图中的男士在看着你还是看着右边，这取决于你看到的图片特征。\n",
    "如果你看男士的左边，根据你所看到的特征，你可能会判定他在看着你；\n",
    "如果你看男士的右边特征，你可能会判定他在看右边。"
   ]
  },
  {
   "cell_type": "markdown",
   "metadata": {
    "collapsed": false
   },
   "source": [
    "![](http://wp.lampta.com:8000/wp-content/uploads/2022/02/image-65.png)"
   ]
  },
  {
   "cell_type": "markdown",
   "metadata": {
    "collapsed": false,
    "pycharm": {
     "name": "#%% md\n"
    }
   },
   "source": [
    "图中是一个老妇还是一个少女回头，也同样取决与你大脑接受到的特征重点在哪些地方。"
   ]
  },
  {
   "cell_type": "markdown",
   "metadata": {
    "collapsed": false
   },
   "source": [
    "![](http://wp.lampta.com:8000/wp-content/uploads/2022/02/image-66.png)\n",
    "\n",
    "图中根据局部特征, 似乎是位女士，但是，全局看上去又不是，大脑对这张图可能产生一种混乱感。"
   ]
  },
  {
   "cell_type": "markdown",
   "metadata": {
    "collapsed": false,
    "pycharm": {
     "name": "#%% md\n"
    }
   },
   "source": [
    "而卷积神经网络会做你大脑类似的事情，它与人类分析图片的过程非常相似。"
   ]
  },
  {
   "cell_type": "markdown",
   "metadata": {
    "collapsed": false
   },
   "source": [
    "## 一个神经网络猜测分类的测试"
   ]
  },
  {
   "cell_type": "markdown",
   "metadata": {
    "collapsed": false,
    "pycharm": {
     "name": "#%% md\n"
    }
   },
   "source": [
    "![](http://wp.lampta.com:8000/wp-content/uploads/2022/02/image-67.png)\n",
    "- 第一张正确答案是猎豹, 计算机给出了几个猜测以及对应的概率， 猎豹的概率最大，其他还可能是 美洲豹、雪豹、埃及猫\n",
    "- 第二张正确答案是子弹头列车, 计算机给出了几个猜测，按概率从大到小分别为：子弹头列车、小轿车、地铁、电气机车\n",
    "- 第三张正确答案是放大镜，计算机给出的猜测从大到小：剪刀、放大镜、煎锅、听诊器"
   ]
  },
  {
   "cell_type": "markdown",
   "metadata": {
    "collapsed": false
   },
   "source": [
    "根据Google Trends的统计，CNN基本上已经超过了ANN的应用数，原因是CNN已经应用到各个领域比如自动驾驶、识别行人、识别停车标志、Facebook如何标记图像中的人"
   ]
  },
  {
   "cell_type": "markdown",
   "metadata": {
    "collapsed": false
   },
   "source": [
    "## CNN的简单图示"
   ]
  },
  {
   "cell_type": "markdown",
   "metadata": {
    "collapsed": false
   },
   "source": [
    "![](https://pic1.zhimg.com/80/v2-e25de75f0663fc2b8522a52b0b513d7c_720w.png)"
   ]
  },
  {
   "cell_type": "markdown",
   "metadata": {
    "collapsed": false
   },
   "source": [
    "上面是对于CNN最简单的描述: 输入一张图片，经过CNN网络，然后得到图片的分类"
   ]
  },
  {
   "cell_type": "markdown",
   "metadata": {
    "collapsed": false
   },
   "source": [
    "比如你输入的是一张微笑的人脸照，输出他的情绪分类："
   ]
  },
  {
   "cell_type": "markdown",
   "metadata": {
    "collapsed": false
   },
   "source": [
    "![](https://pic3.zhimg.com/80/v2-9e28f685de79e1d5b1487afefc26e007_720w.png)\n",
    "![](https://pic3.zhimg.com/80/v2-9235cf051997e7be3a8e8b1fce835baa_720w.png)"
   ]
  },
  {
   "cell_type": "markdown",
   "metadata": {
    "collapsed": false
   },
   "source": [
    "## 计算机对与图片的认知"
   ]
  },
  {
   "cell_type": "markdown",
   "metadata": {
    "collapsed": false
   },
   "source": [
    "![](https://pic1.zhimg.com/80/v2-a10f62e66846011d4ca605d73d20473b_720w.png)"
   ]
  },
  {
   "cell_type": "markdown",
   "metadata": {
    "collapsed": false
   },
   "source": [
    "- 对于黑白图片:\n",
    "  计算机会将其理解为一个2d数组, 第一维度,是图片像素的位置, 第二维度, 是图片像素值(0-255), 灰度\n",
    "\n",
    "- 对于彩色图片:\n",
    "  计算机会将其理解为一个3d数组, 第一维度一致，第二维度, 是对应得红蓝绿通道值得数组，第三个维度是红蓝绿的具体值(0-255) 也就是一个像素有三个值"
   ]
  },
  {
   "cell_type": "markdown",
   "metadata": {
    "collapsed": false
   },
   "source": [
    "## 极端简化"
   ]
  },
  {
   "cell_type": "markdown",
   "metadata": {
    "collapsed": false
   },
   "source": [
    "![](https://pic1.zhimg.com/80/v2-75d8b135a4afeb5f06c7259f1b549ac0_720w.png)"
   ]
  },
  {
   "cell_type": "markdown",
   "metadata": {
    "collapsed": false
   },
   "source": [
    "如果你将笑脸极端简化，白色是0 黑色是1, 你就会得到一个极其简化的数组来表示这副图片\n",
    "这就是图片的解构"
   ]
  },
  {
   "cell_type": "markdown",
   "metadata": {
    "collapsed": false
   },
   "source": [
    "## 卷积处理的步骤"
   ]
  },
  {
   "cell_type": "markdown",
   "metadata": {
    "collapsed": false
   },
   "source": [
    "![](https://pic3.zhimg.com/80/v2-84253de733ce5e82b13419f36f78d350_720w.png)"
   ]
  },
  {
   "cell_type": "markdown",
   "metadata": {
    "collapsed": false
   },
   "source": [
    "卷积 -> 最大池化 -> 压平 -> 全链接"
   ]
  },
  {
   "cell_type": "markdown",
   "metadata": {
    "collapsed": false,
    "pycharm": {
     "name": "#%% md\n"
    }
   },
   "source": [
    "# 额外阅读"
   ]
  },
  {
   "cell_type": "markdown",
   "metadata": {
    "collapsed": false
   },
   "source": [
    "这是Yann LeCun让卷积神经网络兴起的一篇论文：\n",
    "基于梯度学习在文档识别中的应用 - Gradient-Based Learning Applied to Document Recognition\n",
    "\n",
    "链接: [Link](http://yann.lecun.com/exdb/publis/pdf/lecun-01a.pdf)"
   ]
  }
 ],
 "metadata": {
  "kernelspec": {
   "display_name": "Python 3",
   "language": "python",
   "name": "python3"
  },
  "language_info": {
   "codemirror_mode": {
    "name": "ipython",
    "version": 2
   },
   "file_extension": ".py",
   "mimetype": "text/x-python",
   "name": "python",
   "nbconvert_exporter": "python",
   "pygments_lexer": "ipython2",
   "version": "2.7.6"
  }
 },
 "nbformat": 4,
 "nbformat_minor": 0
}
