{
 "cells": [
  {
   "cell_type": "markdown",
   "source": [
    "## 线性整流函数 - ReLU"
   ],
   "metadata": {
    "collapsed": false
   }
  },
  {
   "cell_type": "markdown",
   "source": [
    "通常，卷积运算和整流函数合并成为一个大操作。"
   ],
   "metadata": {
    "collapsed": false
   }
  },
  {
   "cell_type": "markdown",
   "source": [
    "## 整流函数的作用"
   ],
   "metadata": {
    "collapsed": false
   }
  },
  {
   "cell_type": "markdown",
   "source": [
    "去除图中的线性, 提高神经网络的非线性。\n",
    "另一种表述方式就是：过滤及打破神经网络的线性"
   ],
   "metadata": {
    "collapsed": false
   }
  },
  {
   "cell_type": "markdown",
   "source": [
    "## 为何需要提高神经网络的非线性"
   ],
   "metadata": {
    "collapsed": false
   }
  },
  {
   "cell_type": "markdown",
   "source": [
    "原因是图片是非线性的，比如说，图片中两物体的相邻像素，通常在不同时刻或不同环境下，有着不同的像素值或者称为颜色。"
   ],
   "metadata": {
    "collapsed": false
   }
  },
  {
   "cell_type": "markdown",
   "source": [
    "## 卷积与整流的结合"
   ],
   "metadata": {
    "collapsed": false
   }
  },
  {
   "cell_type": "markdown",
   "source": [
    "![](https://pic1.zhimg.com/80/v2-db671f6182879be24fc9722338c0e437_720w.png)"
   ],
   "metadata": {
    "collapsed": false
   }
  },
  {
   "cell_type": "markdown",
   "source": [
    "## 线性与非线性"
   ],
   "metadata": {
    "collapsed": false
   }
  },
  {
   "cell_type": "markdown",
   "source": [
    "![](https://pic2.zhimg.com/80/v2-43c5d3a46880479686588cc17470a985_720w.png)"
   ],
   "metadata": {
    "collapsed": false
   }
  },
  {
   "cell_type": "markdown",
   "source": [
    "我们有一张原始图片, 现在对这张图片使用特征探测器进行探测, 得到以下特征图"
   ],
   "metadata": {
    "collapsed": false
   }
  },
  {
   "cell_type": "markdown",
   "source": [
    "![](https://pic1.zhimg.com/80/v2-e24592139266b976a9a6f52c22c1ac12_720w.png)"
   ],
   "metadata": {
    "collapsed": false
   }
  },
  {
   "cell_type": "markdown",
   "source": [
    "当使用特征探测器时, 通常它的值不会只有0和1，可能出现各种值，也可能出现负数\n",
    "在此图中, 黑色代表负数, 白色代表正数;\n",
    "\n",
    "在此图中, 建筑与建筑存在着阴影关系，它从白色过渡到灰色，再过渡到黑色，保持了一种线性关系"
   ],
   "metadata": {
    "collapsed": false
   }
  },
  {
   "cell_type": "markdown",
   "source": [
    "根据整流函数的特性, 它要做的就是, 去除负数的特征值，保留了正数部分的特征值："
   ],
   "metadata": {
    "collapsed": false
   }
  },
  {
   "cell_type": "markdown",
   "source": [
    "![](https://pica.zhimg.com/80/v2-e5bd87b6099a0a83c0e9534387996183_720w.png)"
   ],
   "metadata": {
    "collapsed": false
   }
  },
  {
   "cell_type": "markdown",
   "source": [
    "打破了特征图的线性"
   ],
   "metadata": {
    "collapsed": false
   }
  },
  {
   "cell_type": "markdown",
   "source": [
    "## 线性和非线性的技术性解释"
   ],
   "metadata": {
    "collapsed": false
   }
  },
  {
   "cell_type": "markdown",
   "source": [
    "Understanding Convolutional Neural Networks with A Mathematical Model\n",
    "使用数学模型理解卷积神经网络\n",
    "\n",
    "By C.-C. Jay Kuo(2016)\n",
    "\n",
    "Link: [连接](https://arxiv.org/pdf/1609.04112.pdf)\n",
    "\n",
    "![](https://pic1.zhimg.com/80/v2-53d1d7233b336da6f6c8dbd2ad9f4cf9_720w.png)\n",
    "\n",
    "这篇文章主要回答了：\n",
    "为什么非线性激活函数对中间层的过滤器输出至关重要，从数学方向上解释了线性/非线性\n",
    "\n",
    "\n",
    "Delving Deep into Rectifiers: Surpassing Human-Level Performance on ImageNet Classification\n",
    "深入研究整流器:在图像网络分类上超越人类水平的性能\n",
    "\n",
    "By Kaiming He\n",
    "\n",
    "Link: [连接](https://arxiv.org/pdf/1502.01852.pdf)\n",
    "\n",
    "![](https://pic1.zhimg.com/80/v2-9ee53e140b2631e8fa991ca370aa3670_720w.png)\n",
    "\n",
    "这篇文章主要提出了一种带参数的整流线性单元(图右), 并声称这个函数输出了更好的结果"
   ],
   "metadata": {
    "collapsed": false,
    "pycharm": {
     "name": "#%% md\n"
    }
   }
  }
 ],
 "metadata": {
  "kernelspec": {
   "display_name": "Python 3",
   "language": "python",
   "name": "python3"
  },
  "language_info": {
   "codemirror_mode": {
    "name": "ipython",
    "version": 2
   },
   "file_extension": ".py",
   "mimetype": "text/x-python",
   "name": "python",
   "nbconvert_exporter": "python",
   "pygments_lexer": "ipython2",
   "version": "2.7.6"
  }
 },
 "nbformat": 4,
 "nbformat_minor": 0
}