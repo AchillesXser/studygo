{
 "cells": [
  {
   "cell_type": "markdown",
   "source": [
    "#向前传播"
   ],
   "metadata": {
    "collapsed": false
   }
  },
  {
   "cell_type": "markdown",
   "source": [
    "![](http://wp.lampta.com:8000/wp-content/uploads/2022/02/image-62.png)"
   ],
   "metadata": {
    "collapsed": false
   }
  },
  {
   "cell_type": "markdown",
   "source": [
    "所谓向前传播, 就是输入参数经过隐藏层然后到达输入层，得到预测值y-hat, 然后与真实值比较得出误差的过程"
   ],
   "metadata": {
    "collapsed": false
   }
  },
  {
   "cell_type": "markdown",
   "source": [
    "# 反向传播"
   ],
   "metadata": {
    "collapsed": false
   }
  },
  {
   "cell_type": "markdown",
   "source": [
    "这些得出的误差, 会反向传播回到神经网络, 然后通过调整权重来训练神经网络"
   ],
   "metadata": {
    "collapsed": false
   }
  },
  {
   "cell_type": "markdown",
   "source": [
    "![](http://wp.lampta.com:8000/wp-content/uploads/2022/02/image-63.png)"
   ],
   "metadata": {
    "collapsed": false
   }
  },
  {
   "cell_type": "markdown",
   "source": [
    "反向传播算法允许你同时调整所有的权重, 你可以知道误差的那一部分, 是由神经网络的哪个权重引起的"
   ],
   "metadata": {
    "collapsed": false
   }
  }
 ],
 "metadata": {
  "kernelspec": {
   "display_name": "Python 3",
   "language": "python",
   "name": "python3"
  },
  "language_info": {
   "codemirror_mode": {
    "name": "ipython",
    "version": 2
   },
   "file_extension": ".py",
   "mimetype": "text/x-python",
   "name": "python",
   "nbconvert_exporter": "python",
   "pygments_lexer": "ipython2",
   "version": "2.7.6"
  }
 },
 "nbformat": 4,
 "nbformat_minor": 0
}