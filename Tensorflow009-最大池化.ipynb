{
 "cells": [
  {
   "cell_type": "markdown",
   "source": [
    "## 空间不变性"
   ],
   "metadata": {
    "collapsed": false
   }
  },
  {
   "cell_type": "markdown",
   "source": [
    "![](https://pic3.zhimg.com/80/v2-c31b4d9519effb7c2791d6b3b6b11fbc_720w.png)"
   ],
   "metadata": {
    "collapsed": false
   }
  },
  {
   "cell_type": "markdown",
   "source": [
    "这三张图是同一只猎豹, 但是第二张经过旋转，第三张经过拉伸，猎豹的特征，在空间上是不一致的。"
   ],
   "metadata": {
    "collapsed": false
   }
  },
  {
   "cell_type": "markdown",
   "source": [
    "![](https://pic3.zhimg.com/80/v2-244a32178a1d7fa5cd13f85e721ac5cc_720w.png)"
   ],
   "metadata": {
    "collapsed": false
   }
  },
  {
   "cell_type": "markdown",
   "source": [
    "我们想象一下，如果我们关注猎豹的泪纹(眼睛下方), 在上面每张图片中, 有的在右边，有的在左边，有的在中间，有的远有的近。\n",
    "所以我们需要一种技术来保持特征在空间上的不变性，就是池化，以维持神经网络的弹性。"
   ],
   "metadata": {
    "collapsed": false
   }
  },
  {
   "cell_type": "markdown",
   "source": [
    "## 池化"
   ],
   "metadata": {
    "collapsed": false
   }
  },
  {
   "cell_type": "markdown",
   "source": [
    "池化分为: 平均池化、最大池化、部分池化"
   ],
   "metadata": {
    "collapsed": false
   }
  },
  {
   "cell_type": "markdown",
   "source": [
    "最大池化的过程："
   ],
   "metadata": {
    "collapsed": false
   }
  },
  {
   "cell_type": "markdown",
   "source": [
    "![](https://pic2.zhimg.com/80/v2-e3b61c50a667586cc9155a0eb4ac8d29_720w.gif)"
   ],
   "metadata": {
    "collapsed": false
   }
  },
  {
   "cell_type": "markdown",
   "source": [
    "上图我们选择2*2池化(可以是其他规格), 步长为2\n",
    "池化的规则是, 我们找到池化区域(2*2)的最大值, 然后丢弃其他三个值, 放到\"池化后特征图\"中的对应位置上。然后一次类推"
   ],
   "metadata": {
    "collapsed": false,
    "pycharm": {
     "name": "#%% md\n"
    }
   }
  },
  {
   "cell_type": "markdown",
   "source": [
    "池化保留下了一个区域(2*2)中最显著的那个特征, 删除了相对次要的其他75%的特征，默认为不重要的。"
   ],
   "metadata": {
    "collapsed": false
   }
  },
  {
   "cell_type": "markdown",
   "source": [
    "经过了池化，我们对图像的形变多了一些容忍度。对于特征空间位置也有了一定程度的灵活性。同时缩小了75%特征图的尺寸，缩减了输入参数, 避免了过拟合。"
   ],
   "metadata": {
    "collapsed": false
   }
  },
  {
   "cell_type": "markdown",
   "source": [
    "## 为什么是2*2? 为什么设置步长为2?"
   ],
   "metadata": {
    "collapsed": false
   }
  },
  {
   "cell_type": "markdown",
   "source": [
    "Evaluation of Pooling Operations in Convolutional Architectures for Object Recognition\n",
    "用于对象识别的卷积体系结构的池化操作评估\n",
    "\n",
    "By Dominik Scherer et al. (2010)\n",
    "\n",
    "Link: [链接](http://ais.uni-bonn.de/papers/icann2010_maxpool.pdf)\n",
    "\n",
    "![](https://pic3.zhimg.com/80/v2-53248bb92e38a0def1fccd0d1c8847f6_720w.png)\n",
    "\n",
    "其中有一个概念叫: “子采样(sub-sampling)” 就是 平均池化"
   ],
   "metadata": {
    "collapsed": false
   }
  },
  {
   "cell_type": "markdown",
   "source": [
    "## 到目前为止"
   ],
   "metadata": {
    "collapsed": false
   }
  },
  {
   "cell_type": "markdown",
   "source": [
    "![](https://pic2.zhimg.com/80/v2-c76a97c084f4aebb69e4c9521c9becb0_720w.png)"
   ],
   "metadata": {
    "collapsed": false
   }
  },
  {
   "cell_type": "markdown",
   "source": [
    "我们通过输入图像, 然后对输入进行卷积运算, 得到卷积层的特征图, 然后经过池化, 得到池化后的特征图"
   ],
   "metadata": {
    "collapsed": false
   }
  },
  {
   "cell_type": "markdown",
   "source": [
    "## 直观地看到卷积、池化、全链接的过程"
   ],
   "metadata": {
    "collapsed": false
   }
  },
  {
   "cell_type": "markdown",
   "source": [
    "[2D可视化卷积网址](https://www.cs.ryerson.ca/~aharley/vis/conv/flat.html)"
   ],
   "metadata": {
    "collapsed": false
   }
  },
  {
   "cell_type": "markdown",
   "source": [
    "上面这个工具只对 0-9数字进行过训练"
   ],
   "metadata": {
    "collapsed": false
   }
  },
  {
   "cell_type": "markdown",
   "source": [
    "![](https://pic3.zhimg.com/80/v2-822135981238424bccc854ae0c6d50c8_720w.png)"
   ],
   "metadata": {
    "collapsed": false,
    "pycharm": {
     "name": "#%% md\n"
    }
   }
  },
  {
   "cell_type": "markdown",
   "source": [
    "![](https://pic3.zhimg.com/80/v2-7973fe585d1c49f0aefe884ad1e9f7f8_720w.png)"
   ],
   "metadata": {
    "collapsed": false
   }
  },
  {
   "cell_type": "markdown",
   "source": [
    "如果你选择某一个卷积层的像素, 它会告诉你, 这个像素是从原图的哪些特征提取出来的。\n",
    "正如你在池化层所看到的, 这个神经网络也是用的2*2的池化规格，并且步长为2"
   ],
   "metadata": {
    "collapsed": false
   }
  },
  {
   "cell_type": "markdown",
   "source": [
    "![](https://pic1.zhimg.com/80/v2-3678572f6454de0bdfee736ac222920c_720w.png)"
   ],
   "metadata": {
    "collapsed": false
   }
  }
 ],
 "metadata": {
  "kernelspec": {
   "display_name": "Python 3",
   "language": "python",
   "name": "python3"
  },
  "language_info": {
   "codemirror_mode": {
    "name": "ipython",
    "version": 2
   },
   "file_extension": ".py",
   "mimetype": "text/x-python",
   "name": "python",
   "nbconvert_exporter": "python",
   "pygments_lexer": "ipython2",
   "version": "2.7.6"
  }
 },
 "nbformat": 4,
 "nbformat_minor": 0
}