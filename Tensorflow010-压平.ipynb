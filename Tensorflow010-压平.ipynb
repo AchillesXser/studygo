{
 "cells": [
  {
   "cell_type": "markdown",
   "source": [
    "## 压平的过程"
   ],
   "metadata": {
    "collapsed": false
   }
  },
  {
   "cell_type": "markdown",
   "source": [
    "![](https://pic2.zhimg.com/80/v2-8309fefcafda9601de6c12ce32aa0e6a_720w.png)"
   ],
   "metadata": {
    "collapsed": false
   }
  },
  {
   "cell_type": "markdown",
   "source": [
    "实际上压平就是将【池化特征图】逐行逐个读取成一列数据，这么做的目的是之后会将压平的数据作为输入神经元的参数，来做进一步的分析处理。"
   ],
   "metadata": {
    "collapsed": false
   }
  },
  {
   "cell_type": "markdown",
   "source": [
    "如果你有一系列池化特征图，你将会一一把他们压平成一个长列，按照顺序, 一个接一个。"
   ],
   "metadata": {
    "collapsed": false
   }
  },
  {
   "cell_type": "markdown",
   "source": [
    "![](https://pica.zhimg.com/80/v2-b34326e3b6c37ca7cc48ca8e4e2c58bf_720w.png)"
   ],
   "metadata": {
    "collapsed": false
   }
  },
  {
   "cell_type": "markdown",
   "source": [
    "压平后，你得到了一个很大的，之后将输入到神经网络的【输入向量】"
   ],
   "metadata": {
    "collapsed": false
   }
  },
  {
   "cell_type": "markdown",
   "source": [
    "## 总结"
   ],
   "metadata": {
    "collapsed": false
   }
  },
  {
   "cell_type": "markdown",
   "source": [
    "![](https://pic1.zhimg.com/80/v2-a5f17ee9b44cb118dcf8fcc8c4fd3d05_720w.png)"
   ],
   "metadata": {
    "collapsed": false
   }
  }
 ],
 "metadata": {
  "kernelspec": {
   "display_name": "Python 3",
   "language": "python",
   "name": "python3"
  },
  "language_info": {
   "codemirror_mode": {
    "name": "ipython",
    "version": 2
   },
   "file_extension": ".py",
   "mimetype": "text/x-python",
   "name": "python",
   "nbconvert_exporter": "python",
   "pygments_lexer": "ipython2",
   "version": "2.7.6"
  }
 },
 "nbformat": 4,
 "nbformat_minor": 0
}